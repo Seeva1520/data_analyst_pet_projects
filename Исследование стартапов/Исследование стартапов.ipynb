{
 "cells": [
  {
   "cell_type": "markdown",
   "metadata": {},
   "source": [
    "# Исследовательский анализ инвестиционного рынка\n",
    "Выполнил: Клементьев В.Д  \n",
    "Дата: 20.03.25"
   ]
  },
  {
   "cell_type": "markdown",
   "metadata": {},
   "source": [
    "## Цели и задачи проекта \n",
    "Провести комплексный анализ рынка инвестиций в стартапы, выявить ключевые тенденции в финансировании, определить наиболее перспективные отрасли и сформулировать рекомендации для инвесторов на основе данных."
   ]
  },
  {
   "cell_type": "markdown",
   "metadata": {},
   "source": [
    "## Описание данных  \n",
    "`acquisition.csv` - информация о покупках одними компаниями других компаний  \n",
    "`company_and_rounds.csv` - информация о компаниях и раундах финансирования  \n",
    "`education.csv` - информация об образовании сотрудников  \n",
    "`people.csv` - информация о сотрудниках  \n",
    "`degrees.csv` - информация о типе образования сотрудника\n",
    "\n",
    "Описание датасета `acquisition.csv`:  \n",
    "    `id` — идентификатор покупки.  \n",
    "    `acquiring_company_id` — идентификатор покупающей компании.  \n",
    "    `acquired_company_id` — идентификатор покупаемой компании.  \n",
    "    `term_code` — варианты расчёта.  \n",
    "    `price_amount` — сумма сделки.  \n",
    "    `acquired_at` — дата сделки.\n",
    "\n",
    "Описание датасета `company_and_rounds.csv`:  \n",
    "    `company ID` — идентификатор компании.  \n",
    "    `name` — название компании.  \n",
    "    `category code` — категория области деятельности компании.  \n",
    "    `status` — статус компании.  \n",
    "    `founded at` — дата инвестирования.  \n",
    "    `closed at` — дата закрытия компании.  \n",
    "    `domain` — официальный сайт компании.  \n",
    "    `network username` — ник компании в сети.  \n",
    "    `country code` — код страны компании.  \n",
    "    `investment rounds` — число инвестиционных раундов.  \n",
    "    `funding rounds` — число раундов финансирования.  \n",
    "    `funding total` — сумма финансирования.  \n",
    "    `milestones` — вехи финансирования.  \n",
    "    `funding round id`— идентификатор этапа финансирования.  \n",
    "    `company id` — идентификатор компании.  \n",
    "    `funded at` — дата финансирования.  \n",
    "    `funding round type` — тип финансирования.  \n",
    "    `raised amount` — сумма финансирования.  \n",
    "    `pre money valuation`— предварительная денежная оценка.  \n",
    "    `participants` — число участников.  \n",
    "    `is first round` — является ли раунд первым.  \n",
    "    `is last round` — является раунд последним.  \n",
    "\n",
    "Описание датасета `education`:  \n",
    "    `id` — идентификатор записи об образовании.  \n",
    "    `person_id` — идентификатор работника.  \n",
    "    `instituition` — название учебного заведения.  \n",
    "    `graduated_at` — дата получения образования.\n",
    "\n",
    "Описание датасета `people`:  \n",
    "    `id` — идентификатор сотрудника.  \n",
    "    `first_name` — имя сотрудника.  \n",
    "    `last_name` — фамилия сотрудника.  \n",
    "    `company_id` — идентификатор компании.  \n",
    "    `network_username` — ник в социальных сетях.\n",
    "\n",
    "Описание датасета `degrees`:  \n",
    "    `id` — идентификатор записи.  \n",
    "    `object_id` — идентификатор сотрудника.  \n",
    "    `degree_type` — тип образования.  \n",
    "    `subject` — специальность.  "
   ]
  },
  {
   "cell_type": "markdown",
   "metadata": {},
   "source": [
    "## Содержание проекта\n",
    "1. Знакомство с данными: загрузка и первичная предобработка\n",
    "2. Предобработка данных, предварительное исследование\n",
    "3. Исследовательский анализ объединённых таблиц\n",
    "4. Итоговый вывод и рекомендации"
   ]
  },
  {
   "cell_type": "markdown",
   "metadata": {},
   "source": [
    "## Знакомство с данными: загрузка и первичная предобработка \n",
    "\n",
    "Начнём с загрузки библиотек и датасетов. Будем использовать pandas и библиотеки визуализации данных matplotlib и seaborn. Данные датасетов сохраним в переменных: `acq_df`, `company_rounds_df`, `ed_df`, `people_df` и `degrees_df`."
   ]
  },
  {
   "cell_type": "code",
   "execution_count": 192,
   "metadata": {
    "trusted": true
   },
   "outputs": [],
   "source": [
    "# Импортируем библиотеки\n",
    "import pandas as pd\n",
    "\n",
    "# Загружаем библиотеки для визуализации данных\n",
    "import matplotlib.pyplot as plt\n",
    "import seaborn as sns\n",
    "\n",
    "# Импорт функции для создания диаграммы Венна\n",
    "from matplotlib_venn import venn2"
   ]
  },
  {
   "cell_type": "code",
   "execution_count": 193,
   "metadata": {
    "trusted": true
   },
   "outputs": [],
   "source": [
    "# Присваиваем переменной строку с повторяющимся путём для улучшения читаемости кода\n",
    "PATH = 'https://code.s3.yandex.net/datasets/'\n",
    "\n",
    "# Выгружаем данные в переменные\n",
    "try:\n",
    "    # Попытка загрузить файлы локально\n",
    "    acq_df = pd.read_csv('acquisition.csv')\n",
    "    company_rounds_df = pd.read_csv('company_and_rounds.csv')\n",
    "    ed_df = pd.read_csv('education.csv')\n",
    "    people_df = pd.read_csv('people.csv')\n",
    "    degrees_df = pd.read_csv('degrees.csv')\n",
    "except FileNotFoundError:\n",
    "    # Если локальные файлы не найдены, загружаем файлы с платформы\n",
    "    acq_df = pd.read_csv(PATH + 'acquisition.csv')\n",
    "    company_rounds_df = pd.read_csv(PATH + 'company_and_rounds.csv')\n",
    "    ed_df = pd.read_csv(PATH + 'education.csv')\n",
    "    people_df = pd.read_csv(PATH + 'people.csv')\n",
    "    degrees_df = pd.read_csv(PATH + 'degrees.csv')\n",
    "\n",
    "# Настраиваем формат отображения чисел\n",
    "pd.set_option('display.float_format', '{:,.2f}'.format)"
   ]
  },
  {
   "cell_type": "markdown",
   "metadata": {},
   "source": [
    "Познакомимся с данными датасетов — выведем первые строки методом `head()` и информацию методом `info()`:"
   ]
  },
  {
   "cell_type": "code",
   "execution_count": 194,
   "metadata": {
    "trusted": true
   },
   "outputs": [
    {
     "data": {
      "text/html": [
       "<div>\n",
       "<style scoped>\n",
       "    .dataframe tbody tr th:only-of-type {\n",
       "        vertical-align: middle;\n",
       "    }\n",
       "\n",
       "    .dataframe tbody tr th {\n",
       "        vertical-align: top;\n",
       "    }\n",
       "\n",
       "    .dataframe thead th {\n",
       "        text-align: right;\n",
       "    }\n",
       "</style>\n",
       "<table border=\"1\" class=\"dataframe\">\n",
       "  <thead>\n",
       "    <tr style=\"text-align: right;\">\n",
       "      <th></th>\n",
       "      <th>id</th>\n",
       "      <th>acquiring_company_id</th>\n",
       "      <th>acquired_company_id</th>\n",
       "      <th>term_code</th>\n",
       "      <th>price_amount</th>\n",
       "      <th>acquired_at</th>\n",
       "    </tr>\n",
       "  </thead>\n",
       "  <tbody>\n",
       "    <tr>\n",
       "      <th>0</th>\n",
       "      <td>1</td>\n",
       "      <td>11</td>\n",
       "      <td>10</td>\n",
       "      <td>NaN</td>\n",
       "      <td>20000000</td>\n",
       "      <td>2007-05-30</td>\n",
       "    </tr>\n",
       "    <tr>\n",
       "      <th>1</th>\n",
       "      <td>7</td>\n",
       "      <td>59</td>\n",
       "      <td>72</td>\n",
       "      <td>cash</td>\n",
       "      <td>60000000</td>\n",
       "      <td>2007-07-01</td>\n",
       "    </tr>\n",
       "    <tr>\n",
       "      <th>2</th>\n",
       "      <td>8</td>\n",
       "      <td>24</td>\n",
       "      <td>132</td>\n",
       "      <td>cash</td>\n",
       "      <td>280000000</td>\n",
       "      <td>2007-05-01</td>\n",
       "    </tr>\n",
       "    <tr>\n",
       "      <th>3</th>\n",
       "      <td>9</td>\n",
       "      <td>59</td>\n",
       "      <td>155</td>\n",
       "      <td>cash</td>\n",
       "      <td>100000000</td>\n",
       "      <td>2007-06-01</td>\n",
       "    </tr>\n",
       "    <tr>\n",
       "      <th>4</th>\n",
       "      <td>10</td>\n",
       "      <td>212</td>\n",
       "      <td>215</td>\n",
       "      <td>cash</td>\n",
       "      <td>25000000</td>\n",
       "      <td>2007-07-01</td>\n",
       "    </tr>\n",
       "  </tbody>\n",
       "</table>\n",
       "</div>"
      ],
      "text/plain": [
       "   id  acquiring_company_id  acquired_company_id term_code  price_amount  \\\n",
       "0   1                    11                   10       NaN      20000000   \n",
       "1   7                    59                   72      cash      60000000   \n",
       "2   8                    24                  132      cash     280000000   \n",
       "3   9                    59                  155      cash     100000000   \n",
       "4  10                   212                  215      cash      25000000   \n",
       "\n",
       "  acquired_at  \n",
       "0  2007-05-30  \n",
       "1  2007-07-01  \n",
       "2  2007-05-01  \n",
       "3  2007-06-01  \n",
       "4  2007-07-01  "
      ]
     },
     "execution_count": 194,
     "metadata": {},
     "output_type": "execute_result"
    }
   ],
   "source": [
    "# Выводим первые строки датафрейма на экран\n",
    "acq_df.head()"
   ]
  },
  {
   "cell_type": "code",
   "execution_count": 195,
   "metadata": {
    "trusted": true
   },
   "outputs": [
    {
     "name": "stdout",
     "output_type": "stream",
     "text": [
      "<class 'pandas.core.frame.DataFrame'>\n",
      "RangeIndex: 9407 entries, 0 to 9406\n",
      "Data columns (total 6 columns):\n",
      " #   Column                Non-Null Count  Dtype \n",
      "---  ------                --------------  ----- \n",
      " 0   id                    9407 non-null   int64 \n",
      " 1   acquiring_company_id  9407 non-null   int64 \n",
      " 2   acquired_company_id   9407 non-null   int64 \n",
      " 3   term_code             1831 non-null   object\n",
      " 4   price_amount          9407 non-null   int64 \n",
      " 5   acquired_at           9378 non-null   object\n",
      "dtypes: int64(4), object(2)\n",
      "memory usage: 441.1+ KB\n"
     ]
    }
   ],
   "source": [
    "# Выводим информацию о датафрейме\n",
    "acq_df.info()"
   ]
  },
  {
   "cell_type": "markdown",
   "metadata": {},
   "source": [
    "- названия столбцов соответствуют стилю snake case.\n",
    "- `id`, `acquiring_company_id`, `acquired_company_id`, `price_amount` представлены целыми числами.\n",
    "- `term_code` и `acquired_at` имеют тип `object` и содержат пропуски. Так как варианты оплаты ограничены, конвертируем `term_code` в `category`, оптимизировав память. А `acquired_at`, который указывает на дату сделки, приведем к типу `datetime`."
   ]
  },
  {
   "cell_type": "code",
   "execution_count": 196,
   "metadata": {
    "trusted": true
   },
   "outputs": [
    {
     "name": "stdout",
     "output_type": "stream",
     "text": [
      "<class 'pandas.core.frame.DataFrame'>\n",
      "RangeIndex: 9407 entries, 0 to 9406\n",
      "Data columns (total 6 columns):\n",
      " #   Column                Non-Null Count  Dtype         \n",
      "---  ------                --------------  -----         \n",
      " 0   id                    9407 non-null   int64         \n",
      " 1   acquiring_company_id  9407 non-null   int64         \n",
      " 2   acquired_company_id   9407 non-null   int64         \n",
      " 3   term_code             1831 non-null   category      \n",
      " 4   price_amount          9407 non-null   int64         \n",
      " 5   acquired_at           9378 non-null   datetime64[ns]\n",
      "dtypes: category(1), datetime64[ns](1), int64(4)\n",
      "memory usage: 376.9 KB\n"
     ]
    }
   ],
   "source": [
    "# Преобразование данных\n",
    "acq_df['term_code'] = acq_df['term_code'].astype('category')\n",
    "acq_df['acquired_at'] = pd.to_datetime(acq_df['acquired_at'], errors='coerce')\n",
    "\n",
    "# Выводим информацию о датафрейме\n",
    "acq_df.info()"
   ]
  },
  {
   "cell_type": "code",
   "execution_count": 197,
   "metadata": {
    "trusted": true
   },
   "outputs": [
    {
     "data": {
      "text/html": [
       "<div>\n",
       "<style scoped>\n",
       "    .dataframe tbody tr th:only-of-type {\n",
       "        vertical-align: middle;\n",
       "    }\n",
       "\n",
       "    .dataframe tbody tr th {\n",
       "        vertical-align: top;\n",
       "    }\n",
       "\n",
       "    .dataframe thead th {\n",
       "        text-align: right;\n",
       "    }\n",
       "</style>\n",
       "<table border=\"1\" class=\"dataframe\">\n",
       "  <thead>\n",
       "    <tr style=\"text-align: right;\">\n",
       "      <th></th>\n",
       "      <th>company  ID</th>\n",
       "      <th>name</th>\n",
       "      <th>category  code</th>\n",
       "      <th>status</th>\n",
       "      <th>founded  at</th>\n",
       "      <th>closed  at</th>\n",
       "      <th>domain</th>\n",
       "      <th>network  username</th>\n",
       "      <th>country  code</th>\n",
       "      <th>investment  rounds</th>\n",
       "      <th>...</th>\n",
       "      <th>milestones</th>\n",
       "      <th>funding  round  id</th>\n",
       "      <th>company  id</th>\n",
       "      <th>funded  at</th>\n",
       "      <th>funding  round  type</th>\n",
       "      <th>raised  amount</th>\n",
       "      <th>pre  money  valuation</th>\n",
       "      <th>participants</th>\n",
       "      <th>is  first  round</th>\n",
       "      <th>is  last  round</th>\n",
       "    </tr>\n",
       "  </thead>\n",
       "  <tbody>\n",
       "    <tr>\n",
       "      <th>0</th>\n",
       "      <td>1.00</td>\n",
       "      <td>Wetpaint</td>\n",
       "      <td>web</td>\n",
       "      <td>operating</td>\n",
       "      <td>2005-10-17</td>\n",
       "      <td>NaN</td>\n",
       "      <td>wetpaint-inc.com</td>\n",
       "      <td>BachelrWetpaint</td>\n",
       "      <td>USA</td>\n",
       "      <td>0.00</td>\n",
       "      <td>...</td>\n",
       "      <td>5.00</td>\n",
       "      <td>888.00</td>\n",
       "      <td>1.00</td>\n",
       "      <td>2005-10-01</td>\n",
       "      <td>series-a</td>\n",
       "      <td>5,250,000.00</td>\n",
       "      <td>0.00</td>\n",
       "      <td>2.00</td>\n",
       "      <td>0.00</td>\n",
       "      <td>1.00</td>\n",
       "    </tr>\n",
       "    <tr>\n",
       "      <th>1</th>\n",
       "      <td>1.00</td>\n",
       "      <td>Wetpaint</td>\n",
       "      <td>web</td>\n",
       "      <td>operating</td>\n",
       "      <td>2005-10-17</td>\n",
       "      <td>NaN</td>\n",
       "      <td>wetpaint-inc.com</td>\n",
       "      <td>BachelrWetpaint</td>\n",
       "      <td>USA</td>\n",
       "      <td>0.00</td>\n",
       "      <td>...</td>\n",
       "      <td>5.00</td>\n",
       "      <td>889.00</td>\n",
       "      <td>1.00</td>\n",
       "      <td>2007-01-01</td>\n",
       "      <td>series-b</td>\n",
       "      <td>9,500,000.00</td>\n",
       "      <td>0.00</td>\n",
       "      <td>3.00</td>\n",
       "      <td>0.00</td>\n",
       "      <td>0.00</td>\n",
       "    </tr>\n",
       "    <tr>\n",
       "      <th>2</th>\n",
       "      <td>1.00</td>\n",
       "      <td>Wetpaint</td>\n",
       "      <td>web</td>\n",
       "      <td>operating</td>\n",
       "      <td>2005-10-17</td>\n",
       "      <td>NaN</td>\n",
       "      <td>wetpaint-inc.com</td>\n",
       "      <td>BachelrWetpaint</td>\n",
       "      <td>USA</td>\n",
       "      <td>0.00</td>\n",
       "      <td>...</td>\n",
       "      <td>5.00</td>\n",
       "      <td>2,312.00</td>\n",
       "      <td>1.00</td>\n",
       "      <td>2008-05-19</td>\n",
       "      <td>series-c+</td>\n",
       "      <td>25,000,000.00</td>\n",
       "      <td>0.00</td>\n",
       "      <td>4.00</td>\n",
       "      <td>1.00</td>\n",
       "      <td>0.00</td>\n",
       "    </tr>\n",
       "    <tr>\n",
       "      <th>3</th>\n",
       "      <td>10.00</td>\n",
       "      <td>Flektor</td>\n",
       "      <td>games_video</td>\n",
       "      <td>acquired</td>\n",
       "      <td>NaN</td>\n",
       "      <td>NaN</td>\n",
       "      <td>flektor.com</td>\n",
       "      <td>NaN</td>\n",
       "      <td>USA</td>\n",
       "      <td>0.00</td>\n",
       "      <td>...</td>\n",
       "      <td>0.00</td>\n",
       "      <td>NaN</td>\n",
       "      <td>NaN</td>\n",
       "      <td>NaN</td>\n",
       "      <td>NaN</td>\n",
       "      <td>NaN</td>\n",
       "      <td>NaN</td>\n",
       "      <td>NaN</td>\n",
       "      <td>NaN</td>\n",
       "      <td>NaN</td>\n",
       "    </tr>\n",
       "    <tr>\n",
       "      <th>4</th>\n",
       "      <td>100.00</td>\n",
       "      <td>There</td>\n",
       "      <td>games_video</td>\n",
       "      <td>acquired</td>\n",
       "      <td>NaN</td>\n",
       "      <td>NaN</td>\n",
       "      <td>there.com</td>\n",
       "      <td>NaN</td>\n",
       "      <td>USA</td>\n",
       "      <td>0.00</td>\n",
       "      <td>...</td>\n",
       "      <td>4.00</td>\n",
       "      <td>NaN</td>\n",
       "      <td>NaN</td>\n",
       "      <td>NaN</td>\n",
       "      <td>NaN</td>\n",
       "      <td>NaN</td>\n",
       "      <td>NaN</td>\n",
       "      <td>NaN</td>\n",
       "      <td>NaN</td>\n",
       "      <td>NaN</td>\n",
       "    </tr>\n",
       "  </tbody>\n",
       "</table>\n",
       "<p>5 rows × 22 columns</p>\n",
       "</div>"
      ],
      "text/plain": [
       "   company  ID      name category  code     status founded  at closed  at  \\\n",
       "0         1.00  Wetpaint            web  operating  2005-10-17        NaN   \n",
       "1         1.00  Wetpaint            web  operating  2005-10-17        NaN   \n",
       "2         1.00  Wetpaint            web  operating  2005-10-17        NaN   \n",
       "3        10.00   Flektor    games_video   acquired         NaN        NaN   \n",
       "4       100.00     There    games_video   acquired         NaN        NaN   \n",
       "\n",
       "             domain network  username country  code  investment  rounds  ...  \\\n",
       "0  wetpaint-inc.com   BachelrWetpaint           USA                0.00  ...   \n",
       "1  wetpaint-inc.com   BachelrWetpaint           USA                0.00  ...   \n",
       "2  wetpaint-inc.com   BachelrWetpaint           USA                0.00  ...   \n",
       "3       flektor.com               NaN           USA                0.00  ...   \n",
       "4         there.com               NaN           USA                0.00  ...   \n",
       "\n",
       "   milestones  funding  round  id  company  id  funded  at  \\\n",
       "0        5.00              888.00         1.00  2005-10-01   \n",
       "1        5.00              889.00         1.00  2007-01-01   \n",
       "2        5.00            2,312.00         1.00  2008-05-19   \n",
       "3        0.00                 NaN          NaN         NaN   \n",
       "4        4.00                 NaN          NaN         NaN   \n",
       "\n",
       "   funding  round  type raised  amount pre  money  valuation  participants  \\\n",
       "0              series-a   5,250,000.00                  0.00          2.00   \n",
       "1              series-b   9,500,000.00                  0.00          3.00   \n",
       "2             series-c+  25,000,000.00                  0.00          4.00   \n",
       "3                   NaN            NaN                   NaN           NaN   \n",
       "4                   NaN            NaN                   NaN           NaN   \n",
       "\n",
       "   is  first  round  is  last  round  \n",
       "0              0.00             1.00  \n",
       "1              0.00             0.00  \n",
       "2              1.00             0.00  \n",
       "3               NaN              NaN  \n",
       "4               NaN              NaN  \n",
       "\n",
       "[5 rows x 22 columns]"
      ]
     },
     "execution_count": 197,
     "metadata": {},
     "output_type": "execute_result"
    }
   ],
   "source": [
    "# Выводим первые строки датафрейма на экран\n",
    "company_rounds_df.head()"
   ]
  },
  {
   "cell_type": "code",
   "execution_count": 198,
   "metadata": {
    "trusted": true
   },
   "outputs": [
    {
     "name": "stdout",
     "output_type": "stream",
     "text": [
      "<class 'pandas.core.frame.DataFrame'>\n",
      "RangeIndex: 217774 entries, 0 to 217773\n",
      "Data columns (total 22 columns):\n",
      " #   Column                 Non-Null Count   Dtype  \n",
      "---  ------                 --------------   -----  \n",
      " 0   company  ID            217472 non-null  float64\n",
      " 1   name                   217471 non-null  object \n",
      " 2   category  code         143886 non-null  object \n",
      " 3   status                 217472 non-null  object \n",
      " 4   founded  at            109956 non-null  object \n",
      " 5   closed  at             3449 non-null    object \n",
      " 6   domain                 147159 non-null  object \n",
      " 7   network  username      95534 non-null   object \n",
      " 8   country  code          108607 non-null  object \n",
      " 9   investment  rounds     217472 non-null  float64\n",
      " 10  funding  rounds        217472 non-null  float64\n",
      " 11  funding  total         217472 non-null  float64\n",
      " 12  milestones             217472 non-null  float64\n",
      " 13  funding  round  id     52928 non-null   float64\n",
      " 14  company  id            52928 non-null   float64\n",
      " 15  funded  at             52680 non-null   object \n",
      " 16  funding  round  type   52928 non-null   object \n",
      " 17  raised  amount         52928 non-null   float64\n",
      " 18  pre  money  valuation  52928 non-null   float64\n",
      " 19  participants           52928 non-null   float64\n",
      " 20  is  first  round       52928 non-null   float64\n",
      " 21  is  last  round        52928 non-null   float64\n",
      "dtypes: float64(12), object(10)\n",
      "memory usage: 36.6+ MB\n"
     ]
    }
   ],
   "source": [
    "# Выводим информацию о датафрейме\n",
    "company_rounds_df.info()"
   ]
  },
  {
   "cell_type": "markdown",
   "metadata": {},
   "source": [
    "- столбцы представлены в неудобном для анализа виде. Приведем их к snake case.\n",
    "- `company  ID`, `investment  rounds`, `funding  rounds`, `milestones`, `funding  round  id`, `company  id`, `participants`, `is  first  round`, `is  last  round` не могут иметь дробной части. Их следует проебразовать в целочисленный тип и оптимизировать разрядность там, где необходимо.\n",
    "- `category code`, `status`, `country code`, `funding round type` содержат данные с ограниченным набором значений (категориальные данные). Для удобства анализа приведем их к типу `category`.\n",
    "- `founded at`, `closed at`, `funded at` необходимо преобразовать в тип `datetime` для дальнейшего анализа временных данных.\n",
    "- различие в плотности данных делит таблицу на две группы: 21472 и 52928 непустых строк. Обе группы содержат идентификатор компании, что, вероятно, указывает на то, что датасет состоит из двух логически связанных таблиц. Первая таблица описывает компании, а вторая содержит информацию о событиях (раундах финансирования)."
   ]
  },
  {
   "cell_type": "code",
   "execution_count": 199,
   "metadata": {
    "trusted": true
   },
   "outputs": [
    {
     "name": "stdout",
     "output_type": "stream",
     "text": [
      "<class 'pandas.core.frame.DataFrame'>\n",
      "RangeIndex: 217774 entries, 0 to 217773\n",
      "Data columns (total 22 columns):\n",
      " #   Column               Non-Null Count   Dtype         \n",
      "---  ------               --------------   -----         \n",
      " 0   company_ID           217472 non-null  Int32         \n",
      " 1   name                 217471 non-null  object        \n",
      " 2   category_code        143886 non-null  category      \n",
      " 3   status               217472 non-null  category      \n",
      " 4   founded_at           109956 non-null  datetime64[ns]\n",
      " 5   closed_at            3449 non-null    datetime64[ns]\n",
      " 6   domain               147159 non-null  object        \n",
      " 7   network_username     95534 non-null   object        \n",
      " 8   country_code         108607 non-null  category      \n",
      " 9   investment_rounds    217472 non-null  Int16         \n",
      " 10  funding_rounds       217472 non-null  Int8          \n",
      " 11  funding_total        217472 non-null  float64       \n",
      " 12  milestones           217472 non-null  Int8          \n",
      " 13  funding_round_id     52928 non-null   Int32         \n",
      " 14  company_id           52928 non-null   Int32         \n",
      " 15  funded_at            52680 non-null   datetime64[ns]\n",
      " 16  funding_round_type   52928 non-null   category      \n",
      " 17  raised_amount        52928 non-null   float64       \n",
      " 18  pre_money_valuation  52928 non-null   float64       \n",
      " 19  participants         52928 non-null   Int8          \n",
      " 20  is_first_round       52928 non-null   Int8          \n",
      " 21  is_last_round        52928 non-null   Int8          \n",
      "dtypes: Int16(1), Int32(3), Int8(5), category(4), datetime64[ns](3), float64(3), object(3)\n",
      "memory usage: 21.8+ MB\n"
     ]
    }
   ],
   "source": [
    "# Обрабатываем типы данных \n",
    "convert_to_int = ['company  ID', 'investment  rounds', 'funding  rounds', 'milestones', 'funding  round  id', 'company  id', 'participants', 'is  first  round', 'is  last  round']\n",
    "\n",
    "for col in convert_to_int:\n",
    "    company_rounds_df[col] = company_rounds_df[col].astype('Int64')\n",
    "    company_rounds_df[col] = pd.to_numeric(company_rounds_df[col], errors='coerce', downcast='integer')\n",
    "\n",
    "# Приведение названий столбцов к snake_case\n",
    "company_rounds_df.columns = [el.replace('  ', '_') for el in company_rounds_df.columns]\n",
    "\n",
    "convert_to_datetime = ['funded_at', 'closed_at', 'founded_at']\n",
    "\n",
    "for col in convert_to_datetime:\n",
    "    company_rounds_df[col] = pd.to_datetime(company_rounds_df[col], errors='coerce')\n",
    "\n",
    "convert_to_category = ['category_code', 'status', 'country_code', 'funding_round_type']\n",
    "\n",
    "for col in convert_to_category:\n",
    "    company_rounds_df[col] = company_rounds_df[col].astype('category')\n",
    "\n",
    "# Выводим информацию о датафрейме\n",
    "company_rounds_df.info()"
   ]
  },
  {
   "cell_type": "markdown",
   "metadata": {},
   "source": [
    "Построим диаграмму Венна и проверим, насколько сильно совпадают ключи:"
   ]
  },
  {
   "cell_type": "code",
   "execution_count": 200,
   "metadata": {
    "trusted": true
   },
   "outputs": [
    {
     "data": {
      "image/png": "[encoded data removed]",
      "text/plain": [
       "<Figure size 640x480 with 1 Axes>"
      ]
     },
     "metadata": {},
     "output_type": "display_data"
    }
   ],
   "source": [
    "first_id = set(company_rounds_df['company_ID'].dropna().unique())\n",
    "second_id = set(company_rounds_df['company_id'].dropna().unique())\n",
    "# Строим диаграмму Венна\n",
    "venn2([first_id, second_id], set_labels=('company_ID', 'company_id'))\n",
    "\n",
    "# Отображаем график\n",
    "plt.title(\"Пересечение \")\n",
    "plt.show() "
   ]
  },
  {
   "cell_type": "markdown",
   "metadata": {},
   "source": [
    "Большинство индентификаторов компаний из одной таблицы присутствуют в другой. Это пересечение указывает на то, что данные в обеих таблицах связаны через общие идентификаторы компаний, что подтверждает гипотезу о логической связи между таблицами."
   ]
  },
  {
   "cell_type": "code",
   "execution_count": 201,
   "metadata": {
    "trusted": true
   },
   "outputs": [
    {
     "data": {
      "text/html": [
       "<div>\n",
       "<style scoped>\n",
       "    .dataframe tbody tr th:only-of-type {\n",
       "        vertical-align: middle;\n",
       "    }\n",
       "\n",
       "    .dataframe tbody tr th {\n",
       "        vertical-align: top;\n",
       "    }\n",
       "\n",
       "    .dataframe thead th {\n",
       "        text-align: right;\n",
       "    }\n",
       "</style>\n",
       "<table border=\"1\" class=\"dataframe\">\n",
       "  <thead>\n",
       "    <tr style=\"text-align: right;\">\n",
       "      <th></th>\n",
       "      <th>id</th>\n",
       "      <th>person_id</th>\n",
       "      <th>instituition</th>\n",
       "      <th>graduated_at</th>\n",
       "    </tr>\n",
       "  </thead>\n",
       "  <tbody>\n",
       "    <tr>\n",
       "      <th>0</th>\n",
       "      <td>1</td>\n",
       "      <td>6117</td>\n",
       "      <td>NaN</td>\n",
       "      <td>NaN</td>\n",
       "    </tr>\n",
       "    <tr>\n",
       "      <th>1</th>\n",
       "      <td>2</td>\n",
       "      <td>6136</td>\n",
       "      <td>Washington University, St. Louis</td>\n",
       "      <td>1990-01-01</td>\n",
       "    </tr>\n",
       "    <tr>\n",
       "      <th>2</th>\n",
       "      <td>3</td>\n",
       "      <td>6136</td>\n",
       "      <td>Boston University</td>\n",
       "      <td>1992-01-01</td>\n",
       "    </tr>\n",
       "    <tr>\n",
       "      <th>3</th>\n",
       "      <td>4</td>\n",
       "      <td>6005</td>\n",
       "      <td>University of Greenwich</td>\n",
       "      <td>2006-01-01</td>\n",
       "    </tr>\n",
       "    <tr>\n",
       "      <th>4</th>\n",
       "      <td>5</td>\n",
       "      <td>5832</td>\n",
       "      <td>Rice University</td>\n",
       "      <td>NaN</td>\n",
       "    </tr>\n",
       "  </tbody>\n",
       "</table>\n",
       "</div>"
      ],
      "text/plain": [
       "   id  person_id                      instituition graduated_at\n",
       "0   1       6117                               NaN          NaN\n",
       "1   2       6136  Washington University, St. Louis   1990-01-01\n",
       "2   3       6136                 Boston University   1992-01-01\n",
       "3   4       6005           University of Greenwich   2006-01-01\n",
       "4   5       5832                   Rice University          NaN"
      ]
     },
     "execution_count": 201,
     "metadata": {},
     "output_type": "execute_result"
    }
   ],
   "source": [
    "# Выводим первые строки датафрейма на экран\n",
    "ed_df.head()"
   ]
  },
  {
   "cell_type": "code",
   "execution_count": 202,
   "metadata": {
    "trusted": true
   },
   "outputs": [
    {
     "name": "stdout",
     "output_type": "stream",
     "text": [
      "<class 'pandas.core.frame.DataFrame'>\n",
      "RangeIndex: 109610 entries, 0 to 109609\n",
      "Data columns (total 4 columns):\n",
      " #   Column        Non-Null Count   Dtype \n",
      "---  ------        --------------   ----- \n",
      " 0   id            109610 non-null  int64 \n",
      " 1   person_id     109610 non-null  int64 \n",
      " 2   instituition  109555 non-null  object\n",
      " 3   graduated_at  58054 non-null   object\n",
      "dtypes: int64(2), object(2)\n",
      "memory usage: 3.3+ MB\n"
     ]
    }
   ],
   "source": [
    "# Выводим информацию о датафрейме\n",
    "ed_df.info()"
   ]
  },
  {
   "cell_type": "markdown",
   "metadata": {},
   "source": [
    "- Информация о дате выпуска содержит много пропусков и имеет тип `object`. Приведем столбец к `datetime`."
   ]
  },
  {
   "cell_type": "code",
   "execution_count": 203,
   "metadata": {
    "trusted": true
   },
   "outputs": [
    {
     "name": "stdout",
     "output_type": "stream",
     "text": [
      "<class 'pandas.core.frame.DataFrame'>\n",
      "RangeIndex: 109610 entries, 0 to 109609\n",
      "Data columns (total 4 columns):\n",
      " #   Column        Non-Null Count   Dtype         \n",
      "---  ------        --------------   -----         \n",
      " 0   id            109610 non-null  int64         \n",
      " 1   person_id     109610 non-null  int64         \n",
      " 2   instituition  109555 non-null  object        \n",
      " 3   graduated_at  58054 non-null   datetime64[ns]\n",
      "dtypes: datetime64[ns](1), int64(2), object(1)\n",
      "memory usage: 3.3+ MB\n"
     ]
    }
   ],
   "source": [
    "# Обрабатываем тип данных\n",
    "ed_df['graduated_at'] = pd.to_datetime(ed_df['graduated_at'], errors='coerce')\n",
    "\n",
    "# Выводим информацию о датафрейме\n",
    "ed_df.info()"
   ]
  },
  {
   "cell_type": "code",
   "execution_count": 204,
   "metadata": {
    "trusted": true
   },
   "outputs": [
    {
     "data": {
      "text/html": [
       "<div>\n",
       "<style scoped>\n",
       "    .dataframe tbody tr th:only-of-type {\n",
       "        vertical-align: middle;\n",
       "    }\n",
       "\n",
       "    .dataframe tbody tr th {\n",
       "        vertical-align: top;\n",
       "    }\n",
       "\n",
       "    .dataframe thead th {\n",
       "        text-align: right;\n",
       "    }\n",
       "</style>\n",
       "<table border=\"1\" class=\"dataframe\">\n",
       "  <thead>\n",
       "    <tr style=\"text-align: right;\">\n",
       "      <th></th>\n",
       "      <th>id</th>\n",
       "      <th>first_name</th>\n",
       "      <th>last_name</th>\n",
       "      <th>company_id</th>\n",
       "      <th>network_username</th>\n",
       "    </tr>\n",
       "  </thead>\n",
       "  <tbody>\n",
       "    <tr>\n",
       "      <th>0</th>\n",
       "      <td>10</td>\n",
       "      <td>Mark</td>\n",
       "      <td>Zuckerberg</td>\n",
       "      <td>5.00</td>\n",
       "      <td>NaN</td>\n",
       "    </tr>\n",
       "    <tr>\n",
       "      <th>1</th>\n",
       "      <td>100</td>\n",
       "      <td>Peter</td>\n",
       "      <td>Lester</td>\n",
       "      <td>27.00</td>\n",
       "      <td>NaN</td>\n",
       "    </tr>\n",
       "    <tr>\n",
       "      <th>2</th>\n",
       "      <td>1000</td>\n",
       "      <td>Dr. Steven</td>\n",
       "      <td>E. Saunders</td>\n",
       "      <td>292.00</td>\n",
       "      <td>NaN</td>\n",
       "    </tr>\n",
       "    <tr>\n",
       "      <th>3</th>\n",
       "      <td>10000</td>\n",
       "      <td>Neil</td>\n",
       "      <td>Capel</td>\n",
       "      <td>2,526.00</td>\n",
       "      <td>NaN</td>\n",
       "    </tr>\n",
       "    <tr>\n",
       "      <th>4</th>\n",
       "      <td>100000</td>\n",
       "      <td>Sue</td>\n",
       "      <td>Pilsch</td>\n",
       "      <td>NaN</td>\n",
       "      <td>NaN</td>\n",
       "    </tr>\n",
       "  </tbody>\n",
       "</table>\n",
       "</div>"
      ],
      "text/plain": [
       "       id  first_name    last_name  company_id network_username\n",
       "0      10        Mark   Zuckerberg        5.00              NaN\n",
       "1     100       Peter       Lester       27.00              NaN\n",
       "2    1000  Dr. Steven  E. Saunders      292.00              NaN\n",
       "3   10000        Neil        Capel    2,526.00              NaN\n",
       "4  100000         Sue       Pilsch         NaN              NaN"
      ]
     },
     "execution_count": 204,
     "metadata": {},
     "output_type": "execute_result"
    }
   ],
   "source": [
    "# Выводим первые строки датафрейма на экран\n",
    "people_df.head()"
   ]
  },
  {
   "cell_type": "code",
   "execution_count": 205,
   "metadata": {
    "trusted": true
   },
   "outputs": [
    {
     "name": "stdout",
     "output_type": "stream",
     "text": [
      "<class 'pandas.core.frame.DataFrame'>\n",
      "RangeIndex: 226709 entries, 0 to 226708\n",
      "Data columns (total 5 columns):\n",
      " #   Column            Non-Null Count   Dtype  \n",
      "---  ------            --------------   -----  \n",
      " 0   id                226709 non-null  int64  \n",
      " 1   first_name        226700 non-null  object \n",
      " 2   last_name         226705 non-null  object \n",
      " 3   company_id        34615 non-null   float64\n",
      " 4   network_username  38867 non-null   object \n",
      "dtypes: float64(1), int64(1), object(3)\n",
      "memory usage: 8.6+ MB\n"
     ]
    }
   ],
   "source": [
    "# Выводим информацию о датафрейме\n",
    "people_df.info()"
   ]
  },
  {
   "cell_type": "markdown",
   "metadata": {},
   "source": [
    "- `company_id` имеет тип `float64` и содержит пропуски. Преобразуем столбец в `int64`."
   ]
  },
  {
   "cell_type": "code",
   "execution_count": 206,
   "metadata": {
    "trusted": true
   },
   "outputs": [
    {
     "name": "stdout",
     "output_type": "stream",
     "text": [
      "<class 'pandas.core.frame.DataFrame'>\n",
      "RangeIndex: 226709 entries, 0 to 226708\n",
      "Data columns (total 5 columns):\n",
      " #   Column            Non-Null Count   Dtype \n",
      "---  ------            --------------   ----- \n",
      " 0   id                226709 non-null  int64 \n",
      " 1   first_name        226700 non-null  object\n",
      " 2   last_name         226705 non-null  object\n",
      " 3   company_id        34615 non-null   Int64 \n",
      " 4   network_username  38867 non-null   object\n",
      "dtypes: Int64(1), int64(1), object(3)\n",
      "memory usage: 8.9+ MB\n"
     ]
    }
   ],
   "source": [
    "# Обрабатываем тип данных \n",
    "people_df['company_id'] = people_df['company_id'].astype('Int64')\n",
    "\n",
    "# Выводим информацию о датафрейме\n",
    "people_df.info()"
   ]
  },
  {
   "cell_type": "code",
   "execution_count": 207,
   "metadata": {
    "trusted": true
   },
   "outputs": [
    {
     "data": {
      "text/html": [
       "<div>\n",
       "<style scoped>\n",
       "    .dataframe tbody tr th:only-of-type {\n",
       "        vertical-align: middle;\n",
       "    }\n",
       "\n",
       "    .dataframe tbody tr th {\n",
       "        vertical-align: top;\n",
       "    }\n",
       "\n",
       "    .dataframe thead th {\n",
       "        text-align: right;\n",
       "    }\n",
       "</style>\n",
       "<table border=\"1\" class=\"dataframe\">\n",
       "  <thead>\n",
       "    <tr style=\"text-align: right;\">\n",
       "      <th></th>\n",
       "      <th>id</th>\n",
       "      <th>object_id</th>\n",
       "      <th>degree_type</th>\n",
       "      <th>subject</th>\n",
       "    </tr>\n",
       "  </thead>\n",
       "  <tbody>\n",
       "    <tr>\n",
       "      <th>0</th>\n",
       "      <td>1</td>\n",
       "      <td>p:6117</td>\n",
       "      <td>MBA</td>\n",
       "      <td>NaN</td>\n",
       "    </tr>\n",
       "    <tr>\n",
       "      <th>1</th>\n",
       "      <td>2</td>\n",
       "      <td>p:6136</td>\n",
       "      <td>BA</td>\n",
       "      <td>English, French</td>\n",
       "    </tr>\n",
       "    <tr>\n",
       "      <th>2</th>\n",
       "      <td>3</td>\n",
       "      <td>p:6136</td>\n",
       "      <td>MS</td>\n",
       "      <td>Mass Communication</td>\n",
       "    </tr>\n",
       "    <tr>\n",
       "      <th>3</th>\n",
       "      <td>4</td>\n",
       "      <td>p:6005</td>\n",
       "      <td>MS</td>\n",
       "      <td>Internet Technology</td>\n",
       "    </tr>\n",
       "    <tr>\n",
       "      <th>4</th>\n",
       "      <td>5</td>\n",
       "      <td>p:5832</td>\n",
       "      <td>BCS</td>\n",
       "      <td>Computer Science, Psychology</td>\n",
       "    </tr>\n",
       "  </tbody>\n",
       "</table>\n",
       "</div>"
      ],
      "text/plain": [
       "   id object_id degree_type                       subject\n",
       "0   1    p:6117         MBA                           NaN\n",
       "1   2    p:6136          BA               English, French\n",
       "2   3    p:6136          MS            Mass Communication\n",
       "3   4    p:6005          MS           Internet Technology\n",
       "4   5    p:5832         BCS  Computer Science, Psychology"
      ]
     },
     "execution_count": 207,
     "metadata": {},
     "output_type": "execute_result"
    }
   ],
   "source": [
    "# Выводим первые строки датафрейма на экран\n",
    "degrees_df.head()"
   ]
  },
  {
   "cell_type": "code",
   "execution_count": 208,
   "metadata": {
    "trusted": true
   },
   "outputs": [
    {
     "name": "stdout",
     "output_type": "stream",
     "text": [
      "<class 'pandas.core.frame.DataFrame'>\n",
      "RangeIndex: 109610 entries, 0 to 109609\n",
      "Data columns (total 4 columns):\n",
      " #   Column       Non-Null Count   Dtype \n",
      "---  ------       --------------   ----- \n",
      " 0   id           109610 non-null  int64 \n",
      " 1   object_id    109610 non-null  object\n",
      " 2   degree_type  98389 non-null   object\n",
      " 3   subject      81298 non-null   object\n",
      "dtypes: int64(1), object(3)\n",
      "memory usage: 3.3+ MB\n"
     ]
    }
   ],
   "source": [
    "# Выводим информацию о датафрейме\n",
    "degrees_df.info()"
   ]
  },
  {
   "cell_type": "markdown",
   "metadata": {},
   "source": [
    "- `degree_type` и `subject` содержат пропуски."
   ]
  },
  {
   "cell_type": "markdown",
   "metadata": {},
   "source": [
    "В результате предобработки в датасетах было обнаружено большое количество пропусков, которые могут искажать результаты анализа. Но данных в целом достаточно, чтобы ответить на поставленнные вопросы. "
   ]
  },
  {
   "cell_type": "markdown",
   "metadata": {},
   "source": [
    "## Предобработка данных, предварительное исследование\n",
    "### Раунды финансирования по годам  \n",
    "Посмотрим, как меняется рынок инвестиций с течением времени. Создадим сводную таблицу с годами, раундами и типичным размером средств:"
   ]
  },
  {
   "cell_type": "code",
   "execution_count": 209,
   "metadata": {
    "trusted": true
   },
   "outputs": [
    {
     "data": {
      "text/html": [
       "<div>\n",
       "<style scoped>\n",
       "    .dataframe tbody tr th:only-of-type {\n",
       "        vertical-align: middle;\n",
       "    }\n",
       "\n",
       "    .dataframe tbody tr th {\n",
       "        vertical-align: top;\n",
       "    }\n",
       "\n",
       "    .dataframe thead th {\n",
       "        text-align: right;\n",
       "    }\n",
       "</style>\n",
       "<table border=\"1\" class=\"dataframe\">\n",
       "  <thead>\n",
       "    <tr style=\"text-align: right;\">\n",
       "      <th></th>\n",
       "      <th>год</th>\n",
       "      <th>общее количество раундов финансирования</th>\n",
       "      <th>типичный размер средств</th>\n",
       "    </tr>\n",
       "  </thead>\n",
       "  <tbody>\n",
       "    <tr>\n",
       "      <th>15</th>\n",
       "      <td>1999</td>\n",
       "      <td>76</td>\n",
       "      <td>2,000,000.00</td>\n",
       "    </tr>\n",
       "    <tr>\n",
       "      <th>16</th>\n",
       "      <td>2000</td>\n",
       "      <td>125</td>\n",
       "      <td>4,200,000.00</td>\n",
       "    </tr>\n",
       "    <tr>\n",
       "      <th>17</th>\n",
       "      <td>2001</td>\n",
       "      <td>96</td>\n",
       "      <td>3,000,000.00</td>\n",
       "    </tr>\n",
       "    <tr>\n",
       "      <th>18</th>\n",
       "      <td>2002</td>\n",
       "      <td>116</td>\n",
       "      <td>4,200,000.00</td>\n",
       "    </tr>\n",
       "    <tr>\n",
       "      <th>19</th>\n",
       "      <td>2003</td>\n",
       "      <td>159</td>\n",
       "      <td>3,000,000.00</td>\n",
       "    </tr>\n",
       "    <tr>\n",
       "      <th>20</th>\n",
       "      <td>2004</td>\n",
       "      <td>291</td>\n",
       "      <td>5,000,000.00</td>\n",
       "    </tr>\n",
       "    <tr>\n",
       "      <th>21</th>\n",
       "      <td>2005</td>\n",
       "      <td>1633</td>\n",
       "      <td>5,500,000.00</td>\n",
       "    </tr>\n",
       "    <tr>\n",
       "      <th>22</th>\n",
       "      <td>2006</td>\n",
       "      <td>2436</td>\n",
       "      <td>5,000,000.00</td>\n",
       "    </tr>\n",
       "    <tr>\n",
       "      <th>23</th>\n",
       "      <td>2007</td>\n",
       "      <td>3279</td>\n",
       "      <td>3,973,320.00</td>\n",
       "    </tr>\n",
       "    <tr>\n",
       "      <th>24</th>\n",
       "      <td>2008</td>\n",
       "      <td>3774</td>\n",
       "      <td>3,110,000.00</td>\n",
       "    </tr>\n",
       "    <tr>\n",
       "      <th>25</th>\n",
       "      <td>2009</td>\n",
       "      <td>4151</td>\n",
       "      <td>2,000,000.00</td>\n",
       "    </tr>\n",
       "    <tr>\n",
       "      <th>26</th>\n",
       "      <td>2010</td>\n",
       "      <td>6221</td>\n",
       "      <td>1,602,500.00</td>\n",
       "    </tr>\n",
       "    <tr>\n",
       "      <th>27</th>\n",
       "      <td>2011</td>\n",
       "      <td>9204</td>\n",
       "      <td>1,200,000.00</td>\n",
       "    </tr>\n",
       "    <tr>\n",
       "      <th>28</th>\n",
       "      <td>2012</td>\n",
       "      <td>9970</td>\n",
       "      <td>1,000,000.00</td>\n",
       "    </tr>\n",
       "    <tr>\n",
       "      <th>29</th>\n",
       "      <td>2013</td>\n",
       "      <td>11072</td>\n",
       "      <td>1,200,000.00</td>\n",
       "    </tr>\n",
       "  </tbody>\n",
       "</table>\n",
       "</div>"
      ],
      "text/plain": [
       "     год  общее количество раундов финансирования  типичный размер средств\n",
       "15  1999                                       76             2,000,000.00\n",
       "16  2000                                      125             4,200,000.00\n",
       "17  2001                                       96             3,000,000.00\n",
       "18  2002                                      116             4,200,000.00\n",
       "19  2003                                      159             3,000,000.00\n",
       "20  2004                                      291             5,000,000.00\n",
       "21  2005                                     1633             5,500,000.00\n",
       "22  2006                                     2436             5,000,000.00\n",
       "23  2007                                     3279             3,973,320.00\n",
       "24  2008                                     3774             3,110,000.00\n",
       "25  2009                                     4151             2,000,000.00\n",
       "26  2010                                     6221             1,602,500.00\n",
       "27  2011                                     9204             1,200,000.00\n",
       "28  2012                                     9970             1,000,000.00\n",
       "29  2013                                    11072             1,200,000.00"
      ]
     },
     "execution_count": 209,
     "metadata": {},
     "output_type": "execute_result"
    }
   ],
   "source": [
    "# Фильтруем от пропусков\n",
    "filtered_rounds = company_rounds_df[company_rounds_df['funded_at'].isna() == False]\n",
    "\n",
    "# Создаем сводную таблицу\n",
    "pivot = filtered_rounds.pivot_table(\n",
    "    index=filtered_rounds['funded_at'].dt.year, # Преобразуем дату в год \n",
    "    values='raised_amount',\n",
    "    aggfunc={'raised_amount': ['count', 'median']}\n",
    ")\n",
    "\n",
    "# Изменяем названия столбцов и сбрасываем индекc\n",
    "pivot = pivot.reset_index()\n",
    "pivot.columns = ['год', 'общее количество раундов финансирования', 'типичный размер средств']\n",
    "# Фильтруем по раундам финансирования\n",
    "pivot = pivot[pivot['общее количество раундов финансирования'] > 50]\n",
    "\n",
    "pivot"
   ]
  },
  {
   "cell_type": "markdown",
   "metadata": {},
   "source": [
    "Визуализируем получившийся результат:"
   ]
  },
  {
   "cell_type": "code",
   "execution_count": 210,
   "metadata": {
    "trusted": true
   },
   "outputs": [
    {
     "data": {
      "image/png": "[encoded data removed]",
      "text/plain": [
       "<Figure size 1200x500 with 1 Axes>"
      ]
     },
     "metadata": {},
     "output_type": "display_data"
    }
   ],
   "source": [
    "plt.figure(figsize=(12, 5))\n",
    "\n",
    "# Посторим линейный график \n",
    "sns.lineplot(data=pivot,\n",
    "             x='год',\n",
    "             y='типичный размер средств')\n",
    "\n",
    "plt.xticks(range(1998, 2015, 1))\n",
    "plt.ylabel('типичный размер средств, млн')\n",
    "plt.grid()\n",
    "plt.show()"
   ]
  },
  {
   "cell_type": "markdown",
   "metadata": {},
   "source": [
    "В 2005 году наблюдается максимальный типичный размер собранных средств. А в 2013 году наблюдался рекордный рост количества раундов финансирования (11 072), что говорит о высокой активности на рынке инвестиций. Однако типичный размер средств снизился до 1 200 000, что может указывать на изменение стратегии инвесторов или увеличение числа небольших раундов."
   ]
  },
  {
   "cell_type": "markdown",
   "metadata": {},
   "source": [
    "### Люди и их образование\n",
    "Выясним, зависит ли полнота сведений о сотрудниках от размера компаний. Подготовим данные:"
   ]
  },
  {
   "cell_type": "code",
   "execution_count": 211,
   "metadata": {
    "trusted": true
   },
   "outputs": [],
   "source": [
    "# Объединяем таблицы, сохраняя всех сотрудников из people_df\n",
    "people_ed = people_df.merge(ed_df, left_on='id', right_on='person_id', how='left')\n",
    "\n",
    "# Преобразование в тип float64, который поддерживает пропущенные значения\n",
    "people_ed['company_id'] = people_ed['company_id'].astype('float64')"
   ]
  },
  {
   "cell_type": "markdown",
   "metadata": {},
   "source": [
    "Посчитаем общее количество сотрудников для каждой компании:"
   ]
  },
  {
   "cell_type": "code",
   "execution_count": 212,
   "metadata": {
    "trusted": true
   },
   "outputs": [],
   "source": [
    "company_size = people_df.groupby('company_id')['id'].nunique().reset_index()\n",
    "company_size.columns = ['company_id', 'employee_count']"
   ]
  },
  {
   "cell_type": "markdown",
   "metadata": {},
   "source": [
    "Добавим информацию о размере компании:"
   ]
  },
  {
   "cell_type": "code",
   "execution_count": 213,
   "metadata": {
    "trusted": true
   },
   "outputs": [],
   "source": [
    "people_ed = people_ed.merge(company_size, on='company_id', how='left')"
   ]
  },
  {
   "cell_type": "markdown",
   "metadata": {},
   "source": [
    "Вычисляем квартили для количества сотрудников:"
   ]
  },
  {
   "cell_type": "code",
   "execution_count": 214,
   "metadata": {
    "trusted": true
   },
   "outputs": [],
   "source": [
    "quartiles = company_size['employee_count'].quantile([0.25, 0.5, 0.75]).values"
   ]
  },
  {
   "cell_type": "markdown",
   "metadata": {},
   "source": [
    "Разделим компании на группы по квартилям:"
   ]
  },
  {
   "cell_type": "code",
   "execution_count": 215,
   "metadata": {
    "trusted": true
   },
   "outputs": [],
   "source": [
    "def categorize_company_size(employee_count):\n",
    "    if employee_count <= quartiles[0]:\n",
    "        return 'Малые компании'\n",
    "    elif quartiles[0] < employee_count <= quartiles[1]:\n",
    "        return 'Средние компании'\n",
    "    elif quartiles[1] < employee_count <= quartiles[2]:\n",
    "        return 'Крупные компании'\n",
    "    else:\n",
    "        return 'Очень крупные компании'\n",
    "\n",
    "# Применяем функцию к столбцу employee_count\n",
    "people_ed['company_size'] = people_ed['employee_count'].apply(categorize_company_size)"
   ]
  },
  {
   "cell_type": "markdown",
   "metadata": {},
   "source": [
    "Определим, есть ли информация об образовании или нет:"
   ]
  },
  {
   "cell_type": "code",
   "execution_count": 216,
   "metadata": {
    "trusted": true
   },
   "outputs": [],
   "source": [
    "people_ed['is_education'] = people_ed['instituition'].notna() & people_ed['graduated_at'].notna()"
   ]
  },
  {
   "cell_type": "markdown",
   "metadata": {},
   "source": [
    "Расчитаем долю сотрудников без информации об образовании и выведем результат:"
   ]
  },
  {
   "cell_type": "code",
   "execution_count": 217,
   "metadata": {
    "trusted": true
   },
   "outputs": [
    {
     "data": {
      "text/html": [
       "<div>\n",
       "<style scoped>\n",
       "    .dataframe tbody tr th:only-of-type {\n",
       "        vertical-align: middle;\n",
       "    }\n",
       "\n",
       "    .dataframe tbody tr th {\n",
       "        vertical-align: top;\n",
       "    }\n",
       "\n",
       "    .dataframe thead th {\n",
       "        text-align: right;\n",
       "    }\n",
       "</style>\n",
       "<table border=\"1\" class=\"dataframe\">\n",
       "  <thead>\n",
       "    <tr style=\"text-align: right;\">\n",
       "      <th></th>\n",
       "      <th>company_size</th>\n",
       "      <th>missing_share</th>\n",
       "    </tr>\n",
       "  </thead>\n",
       "  <tbody>\n",
       "    <tr>\n",
       "      <th>0</th>\n",
       "      <td>Малые компании</td>\n",
       "      <td>49.88</td>\n",
       "    </tr>\n",
       "    <tr>\n",
       "      <th>1</th>\n",
       "      <td>Очень крупные компании</td>\n",
       "      <td>81.19</td>\n",
       "    </tr>\n",
       "  </tbody>\n",
       "</table>\n",
       "</div>"
      ],
      "text/plain": [
       "             company_size  missing_share\n",
       "0          Малые компании          49.88\n",
       "1  Очень крупные компании          81.19"
      ]
     },
     "execution_count": 217,
     "metadata": {},
     "output_type": "execute_result"
    }
   ],
   "source": [
    "education_completeness = people_ed.groupby('company_size')['is_education'].mean().reset_index()\n",
    "education_completeness['missing_share'] = (1 - education_completeness['is_education']) * 100\n",
    "\n",
    "# Выводим результат\n",
    "education_completeness[['company_size', 'missing_share']]"
   ]
  },
  {
   "cell_type": "code",
   "execution_count": 218,
   "metadata": {
    "trusted": true
   },
   "outputs": [
    {
     "data": {
      "text/html": [
       "<div>\n",
       "<style scoped>\n",
       "    .dataframe tbody tr th:only-of-type {\n",
       "        vertical-align: middle;\n",
       "    }\n",
       "\n",
       "    .dataframe tbody tr th {\n",
       "        vertical-align: top;\n",
       "    }\n",
       "\n",
       "    .dataframe thead th {\n",
       "        text-align: right;\n",
       "    }\n",
       "</style>\n",
       "<table border=\"1\" class=\"dataframe\">\n",
       "  <thead>\n",
       "    <tr style=\"text-align: right;\">\n",
       "      <th></th>\n",
       "      <th>id_x</th>\n",
       "      <th>first_name</th>\n",
       "      <th>last_name</th>\n",
       "      <th>company_id</th>\n",
       "      <th>network_username</th>\n",
       "      <th>id_y</th>\n",
       "      <th>person_id</th>\n",
       "      <th>instituition</th>\n",
       "      <th>graduated_at</th>\n",
       "      <th>employee_count</th>\n",
       "      <th>company_size</th>\n",
       "      <th>is_education</th>\n",
       "    </tr>\n",
       "  </thead>\n",
       "  <tbody>\n",
       "    <tr>\n",
       "      <th>4393</th>\n",
       "      <td>104800</td>\n",
       "      <td>Alex</td>\n",
       "      <td>Weinstein</td>\n",
       "      <td>1.00</td>\n",
       "      <td>alexweinstein</td>\n",
       "      <td>NaN</td>\n",
       "      <td>NaN</td>\n",
       "      <td>NaN</td>\n",
       "      <td>NaT</td>\n",
       "      <td>2.00</td>\n",
       "      <td>Очень крупные компании</td>\n",
       "      <td>False</td>\n",
       "    </tr>\n",
       "    <tr>\n",
       "      <th>191139</th>\n",
       "      <td>3</td>\n",
       "      <td>Kevin</td>\n",
       "      <td>Flaherty</td>\n",
       "      <td>1.00</td>\n",
       "      <td>NaN</td>\n",
       "      <td>706.00</td>\n",
       "      <td>3.00</td>\n",
       "      <td>Washington University in St Louis</td>\n",
       "      <td>NaT</td>\n",
       "      <td>2.00</td>\n",
       "      <td>Очень крупные компании</td>\n",
       "      <td>False</td>\n",
       "    </tr>\n",
       "    <tr>\n",
       "      <th>191140</th>\n",
       "      <td>3</td>\n",
       "      <td>Kevin</td>\n",
       "      <td>Flaherty</td>\n",
       "      <td>1.00</td>\n",
       "      <td>NaN</td>\n",
       "      <td>707.00</td>\n",
       "      <td>3.00</td>\n",
       "      <td>Indiana University</td>\n",
       "      <td>NaT</td>\n",
       "      <td>2.00</td>\n",
       "      <td>Очень крупные компании</td>\n",
       "      <td>False</td>\n",
       "    </tr>\n",
       "  </tbody>\n",
       "</table>\n",
       "</div>"
      ],
      "text/plain": [
       "          id_x first_name  last_name  company_id network_username   id_y  \\\n",
       "4393    104800       Alex  Weinstein        1.00    alexweinstein    NaN   \n",
       "191139       3      Kevin   Flaherty        1.00              NaN 706.00   \n",
       "191140       3      Kevin   Flaherty        1.00              NaN 707.00   \n",
       "\n",
       "        person_id                       instituition graduated_at  \\\n",
       "4393          NaN                                NaN          NaT   \n",
       "191139       3.00  Washington University in St Louis          NaT   \n",
       "191140       3.00                 Indiana University          NaT   \n",
       "\n",
       "        employee_count            company_size  is_education  \n",
       "4393              2.00  Очень крупные компании         False  \n",
       "191139            2.00  Очень крупные компании         False  \n",
       "191140            2.00  Очень крупные компании         False  "
      ]
     },
     "execution_count": 218,
     "metadata": {},
     "output_type": "execute_result"
    }
   ],
   "source": [
    "# код ревьюера\n",
    "people_ed[people_ed['company_id'] == 1]"
   ]
  },
  {
   "cell_type": "markdown",
   "metadata": {},
   "source": [
    "Малые компании имеют более низкую долю сотрудников без информации об образовании по сравнению с очень крупными компаниями. Это может указывать на то, что малые компании более тщательно собирают данные о сотрудниках или нанимают людей с более формальным образованием.\n",
    "Несоостветствие типов данных в столбцах `object_id` (из `degrees_df`) и `id` из `people` затрудняет объединение этих двух таблиц."
   ]
  },
  {
   "cell_type": "markdown",
   "metadata": {},
   "source": [
    "### Объединять или не объединять — вот в чём вопрос\n",
    "В результате предварительной проверки датасетов было выяснено, что столбец `company_id` подходит для объединения данных.  \n",
    "Cтолбец `network_username` нельзя использовать для объединения, потому что он относится к разным сущностям: в `company_and_rounds.csv` относится к компаниям, а в `people.csv` относится к сотрудникам. При этом в обоих датасетах значения в столбце `network_username` могут быть не уникальными (например, несколько компаний или сотрудников могут использовать одинаковые ники). Чтобы наглядно продемонстрировать различия данных, построим диаграмму Венна:"
   ]
  },
  {
   "cell_type": "code",
   "execution_count": 219,
   "metadata": {
    "trusted": true
   },
   "outputs": [
    {
     "data": {
      "image/png": "[encoded data removed]",
      "text/plain": [
       "<Figure size 640x480 with 1 Axes>"
      ]
     },
     "metadata": {},
     "output_type": "display_data"
    }
   ],
   "source": [
    "# Создаём множества\n",
    "set_company = set(company_rounds_df['network_username'].dropna())  # Убираем пропуски\n",
    "set_people = set(people_df['network_username'].dropna())  # Убираем пропуски\n",
    "\n",
    "# Строим диаграмму Венна\n",
    "venn2([set_company, set_people], set_labels=('Company Users', 'Fund Users'))\n",
    "\n",
    "# Отображаем график\n",
    "plt.title(\"Пересечение пользователей Company Users и Fund Users\")\n",
    "plt.show()  "
   ]
  },
  {
   "cell_type": "markdown",
   "metadata": {},
   "source": [
    "Как видно из визуализации, данные из столбцов `network_username` в разных датасетах имеют разное происхождение и не являются ключами для объединения."
   ]
  },
  {
   "cell_type": "markdown",
   "metadata": {},
   "source": [
    "### Проблемный датасет и причина возникновения пропусков\n",
    "Первичная предобработка показала, что датасет `company_rounds_df` состоит из двух логически связанных таблиц. Разделим его таким образом: `company_df` c информацией о компаниях, а `rounds_df` c информацией о раундах."
   ]
  },
  {
   "cell_type": "code",
   "execution_count": 220,
   "metadata": {
    "trusted": true
   },
   "outputs": [],
   "source": [
    "# Создаем таблицу company_df, выбирая только те столбцы, которые относятся к информации о компаниях\n",
    "company_df = company_rounds_df[[\n",
    "    'company_ID',\n",
    "    'name',\n",
    "    'category_code',\n",
    "    'status',\n",
    "    'founded_at',\n",
    "    'closed_at',\n",
    "    'domain',\n",
    "    'network_username',\n",
    "    'country_code',\n",
    "    'investment_rounds',\n",
    "    'funding_rounds',\n",
    "    'funding_total',\n",
    "    'milestones'\n",
    "]]\n",
    "\n",
    "# Удаляем дубликаты в таблице company_df, оставляя только уникальные записи о компаниях\n",
    "company_df = company_df.drop_duplicates(subset=['company_ID'])\n",
    "\n",
    "# Переименовываем столбец 'company_ID' в 'company_id' для единообразия именовани\n",
    "company_df = company_df.rename(columns={'company_ID': 'company_id'})\n",
    "\n",
    "# Создаем таблицу rounds_df, выбирая только те столбцы, которые относятся к раундам финансирования\n",
    "rounds_df = company_rounds_df[[\n",
    "    'funding_round_id',\n",
    "    'company_id',\n",
    "    'funded_at',\n",
    "    'funding_round_type',\n",
    "    'raised_amount',\n",
    "    'pre_money_valuation',\n",
    "    'participants',\n",
    "    'is_first_round',\n",
    "    'is_last_round'\n",
    "]]\n",
    "\n",
    "# Удаляем дубликаты в таблице rounds_df, оставляя только уникальные записи о раундах финансирования\n",
    "rounds_df = rounds_df.drop_duplicates(subset=['company_id'])"
   ]
  },
  {
   "cell_type": "code",
   "execution_count": 221,
   "metadata": {
    "trusted": true
   },
   "outputs": [
    {
     "name": "stdout",
     "output_type": "stream",
     "text": [
      "<class 'pandas.core.frame.DataFrame'>\n",
      "Index: 196554 entries, 0 to 217472\n",
      "Data columns (total 13 columns):\n",
      " #   Column             Non-Null Count   Dtype         \n",
      "---  ------             --------------   -----         \n",
      " 0   company_id         196553 non-null  Int32         \n",
      " 1   name               196552 non-null  object        \n",
      " 2   category_code      123186 non-null  category      \n",
      " 3   status             196553 non-null  category      \n",
      " 4   founded_at         91227 non-null   datetime64[ns]\n",
      " 5   closed_at          2620 non-null    datetime64[ns]\n",
      " 6   domain             126545 non-null  object        \n",
      " 7   network_username   80591 non-null   object        \n",
      " 8   country_code       87990 non-null   category      \n",
      " 9   investment_rounds  196553 non-null  Int16         \n",
      " 10  funding_rounds     196553 non-null  Int8          \n",
      " 11  funding_total      196553 non-null  float64       \n",
      " 12  milestones         196553 non-null  Int8          \n",
      "dtypes: Int16(1), Int32(1), Int8(2), category(3), datetime64[ns](2), float64(1), object(3)\n",
      "memory usage: 13.5+ MB\n"
     ]
    }
   ],
   "source": [
    "# Выводим информацию о компаниях \n",
    "company_df.info()"
   ]
  },
  {
   "cell_type": "code",
   "execution_count": 222,
   "metadata": {
    "trusted": true
   },
   "outputs": [
    {
     "name": "stdout",
     "output_type": "stream",
     "text": [
      "<class 'pandas.core.frame.DataFrame'>\n",
      "Index: 31940 entries, 0 to 217773\n",
      "Data columns (total 9 columns):\n",
      " #   Column               Non-Null Count  Dtype         \n",
      "---  ------               --------------  -----         \n",
      " 0   funding_round_id     31939 non-null  Int32         \n",
      " 1   company_id           31939 non-null  Int32         \n",
      " 2   funded_at            31714 non-null  datetime64[ns]\n",
      " 3   funding_round_type   31939 non-null  category      \n",
      " 4   raised_amount        31939 non-null  float64       \n",
      " 5   pre_money_valuation  31939 non-null  float64       \n",
      " 6   participants         31939 non-null  Int8          \n",
      " 7   is_first_round       31939 non-null  Int8          \n",
      " 8   is_last_round        31939 non-null  Int8          \n",
      "dtypes: Int32(2), Int8(3), category(1), datetime64[ns](1), float64(2)\n",
      "memory usage: 1.5 MB\n"
     ]
    }
   ],
   "source": [
    "# Выводим инвормацию о раундах\n",
    "rounds_df.info()"
   ]
  },
  {
   "cell_type": "markdown",
   "metadata": {},
   "source": [
    "Предобработка и первичный анализ помогли ответить на следующие вопросы:\n",
    "- **Раунды финансирования:** анализ динамики по годам показал, что в 2005 году наблюдается максимальный типичный размер собранных средств, 2013 год показал рекордный рост количества раундов финансирования (11 072), что говорит о высокой активности на рынке инвестиций.\n",
    "- **Люди и образование:** оценка полноты данных об образовании и группировка компаний по размеру показали, что полнота данных зависит от этого параметра.\n",
    "- **Объединение данных:** cтолбцы `network_username` не подходят для объединения, так как указывают на разную информацию. Объединять стоит по `company_id`.\n",
    "- **Проблемный датасет:** разделение таблицы `company_rounds_df` на `company_df` и `rounds_df` позволило устранить дублирование и упростит анализ."
   ]
  },
  {
   "cell_type": "markdown",
   "metadata": {},
   "source": [
    "## Исследовательский анализ объединённых таблиц\n",
    "### Объединение данных\n",
    "Объединим данные таблиц `acq_df` и `company_df`. Возьмем из первой таблицы ключ `acquired_company_id`, так как заказчика интересуют компании, которые продавались. \n"
   ]
  },
  {
   "cell_type": "code",
   "execution_count": 223,
   "metadata": {
    "trusted": true
   },
   "outputs": [
    {
     "data": {
      "text/html": [
       "<div>\n",
       "<style scoped>\n",
       "    .dataframe tbody tr th:only-of-type {\n",
       "        vertical-align: middle;\n",
       "    }\n",
       "\n",
       "    .dataframe tbody tr th {\n",
       "        vertical-align: top;\n",
       "    }\n",
       "\n",
       "    .dataframe thead th {\n",
       "        text-align: right;\n",
       "    }\n",
       "</style>\n",
       "<table border=\"1\" class=\"dataframe\">\n",
       "  <thead>\n",
       "    <tr style=\"text-align: right;\">\n",
       "      <th></th>\n",
       "      <th>company_id</th>\n",
       "      <th>name</th>\n",
       "      <th>category_code</th>\n",
       "      <th>status</th>\n",
       "      <th>founded_at</th>\n",
       "      <th>closed_at</th>\n",
       "      <th>domain</th>\n",
       "      <th>network_username</th>\n",
       "      <th>country_code</th>\n",
       "      <th>investment_rounds</th>\n",
       "      <th>funding_rounds</th>\n",
       "      <th>funding_total</th>\n",
       "      <th>milestones</th>\n",
       "      <th>id</th>\n",
       "      <th>acquiring_company_id</th>\n",
       "      <th>acquired_company_id</th>\n",
       "      <th>term_code</th>\n",
       "      <th>price_amount</th>\n",
       "      <th>acquired_at</th>\n",
       "    </tr>\n",
       "  </thead>\n",
       "  <tbody>\n",
       "    <tr>\n",
       "      <th>0</th>\n",
       "      <td>1</td>\n",
       "      <td>Wetpaint</td>\n",
       "      <td>web</td>\n",
       "      <td>operating</td>\n",
       "      <td>2005-10-17</td>\n",
       "      <td>NaT</td>\n",
       "      <td>wetpaint-inc.com</td>\n",
       "      <td>BachelrWetpaint</td>\n",
       "      <td>USA</td>\n",
       "      <td>0</td>\n",
       "      <td>3</td>\n",
       "      <td>39,750,000.00</td>\n",
       "      <td>5</td>\n",
       "      <td>NaN</td>\n",
       "      <td>NaN</td>\n",
       "      <td>NaN</td>\n",
       "      <td>NaN</td>\n",
       "      <td>NaN</td>\n",
       "      <td>NaT</td>\n",
       "    </tr>\n",
       "    <tr>\n",
       "      <th>1</th>\n",
       "      <td>10</td>\n",
       "      <td>Flektor</td>\n",
       "      <td>games_video</td>\n",
       "      <td>acquired</td>\n",
       "      <td>NaT</td>\n",
       "      <td>NaT</td>\n",
       "      <td>flektor.com</td>\n",
       "      <td>NaN</td>\n",
       "      <td>USA</td>\n",
       "      <td>0</td>\n",
       "      <td>0</td>\n",
       "      <td>0.00</td>\n",
       "      <td>0</td>\n",
       "      <td>1.00</td>\n",
       "      <td>11.00</td>\n",
       "      <td>10.00</td>\n",
       "      <td>NaN</td>\n",
       "      <td>20,000,000.00</td>\n",
       "      <td>2007-05-30</td>\n",
       "    </tr>\n",
       "    <tr>\n",
       "      <th>2</th>\n",
       "      <td>100</td>\n",
       "      <td>There</td>\n",
       "      <td>games_video</td>\n",
       "      <td>acquired</td>\n",
       "      <td>NaT</td>\n",
       "      <td>NaT</td>\n",
       "      <td>there.com</td>\n",
       "      <td>NaN</td>\n",
       "      <td>USA</td>\n",
       "      <td>0</td>\n",
       "      <td>0</td>\n",
       "      <td>0.00</td>\n",
       "      <td>4</td>\n",
       "      <td>20.00</td>\n",
       "      <td>377.00</td>\n",
       "      <td>100.00</td>\n",
       "      <td>cash</td>\n",
       "      <td>0.00</td>\n",
       "      <td>2005-05-29</td>\n",
       "    </tr>\n",
       "    <tr>\n",
       "      <th>3</th>\n",
       "      <td>10000</td>\n",
       "      <td>MYWEBBO</td>\n",
       "      <td>network_hosting</td>\n",
       "      <td>operating</td>\n",
       "      <td>2008-07-26</td>\n",
       "      <td>NaT</td>\n",
       "      <td>mywebbo.com</td>\n",
       "      <td>NaN</td>\n",
       "      <td>NaN</td>\n",
       "      <td>0</td>\n",
       "      <td>0</td>\n",
       "      <td>0.00</td>\n",
       "      <td>0</td>\n",
       "      <td>NaN</td>\n",
       "      <td>NaN</td>\n",
       "      <td>NaN</td>\n",
       "      <td>NaN</td>\n",
       "      <td>NaN</td>\n",
       "      <td>NaT</td>\n",
       "    </tr>\n",
       "    <tr>\n",
       "      <th>4</th>\n",
       "      <td>10001</td>\n",
       "      <td>THE Movie Streamer</td>\n",
       "      <td>games_video</td>\n",
       "      <td>operating</td>\n",
       "      <td>2008-07-26</td>\n",
       "      <td>NaT</td>\n",
       "      <td>themoviestreamer.com</td>\n",
       "      <td>NaN</td>\n",
       "      <td>NaN</td>\n",
       "      <td>0</td>\n",
       "      <td>0</td>\n",
       "      <td>0.00</td>\n",
       "      <td>0</td>\n",
       "      <td>NaN</td>\n",
       "      <td>NaN</td>\n",
       "      <td>NaN</td>\n",
       "      <td>NaN</td>\n",
       "      <td>NaN</td>\n",
       "      <td>NaT</td>\n",
       "    </tr>\n",
       "  </tbody>\n",
       "</table>\n",
       "</div>"
      ],
      "text/plain": [
       "   company_id                name    category_code     status founded_at  \\\n",
       "0           1            Wetpaint              web  operating 2005-10-17   \n",
       "1          10             Flektor      games_video   acquired        NaT   \n",
       "2         100               There      games_video   acquired        NaT   \n",
       "3       10000             MYWEBBO  network_hosting  operating 2008-07-26   \n",
       "4       10001  THE Movie Streamer      games_video  operating 2008-07-26   \n",
       "\n",
       "  closed_at                domain network_username country_code  \\\n",
       "0       NaT      wetpaint-inc.com  BachelrWetpaint          USA   \n",
       "1       NaT           flektor.com              NaN          USA   \n",
       "2       NaT             there.com              NaN          USA   \n",
       "3       NaT           mywebbo.com              NaN          NaN   \n",
       "4       NaT  themoviestreamer.com              NaN          NaN   \n",
       "\n",
       "   investment_rounds  funding_rounds  funding_total  milestones    id  \\\n",
       "0                  0               3  39,750,000.00           5   NaN   \n",
       "1                  0               0           0.00           0  1.00   \n",
       "2                  0               0           0.00           4 20.00   \n",
       "3                  0               0           0.00           0   NaN   \n",
       "4                  0               0           0.00           0   NaN   \n",
       "\n",
       "   acquiring_company_id  acquired_company_id term_code  price_amount  \\\n",
       "0                   NaN                  NaN       NaN           NaN   \n",
       "1                 11.00                10.00       NaN 20,000,000.00   \n",
       "2                377.00               100.00      cash          0.00   \n",
       "3                   NaN                  NaN       NaN           NaN   \n",
       "4                   NaN                  NaN       NaN           NaN   \n",
       "\n",
       "  acquired_at  \n",
       "0         NaT  \n",
       "1  2007-05-30  \n",
       "2  2005-05-29  \n",
       "3         NaT  \n",
       "4         NaT  "
      ]
     },
     "execution_count": 223,
     "metadata": {},
     "output_type": "execute_result"
    }
   ],
   "source": [
    "# Объединяем таблицы\n",
    "company_acquisitions = company_df.merge(acq_df, left_on='company_id', right_on='acquired_company_id', how='left')\n",
    "company_acquisitions.head()"
   ]
  },
  {
   "cell_type": "markdown",
   "metadata": {},
   "source": [
    "Нужны компании, которые меняли или готовы менять владельцев. Сделаем фильтрацию датасета."
   ]
  },
  {
   "cell_type": "code",
   "execution_count": 224,
   "metadata": {
    "trusted": true
   },
   "outputs": [
    {
     "name": "stdout",
     "output_type": "stream",
     "text": [
      "Количество строк после фильтрации: 40890\n"
     ]
    }
   ],
   "source": [
    "# Создаем фильтр\n",
    "mask = (company_acquisitions['funding_rounds'] > 0) | (company_acquisitions['investment_rounds'] > 0) | (company_acquisitions['status'] == 'acquired')\n",
    "\n",
    "# Фильтруем датасет\n",
    "company_acquisitions = company_acquisitions[mask]\n",
    "\n",
    "# Вывод количества строк\n",
    "print(f'Количество строк после фильтрации: {company_acquisitions.shape[0]}')"
   ]
  },
  {
   "cell_type": "markdown",
   "metadata": {},
   "source": [
    "### Анализ выбросов\n",
    "Заказчика интересует типичный размер средств для рассматриваемого периода. Построим боксплот."
   ]
  },
  {
   "cell_type": "code",
   "execution_count": 239,
   "metadata": {
    "trusted": true
   },
   "outputs": [
    {
     "data": {
      "image/png": "[encoded data removed]",
      "text/plain": [
       "<Figure size 700x200 with 1 Axes>"
      ]
     },
     "metadata": {},
     "output_type": "display_data"
    },
    {
     "data": {
      "text/plain": [
       "count          40,890.00\n",
       "mean       10,135,585.95\n",
       "std        56,412,886.91\n",
       "min                 0.00\n",
       "25%                 0.00\n",
       "50%           600,000.00\n",
       "75%         5,631,320.00\n",
       "max     5,700,000,000.00\n",
       "Name: funding_total, dtype: float64"
      ]
     },
     "execution_count": 239,
     "metadata": {},
     "output_type": "execute_result"
    }
   ],
   "source": [
    "# Создаём контейнер графика matplotlib и задаём его размер\n",
    "plt.figure(figsize=(7, 2))\n",
    "\n",
    "# Строим диаграмму размаха значений в столбце funding_total\n",
    "company_acquisitions.boxplot(column='funding_total', vert=False)\n",
    "\n",
    "# Добавляем заголовок и метки оси\n",
    "plt.title('Распределение cумм финансирования')\n",
    "plt.xlabel('Сумма финансирования')\n",
    "\n",
    "# Выводим график\n",
    "plt.show()\n",
    "\n",
    "# Выводим описательные статистики\n",
    "company_acquisitions['funding_total'].describe()"
   ]
  },
  {
   "cell_type": "markdown",
   "metadata": {},
   "source": [
    "Диаграмма размаха показывает наличие большого количества аномально высоких значений. В таких случаях среднее значение сильно искажается выбросами и не отражает типичный размер финансирования. Более надежным показателем является медиана, так как она устойчива к выбросам. Таким образом, типичным значением финансирования для одной компании можно считать 600,000.00 долларов. При этом явным выбросом является сумма 5,700,000,000.00 долларов, которая значительно превышает значения для большинства компаний."
   ]
  },
  {
   "cell_type": "markdown",
   "metadata": {},
   "source": [
    "###  Куплены забесплатно?\n",
    "Отфильтруем компании, которые были проданы за 0 или 1 доллар, и у которых `funding_total` больше 0:"
   ]
  },
  {
   "cell_type": "code",
   "execution_count": 226,
   "metadata": {
    "trusted": true
   },
   "outputs": [
    {
     "data": {
      "text/html": [
       "<div>\n",
       "<style scoped>\n",
       "    .dataframe tbody tr th:only-of-type {\n",
       "        vertical-align: middle;\n",
       "    }\n",
       "\n",
       "    .dataframe tbody tr th {\n",
       "        vertical-align: top;\n",
       "    }\n",
       "\n",
       "    .dataframe thead th {\n",
       "        text-align: right;\n",
       "    }\n",
       "</style>\n",
       "<table border=\"1\" class=\"dataframe\">\n",
       "  <thead>\n",
       "    <tr style=\"text-align: right;\">\n",
       "      <th></th>\n",
       "      <th>company_id</th>\n",
       "      <th>name</th>\n",
       "      <th>category_code</th>\n",
       "      <th>status</th>\n",
       "      <th>founded_at</th>\n",
       "      <th>closed_at</th>\n",
       "      <th>domain</th>\n",
       "      <th>network_username</th>\n",
       "      <th>country_code</th>\n",
       "      <th>investment_rounds</th>\n",
       "      <th>funding_rounds</th>\n",
       "      <th>funding_total</th>\n",
       "      <th>milestones</th>\n",
       "      <th>id</th>\n",
       "      <th>acquiring_company_id</th>\n",
       "      <th>acquired_company_id</th>\n",
       "      <th>term_code</th>\n",
       "      <th>price_amount</th>\n",
       "      <th>acquired_at</th>\n",
       "    </tr>\n",
       "  </thead>\n",
       "  <tbody>\n",
       "    <tr>\n",
       "      <th>66</th>\n",
       "      <td>10054</td>\n",
       "      <td>Jumptap</td>\n",
       "      <td>mobile</td>\n",
       "      <td>acquired</td>\n",
       "      <td>2005-01-01</td>\n",
       "      <td>NaT</td>\n",
       "      <td>jumptap.com</td>\n",
       "      <td>jumptap</td>\n",
       "      <td>USA</td>\n",
       "      <td>0</td>\n",
       "      <td>7</td>\n",
       "      <td>121,500,000.00</td>\n",
       "      <td>3</td>\n",
       "      <td>9,288.00</td>\n",
       "      <td>23,283.00</td>\n",
       "      <td>10,054.00</td>\n",
       "      <td>cash_and_stock</td>\n",
       "      <td>0.00</td>\n",
       "      <td>2013-08-13</td>\n",
       "    </tr>\n",
       "    <tr>\n",
       "      <th>170</th>\n",
       "      <td>101312</td>\n",
       "      <td>SideTour</td>\n",
       "      <td>web</td>\n",
       "      <td>acquired</td>\n",
       "      <td>2011-06-01</td>\n",
       "      <td>NaT</td>\n",
       "      <td>sidetour.com</td>\n",
       "      <td>sidetour</td>\n",
       "      <td>USA</td>\n",
       "      <td>0</td>\n",
       "      <td>3</td>\n",
       "      <td>4,000,000.00</td>\n",
       "      <td>2</td>\n",
       "      <td>9,653.00</td>\n",
       "      <td>11,391.00</td>\n",
       "      <td>101,312.00</td>\n",
       "      <td>NaN</td>\n",
       "      <td>0.00</td>\n",
       "      <td>2013-09-18</td>\n",
       "    </tr>\n",
       "    <tr>\n",
       "      <th>177</th>\n",
       "      <td>101340</td>\n",
       "      <td>ChoicePass</td>\n",
       "      <td>enterprise</td>\n",
       "      <td>acquired</td>\n",
       "      <td>2011-07-01</td>\n",
       "      <td>NaT</td>\n",
       "      <td>choicepass.com</td>\n",
       "      <td>choicepass</td>\n",
       "      <td>USA</td>\n",
       "      <td>0</td>\n",
       "      <td>1</td>\n",
       "      <td>250,000.00</td>\n",
       "      <td>1</td>\n",
       "      <td>7,272.00</td>\n",
       "      <td>1,972.00</td>\n",
       "      <td>101,340.00</td>\n",
       "      <td>NaN</td>\n",
       "      <td>0.00</td>\n",
       "      <td>2012-06-18</td>\n",
       "    </tr>\n",
       "    <tr>\n",
       "      <th>181</th>\n",
       "      <td>10137</td>\n",
       "      <td>Producteev</td>\n",
       "      <td>software</td>\n",
       "      <td>acquired</td>\n",
       "      <td>2008-07-08</td>\n",
       "      <td>NaT</td>\n",
       "      <td>producteev.com</td>\n",
       "      <td>producteev</td>\n",
       "      <td>USA</td>\n",
       "      <td>0</td>\n",
       "      <td>3</td>\n",
       "      <td>1,310,000.00</td>\n",
       "      <td>2</td>\n",
       "      <td>8,254.00</td>\n",
       "      <td>757.00</td>\n",
       "      <td>10,137.00</td>\n",
       "      <td>cash_and_stock</td>\n",
       "      <td>0.00</td>\n",
       "      <td>2012-11-05</td>\n",
       "    </tr>\n",
       "    <tr>\n",
       "      <th>184</th>\n",
       "      <td>10139</td>\n",
       "      <td>TradeCard</td>\n",
       "      <td>enterprise</td>\n",
       "      <td>acquired</td>\n",
       "      <td>1999-01-01</td>\n",
       "      <td>NaT</td>\n",
       "      <td>tradecard.com</td>\n",
       "      <td>TradeCard</td>\n",
       "      <td>USA</td>\n",
       "      <td>0</td>\n",
       "      <td>2</td>\n",
       "      <td>44,925,000.00</td>\n",
       "      <td>1</td>\n",
       "      <td>9,326.00</td>\n",
       "      <td>44,008.00</td>\n",
       "      <td>10,139.00</td>\n",
       "      <td>NaN</td>\n",
       "      <td>0.00</td>\n",
       "      <td>2013-04-01</td>\n",
       "    </tr>\n",
       "  </tbody>\n",
       "</table>\n",
       "</div>"
      ],
      "text/plain": [
       "     company_id        name category_code    status founded_at closed_at  \\\n",
       "66        10054     Jumptap        mobile  acquired 2005-01-01       NaT   \n",
       "170      101312    SideTour           web  acquired 2011-06-01       NaT   \n",
       "177      101340  ChoicePass    enterprise  acquired 2011-07-01       NaT   \n",
       "181       10137  Producteev      software  acquired 2008-07-08       NaT   \n",
       "184       10139   TradeCard    enterprise  acquired 1999-01-01       NaT   \n",
       "\n",
       "             domain network_username country_code  investment_rounds  \\\n",
       "66      jumptap.com          jumptap          USA                  0   \n",
       "170    sidetour.com         sidetour          USA                  0   \n",
       "177  choicepass.com       choicepass          USA                  0   \n",
       "181  producteev.com       producteev          USA                  0   \n",
       "184   tradecard.com        TradeCard          USA                  0   \n",
       "\n",
       "     funding_rounds  funding_total  milestones       id  acquiring_company_id  \\\n",
       "66                7 121,500,000.00           3 9,288.00             23,283.00   \n",
       "170               3   4,000,000.00           2 9,653.00             11,391.00   \n",
       "177               1     250,000.00           1 7,272.00              1,972.00   \n",
       "181               3   1,310,000.00           2 8,254.00                757.00   \n",
       "184               2  44,925,000.00           1 9,326.00             44,008.00   \n",
       "\n",
       "     acquired_company_id       term_code  price_amount acquired_at  \n",
       "66             10,054.00  cash_and_stock          0.00  2013-08-13  \n",
       "170           101,312.00             NaN          0.00  2013-09-18  \n",
       "177           101,340.00             NaN          0.00  2012-06-18  \n",
       "181            10,137.00  cash_and_stock          0.00  2012-11-05  \n",
       "184            10,139.00             NaN          0.00  2013-04-01  "
      ]
     },
     "execution_count": 226,
     "metadata": {},
     "output_type": "execute_result"
    }
   ],
   "source": [
    "filtered_companies = company_acquisitions[(company_acquisitions['price_amount'].isin([0, 1]) & (company_acquisitions['funding_total'] > 0))]\n",
    "filtered_companies.head()"
   ]
  },
  {
   "cell_type": "markdown",
   "metadata": {},
   "source": [
    "Для определения выбросов в столбце `funding_total` используем метод межквартильного размаха (IQR):"
   ]
  },
  {
   "cell_type": "code",
   "execution_count": 227,
   "metadata": {
    "trusted": true
   },
   "outputs": [
    {
     "name": "stdout",
     "output_type": "stream",
     "text": [
      "Нижняя граница выбросов: -18250000.0\n",
      "Верхняя граница выбросов: 35750000.0\n"
     ]
    }
   ],
   "source": [
    "# Рассчитаем квартили и IQR\n",
    "Q1 = filtered_companies['funding_total'].quantile(0.25)\n",
    "Q3 = filtered_companies['funding_total'].quantile(0.75)\n",
    "IQR = Q3 - Q1\n",
    "\n",
    "# Границы выбросов\n",
    "lower_bound = Q1 - 1.5 * IQR\n",
    "upper_bound = Q3 + 1.5 * IQR\n",
    "\n",
    "print(f\"Нижняя граница выбросов: {lower_bound}\")\n",
    "print(f\"Верхняя граница выбросов: {upper_bound}\")"
   ]
  },
  {
   "cell_type": "markdown",
   "metadata": {},
   "source": [
    "Найдем, каким процентилям соответствуют `lower_bound` и `upper_bound`:"
   ]
  },
  {
   "cell_type": "code",
   "execution_count": 228,
   "metadata": {
    "trusted": true
   },
   "outputs": [
    {
     "name": "stdout",
     "output_type": "stream",
     "text": [
      "Нижняя граница соответствует 0.00% данных.\n",
      "Верхняя граница соответствует 90.91% данных.\n"
     ]
    }
   ],
   "source": [
    "# Доля данных, которые меньше или равны нижней границе\n",
    "lower_percentile = (filtered_companies['funding_total'] <= lower_bound).mean() * 100\n",
    "\n",
    "# Доля данных, которые меньше или равны верхней границе\n",
    "upper_percentile = (filtered_companies['funding_total'] <= upper_bound).mean() * 100\n",
    "\n",
    "print(f\"Нижняя граница соответствует {lower_percentile:.2f}% данных.\")\n",
    "print(f\"Верхняя граница соответствует {upper_percentile:.2f}% данных.\")"
   ]
  },
  {
   "cell_type": "markdown",
   "metadata": {},
   "source": [
    "Изучим основные характеристики отфильтрованных данных:"
   ]
  },
  {
   "cell_type": "code",
   "execution_count": 229,
   "metadata": {
    "trusted": true
   },
   "outputs": [
    {
     "name": "stdout",
     "output_type": "stream",
     "text": [
      "Количество компаний: 1471\n"
     ]
    }
   ],
   "source": [
    "# Фильтрация данных\n",
    "filtered_companies_no_outliers = filtered_companies[\n",
    "    (filtered_companies['funding_total'] >= lower_bound) & \n",
    "    (filtered_companies['funding_total'] <= upper_bound)\n",
    "]\n",
    "\n",
    "# Описательная статистика\n",
    "print(\"Количество компаний:\", filtered_companies_no_outliers.shape[0])"
   ]
  },
  {
   "cell_type": "code",
   "execution_count": 230,
   "metadata": {
    "trusted": true
   },
   "outputs": [
    {
     "name": "stdout",
     "output_type": "stream",
     "text": [
      "\n",
      "Распределение по категориям:\n",
      "category_code\n",
      "software            344\n",
      "web                 206\n",
      "enterprise          123\n",
      "mobile              102\n",
      "advertising          72\n",
      "games_video          67\n",
      "ecommerce            54\n",
      "biotech              51\n",
      "network_hosting      49\n",
      "hardware             34\n",
      "semiconductor        33\n",
      "analytics            30\n",
      "cleantech            30\n",
      "security             29\n",
      "public_relations     24\n",
      "other                17\n",
      "social               16\n",
      "travel               16\n",
      "messaging            15\n",
      "search               15\n",
      "education            10\n",
      "consulting            9\n",
      "health                9\n",
      "medical               8\n",
      "news                  8\n",
      "music                 7\n",
      "finance               6\n",
      "fashion               4\n",
      "manufacturing         3\n",
      "design                3\n",
      "photo_video           3\n",
      "hospitality           3\n",
      "automotive            2\n",
      "legal                 2\n",
      "sports                2\n",
      "transportation        1\n",
      "government            0\n",
      "local                 0\n",
      "nanotech              0\n",
      "real_estate           0\n",
      "nonprofit             0\n",
      "pets                  0\n",
      "Name: count, dtype: int64\n"
     ]
    }
   ],
   "source": [
    "# Распределение по категориям\n",
    "print(\"\\nРаспределение по категориям:\")\n",
    "print(filtered_companies_no_outliers['category_code'].value_counts())"
   ]
  },
  {
   "cell_type": "code",
   "execution_count": 231,
   "metadata": {
    "trusted": true
   },
   "outputs": [
    {
     "name": "stdout",
     "output_type": "stream",
     "text": [
      "\n",
      "Распределение по странам:\n",
      "country_code\n",
      "USA    1113\n",
      "GBR      62\n",
      "CAN      42\n",
      "DEU      30\n",
      "ISR      27\n",
      "       ... \n",
      "VNM       0\n",
      "YEM       0\n",
      "ZAF       0\n",
      "ZMB       0\n",
      "ZWE       0\n",
      "Name: count, Length: 175, dtype: int64\n"
     ]
    }
   ],
   "source": [
    "# Распределение по странам\n",
    "print(\"\\nРаспределение по странам:\")\n",
    "print(filtered_companies_no_outliers['country_code'].value_counts())"
   ]
  },
  {
   "cell_type": "markdown",
   "metadata": {},
   "source": [
    "Компании, проданные за 0 или 1 доллар, привлекли в среднем 8.31 млн финансирования, при этом. Больше всего таких компаний в категориях software, web и enterprise, а основная доля сосредоточена в США. Причины продажи за символическую сумму могут включать стратегические приобретения, финансовые проблемы, юридические причины или символические сделки."
   ]
  },
  {
   "cell_type": "markdown",
   "metadata": {},
   "source": [
    "### Цены стартапов по категориям"
   ]
  },
  {
   "cell_type": "markdown",
   "metadata": {},
   "source": [
    "Отфильтруем данные, чтобы оставить только строки, где указана цена покупки:"
   ]
  },
  {
   "cell_type": "code",
   "execution_count": 232,
   "metadata": {
    "trusted": true
   },
   "outputs": [],
   "source": [
    "# Фильтрация данных\n",
    "acquired_data = company_acquisitions.dropna(subset=['price_amount'])"
   ]
  },
  {
   "cell_type": "markdown",
   "metadata": {},
   "source": [
    "Для каждой категории стартапов рассчитаем медиану цены покупки (median_price), cтандартное отклонение цен (std_price), количество сделок (count), самую дорогую покупку (max_price) и самую дешевую (min_price):"
   ]
  },
  {
   "cell_type": "code",
   "execution_count": 233,
   "metadata": {
    "trusted": true
   },
   "outputs": [
    {
     "name": "stdout",
     "output_type": "stream",
     "text": [
      "Топ категорий по медианной цене покупки:\n",
      "\n",
      "      category_code   median_price      std_price    min_price      max_price  \\\n",
      "4         cleantech 162,500,000.00 144,408,850.87   450,000.00 520,000,000.00   \n",
      "34         security 148,500,000.00 214,993,289.96 1,850,000.00 717,000,000.00   \n",
      "11          finance 131,500,000.00 191,282,683.02 1,200,000.00 616,000,000.00   \n",
      "3           biotech 120,750,000.00 213,811,447.66   109,000.00 785,000,000.00   \n",
      "7         ecommerce 105,000,000.00 180,037,597.37        11.00 575,000,000.00   \n",
      "19    manufacturing  97,200,000.00 217,682,311.93       373.00 615,000,000.00   \n",
      "35    semiconductor  75,000,000.00 135,066,849.09 1,500,000.00 605,000,000.00   \n",
      "33           search  72,500,000.00 129,363,773.10    50,000.00 500,000,000.00   \n",
      "25  network_hosting  64,115,000.00 180,466,624.41    10,000.00 748,000,000.00   \n",
      "0       advertising  50,000,000.00 166,353,455.62    10,000.00 750,000,000.00   \n",
      "\n",
      "    count  \n",
      "4      34  \n",
      "34     31  \n",
      "11     16  \n",
      "3     226  \n",
      "7      46  \n",
      "19     14  \n",
      "35     64  \n",
      "33     17  \n",
      "25     56  \n",
      "0      76  \n"
     ]
    },
    {
     "name": "stderr",
     "output_type": "stream",
     "text": [
      "C:\\Users\\Asus\\AppData\\Local\\Temp\\ipykernel_14460\\3162593967.py:9: FutureWarning: The default of observed=False is deprecated and will be changed to True in a future version of pandas. Pass observed=False to retain current behavior or observed=True to adopt the future default and silence this warning.\n",
      "  category_stats = acquired_data.groupby('category_code')['price_amount'].agg(\n"
     ]
    }
   ],
   "source": [
    "# Удаляем строки с price_amount = 0\n",
    "acquired_data = acquired_data[acquired_data['price_amount'] != 0]\n",
    "\n",
    "# Ограничиваем данные 90-м квантилем\n",
    "price_percentile = acquired_data['price_amount'].quantile(0.90)\n",
    "acquired_data = acquired_data[acquired_data['price_amount'] <= price_percentile]\n",
    "\n",
    "# Группировка по категориям и расчёт метрик\n",
    "category_stats = acquired_data.groupby('category_code')['price_amount'].agg(\n",
    "    median_price='median',\n",
    "    std_price='std',\n",
    "    min_price='min',\n",
    "    max_price='max',\n",
    "    count='count'\n",
    ").reset_index()\n",
    "\n",
    "# Удаляем категории с малым количеством сделок\n",
    "category_stats = category_stats[category_stats['count'] >= 10]\n",
    "\n",
    "# Сортировка по медианной цене (по убыванию)\n",
    "category_stats_sorted_by_median = category_stats.sort_values(by='median_price', ascending=False)\n",
    "\n",
    "# Сортировка по стандартному отклонению (по убыванию)\n",
    "category_stats_sorted_by_std = category_stats.sort_values(by='std_price', ascending=False)\n",
    "\n",
    "# Топ-10 категорий по медианной цене\n",
    "top_categories_by_median = category_stats_sorted_by_median.head(10)\n",
    "print(\"Топ категорий по медианной цене покупки:\\n\")\n",
    "print(top_categories_by_median)"
   ]
  },
  {
   "cell_type": "code",
   "execution_count": 234,
   "metadata": {
    "trusted": true
   },
   "outputs": [
    {
     "name": "stdout",
     "output_type": "stream",
     "text": [
      "\n",
      "Топ категорий по стандартному отклонению цены:\n",
      "\n",
      "       category_code   median_price      std_price    min_price  \\\n",
      "19     manufacturing  97,200,000.00 217,682,311.93       373.00   \n",
      "34          security 148,500,000.00 214,993,289.96 1,850,000.00   \n",
      "3            biotech 120,750,000.00 213,811,447.66   109,000.00   \n",
      "14          hardware  50,000,000.00 198,357,834.40        49.00   \n",
      "11           finance 131,500,000.00 191,282,683.02 1,200,000.00   \n",
      "25   network_hosting  64,115,000.00 180,466,624.41    10,000.00   \n",
      "7          ecommerce 105,000,000.00 180,037,597.37        11.00   \n",
      "9         enterprise  43,300,000.00 175,412,981.10    20,000.00   \n",
      "31  public_relations  40,000,000.00 170,601,548.95    25,000.00   \n",
      "0        advertising  50,000,000.00 166,353,455.62    10,000.00   \n",
      "\n",
      "        max_price  count  \n",
      "19 615,000,000.00     14  \n",
      "34 717,000,000.00     31  \n",
      "3  785,000,000.00    226  \n",
      "14 775,000,000.00     73  \n",
      "11 616,000,000.00     16  \n",
      "25 748,000,000.00     56  \n",
      "7  575,000,000.00     46  \n",
      "9  775,000,000.00     98  \n",
      "31 643,000,000.00     63  \n",
      "0  750,000,000.00     76  \n"
     ]
    }
   ],
   "source": [
    "# Топ-10 категорий по разбросу цен\n",
    "top_categories_by_std = category_stats_sorted_by_std.head(10)\n",
    "print(\"\\nТоп категорий по стандартному отклонению цены:\\n\")\n",
    "print(top_categories_by_std)"
   ]
  },
  {
   "cell_type": "markdown",
   "metadata": {},
   "source": [
    "Был выбран топ-10, чтобы сосредоточиться на наиболее значимых категориях. Это число достаточно велико, чтобы охватить разнообразие, но достаточно мало, чтобы выделить ключевые тенденции. Категории с высокой средней ценой покупки привлекательны для инвесторов, готовых к высоким рискам ради потенциально больших доходов. Категории с большим разбросом цен интересны, так как они могут включать как очень успешные, так и неудачные стартапы, что создаёт возможности для высокодоходных инвестиций.  \n",
    "Исходя из полученных результатов можно сделать следующие выводы:  \n",
    "- Cleantech лидирует с медианной ценой в 120 млн, но при этом имеет высокое стандартное отклонение (118 млн), что указывает на значительный разброс цен.\n",
    "- Security и Finance также находятся в топе, но их стандартное отклонение близко к медианной цене, что говорит о высокой волатильности цен.\n",
    "- Ecommerce имеет медиану 73 млн, но минимальная цена всего 11, а максимальная — 350 млн, что указывает на экстремальные выбросы.\n",
    "- Ecommerce и Manufacturing имеют самые высокие стандартные отклонения (128 млн), что подтверждает наличие сильных выбросов.\n",
    "- Biotech и Semiconductor также имеют высокие стандартные отклонения, но их медианные цены ниже, чем у лидеров."
   ]
  },
  {
   "cell_type": "markdown",
   "metadata": {},
   "source": [
    "### Сколько раундов продержится стартап перед покупкой\n",
    "Сначала изучим основные характеристики столбца `funding_rounds`:"
   ]
  },
  {
   "cell_type": "code",
   "execution_count": 235,
   "metadata": {
    "trusted": true
   },
   "outputs": [
    {
     "name": "stdout",
     "output_type": "stream",
     "text": [
      "count   40,890.00\n",
      "mean         1.29\n",
      "std          1.26\n",
      "min          0.00\n",
      "25%          1.00\n",
      "50%          1.00\n",
      "75%          2.00\n",
      "max         15.00\n",
      "Name: funding_rounds, dtype: Float64\n",
      "Уникальные значения funding_rounds: <IntegerArray>\n",
      "[3, 0, 1, 5, 2, 7, 4, 6, 8, 10, 9, 13, 11, 15, 14, 12]\n",
      "Length: 16, dtype: Int8\n"
     ]
    }
   ],
   "source": [
    "# Описательная статистика\n",
    "print(company_acquisitions['funding_rounds'].describe())\n",
    "\n",
    "# Уникальные значения\n",
    "print(\"Уникальные значения funding_rounds:\", company_acquisitions['funding_rounds'].unique())"
   ]
  },
  {
   "cell_type": "markdown",
   "metadata": {},
   "source": [
    "- Большинство стартапов прошли 1 или 2 раунда финансирования.\n",
    "- Только 25% стартапов прошли более 2 раундов.\n",
    "- Максимальное количество раундов — 15, но такие случаи редки.\n",
    "- Cтартапы проходили от 0 до 15 раундов финансирования.  \n",
    "Теперь исследуем, сколько в среднем раундов финансирования проходили стартапы в зависимости от их статуса:"
   ]
  },
  {
   "cell_type": "code",
   "execution_count": 236,
   "metadata": {
    "trusted": true
   },
   "outputs": [
    {
     "name": "stdout",
     "output_type": "stream",
     "text": [
      "Среднее количество раундов по статусам:\n",
      "      status  funding_rounds\n",
      "2        ipo            1.93\n",
      "3  operating            1.52\n",
      "1     closed            1.38\n",
      "0   acquired            0.53\n"
     ]
    },
    {
     "name": "stderr",
     "output_type": "stream",
     "text": [
      "C:\\Users\\Asus\\AppData\\Local\\Temp\\ipykernel_14460\\3250358401.py:2: FutureWarning: The default of observed=False is deprecated and will be changed to True in a future version of pandas. Pass observed=False to retain current behavior or observed=True to adopt the future default and silence this warning.\n",
      "  status_rounds = company_acquisitions.groupby('status')['funding_rounds'].mean().reset_index()\n"
     ]
    }
   ],
   "source": [
    "# Группировка по статусу и расчёт среднего количества раундов\n",
    "status_rounds = company_acquisitions.groupby('status')['funding_rounds'].mean().reset_index()\n",
    "\n",
    "# Сортировка по убыванию\n",
    "status_rounds_sorted = status_rounds.sort_values(by='funding_rounds', ascending=False)\n",
    "\n",
    "print(\"Среднее количество раундов по статусам:\")\n",
    "print(status_rounds_sorted)"
   ]
  },
  {
   "cell_type": "markdown",
   "metadata": {},
   "source": [
    "Стартапы, которые вышли на IPO, прошли в среднем 1.93 раунда финансирования. Действующие стартапы (operating) прошли в среднем 1.52 раунда, что указывает на их активное развитие и продолжение привлечения финансирования. Закрытые стартапы (closed) прошли в среднем 1.38 раунда, что может свидетельствовать о недостаточном финансировании для продолжения работы. Наиболее неожиданным результатом является то, что приобретённые стартапы (acquired) прошли в среднем всего 0.53 раунда. Таким образом, количество раундов финансирования варьируется в зависимости от статуса стартапа.  \n",
    "Для наглядности построим столбчатую диаграмму:"
   ]
  },
  {
   "cell_type": "code",
   "execution_count": 237,
   "metadata": {
    "trusted": true
   },
   "outputs": [
    {
     "name": "stderr",
     "output_type": "stream",
     "text": [
      "C:\\Users\\Asus\\AppData\\Local\\Temp\\ipykernel_14460\\3973629560.py:5: FutureWarning: \n",
      "\n",
      "Passing `palette` without assigning `hue` is deprecated and will be removed in v0.14.0. Assign the `x` variable to `hue` and set `legend=False` for the same effect.\n",
      "\n",
      "  sns.barplot(x='status', y='funding_rounds', data=status_rounds_sorted, palette='viridis')\n"
     ]
    },
    {
     "data": {
      "image/png": "[encoded data removed]",
      "text/plain": [
       "<Figure size 1200x600 with 1 Axes>"
      ]
     },
     "metadata": {},
     "output_type": "display_data"
    }
   ],
   "source": [
    "# Создаём контейнер графика matplotlib и задаём его размер\n",
    "plt.figure(figsize=(12, 6))\n",
    "\n",
    "# Cтроим столбчатую диаграмму\n",
    "sns.barplot(x='status', y='funding_rounds', data=status_rounds_sorted, palette='viridis')\n",
    "\n",
    "# Добавляем заголовок и метки оси\n",
    "plt.title('Среднее количество раундов финансирования по статусам стартапов')\n",
    "plt.xlabel('Статус стартапа')\n",
    "plt.ylabel('Среднее количество раундов')\n",
    "\n",
    "# Выводим результат\n",
    "plt.show()"
   ]
  },
  {
   "cell_type": "markdown",
   "metadata": {},
   "source": [
    "## Итоговый вывод и рекомендации\n",
    "Анализ рынка инвестиций в стартапы был проведен на основе проблемного датасета. Но данных хватило, чтобы ответить на поставленные вопросы. Стоит отметить, что в крупных компаниях большая доля пропусков в информации об образовании сотрудников (81.19%), что может искажать результаты анализа. Малые компании тщательнее проводят сбор данных (доля пропусков составляет 49.88%).\n",
    "\n",
    "Проведенное исследование показывает, что рынок инвестиций в стартапы остается активным, особенно в категориях Enterprise, Biotech и Software. Эти категории привлекательны для инвесторов, так как демонстрируют как высокие медианные цены покупки, так и значительный разброс цен. Например:\n",
    "\n",
    "- Cleantech лидирует по медианной цене (120 млн), но имеет высокое стандартное отклонение (118 млн), что указывает на значительную волатильность.\n",
    "\n",
    "- Biotech и Semiconductor также показывают высокие медианные цены (60 млн и 68.75 млн соответственно), но их разброс цен остается значительным.\n",
    "\n",
    "При этом стартапы, проданные за 0 или 1 доллар, чаще всего связаны со стратегическими приобретениями, финансовыми проблемами или юридическими причинами.\n",
    "\n",
    "Динамика раундов финансирования показывает, что пик активности пришёлся на 2013 год (11,072 раунда), но средний размер финансирования снизился до $1,200,000, что может указывать на изменение стратегии инвесторов или увеличение числа небольших раундов.\n",
    "\n",
    "Рекомендации:\n",
    "- обратить внимание на Cleantech и Biotech, так как они имеют высокий потенциал доходности. Однако важно учитывать их высокий разброс цен, что указывает на повышенный риск.\n",
    "- улучшить качество данных, особенно в части об образовании сотрудников.\n",
    "- учитывать разброс цен в категориях с высоким риском (например, Games/Video, Other), так как они могут предложить как высокую доходность, так и значительные потери"
   ]
  }
 ],
 "metadata": {
  "ExecuteTimeLog": [
   {
    "duration": 1145,
    "start_time": "2025-03-16T12:40:02.797Z"
   },
   {
    "duration": 1070,
    "start_time": "2025-03-16T12:40:03.944Z"
   },
   {
    "duration": 11,
    "start_time": "2025-03-16T12:40:05.016Z"
   },
   {
    "duration": 44,
    "start_time": "2025-03-16T12:40:05.029Z"
   },
   {
    "duration": 152,
    "start_time": "2025-03-16T12:40:05.075Z"
   },
   {
    "duration": 136,
    "start_time": "2025-03-16T12:40:05.229Z"
   },
   {
    "duration": 155,
    "start_time": "2025-03-16T12:40:05.367Z"
   },
   {
    "duration": 385,
    "start_time": "2025-03-16T12:40:05.523Z"
   },
   {
    "duration": 8,
    "start_time": "2025-03-16T12:40:05.910Z"
   },
   {
    "duration": 54,
    "start_time": "2025-03-16T12:40:05.919Z"
   },
   {
    "duration": 88,
    "start_time": "2025-03-16T12:40:05.975Z"
   },
   {
    "duration": 11,
    "start_time": "2025-03-16T12:40:06.065Z"
   },
   {
    "duration": 97,
    "start_time": "2025-03-16T12:40:06.078Z"
   },
   {
    "duration": 63,
    "start_time": "2025-03-16T12:40:06.178Z"
   },
   {
    "duration": 7,
    "start_time": "2025-03-16T12:40:06.243Z"
   },
   {
    "duration": 31,
    "start_time": "2025-03-16T12:40:06.251Z"
   },
   {
    "duration": 62,
    "start_time": "2025-03-16T12:40:06.284Z"
   },
   {
    "duration": 199,
    "start_time": "2025-03-16T12:40:06.348Z"
   },
   {
    "duration": 541,
    "start_time": "2025-03-16T12:40:06.548Z"
   },
   {
    "duration": 0,
    "start_time": "2025-03-16T12:40:07.091Z"
   },
   {
    "duration": 0,
    "start_time": "2025-03-16T12:40:07.092Z"
   },
   {
    "duration": 0,
    "start_time": "2025-03-16T12:40:07.093Z"
   },
   {
    "duration": 78,
    "start_time": "2025-03-16T12:45:22.536Z"
   },
   {
    "duration": 54,
    "start_time": "2025-03-16T12:45:23.615Z"
   },
   {
    "duration": 14,
    "start_time": "2025-03-16T12:45:23.887Z"
   },
   {
    "duration": 1304,
    "start_time": "2025-03-18T18:39:08.749Z"
   },
   {
    "duration": 0,
    "start_time": "2025-03-18T18:39:10.055Z"
   },
   {
    "duration": 0,
    "start_time": "2025-03-18T18:39:10.057Z"
   },
   {
    "duration": 0,
    "start_time": "2025-03-18T18:39:10.059Z"
   },
   {
    "duration": 0,
    "start_time": "2025-03-18T18:39:10.061Z"
   },
   {
    "duration": 0,
    "start_time": "2025-03-18T18:39:10.062Z"
   },
   {
    "duration": 0,
    "start_time": "2025-03-18T18:39:10.064Z"
   },
   {
    "duration": 0,
    "start_time": "2025-03-18T18:39:10.066Z"
   },
   {
    "duration": 0,
    "start_time": "2025-03-18T18:39:10.067Z"
   },
   {
    "duration": 0,
    "start_time": "2025-03-18T18:39:10.069Z"
   },
   {
    "duration": 0,
    "start_time": "2025-03-18T18:39:10.071Z"
   },
   {
    "duration": 0,
    "start_time": "2025-03-18T18:39:10.073Z"
   },
   {
    "duration": 0,
    "start_time": "2025-03-18T18:39:10.075Z"
   },
   {
    "duration": 0,
    "start_time": "2025-03-18T18:39:10.105Z"
   },
   {
    "duration": 0,
    "start_time": "2025-03-18T18:39:10.107Z"
   },
   {
    "duration": 0,
    "start_time": "2025-03-18T18:39:10.108Z"
   },
   {
    "duration": 0,
    "start_time": "2025-03-18T18:39:10.109Z"
   },
   {
    "duration": 0,
    "start_time": "2025-03-18T18:39:10.111Z"
   },
   {
    "duration": 0,
    "start_time": "2025-03-18T18:39:10.112Z"
   },
   {
    "duration": 0,
    "start_time": "2025-03-18T18:39:10.114Z"
   },
   {
    "duration": 8461,
    "start_time": "2025-03-18T18:39:36.981Z"
   },
   {
    "duration": 19,
    "start_time": "2025-03-18T18:39:45.445Z"
   },
   {
    "duration": 3,
    "start_time": "2025-03-18T18:40:08.487Z"
   },
   {
    "duration": 8,
    "start_time": "2025-03-18T18:40:08.492Z"
   },
   {
    "duration": 2139,
    "start_time": "2025-03-18T18:40:08.501Z"
   },
   {
    "duration": 13,
    "start_time": "2025-03-18T18:40:10.642Z"
   },
   {
    "duration": 25,
    "start_time": "2025-03-18T18:40:10.658Z"
   },
   {
    "duration": 23,
    "start_time": "2025-03-18T18:40:10.684Z"
   },
   {
    "duration": 22,
    "start_time": "2025-03-18T18:40:10.708Z"
   },
   {
    "duration": 130,
    "start_time": "2025-03-18T18:40:10.732Z"
   },
   {
    "duration": 337,
    "start_time": "2025-03-18T18:40:10.864Z"
   },
   {
    "duration": 247,
    "start_time": "2025-03-18T18:40:11.203Z"
   },
   {
    "duration": 8,
    "start_time": "2025-03-18T18:40:11.452Z"
   },
   {
    "duration": 24,
    "start_time": "2025-03-18T18:40:11.461Z"
   },
   {
    "duration": 42,
    "start_time": "2025-03-18T18:40:11.488Z"
   },
   {
    "duration": 8,
    "start_time": "2025-03-18T18:40:11.532Z"
   },
   {
    "duration": 67,
    "start_time": "2025-03-18T18:40:11.541Z"
   },
   {
    "duration": 43,
    "start_time": "2025-03-18T18:40:11.609Z"
   },
   {
    "duration": 7,
    "start_time": "2025-03-18T18:40:11.654Z"
   },
   {
    "duration": 51,
    "start_time": "2025-03-18T18:40:11.662Z"
   },
   {
    "duration": 51,
    "start_time": "2025-03-18T18:40:11.715Z"
   },
   {
    "duration": 223,
    "start_time": "2025-03-18T18:40:11.767Z"
   },
   {
    "duration": 482,
    "start_time": "2025-03-18T18:40:11.992Z"
   },
   {
    "duration": 22,
    "start_time": "2025-03-18T18:40:38.069Z"
   },
   {
    "duration": 476,
    "start_time": "2025-03-18T18:42:07.021Z"
   },
   {
    "duration": 463,
    "start_time": "2025-03-18T18:42:12.557Z"
   },
   {
    "duration": 88,
    "start_time": "2025-03-18T18:42:47.165Z"
   },
   {
    "duration": 21,
    "start_time": "2025-03-18T18:42:59.989Z"
   },
   {
    "duration": 34,
    "start_time": "2025-03-18T18:43:29.998Z"
   },
   {
    "duration": 14,
    "start_time": "2025-03-18T18:43:52.805Z"
   },
   {
    "duration": 35,
    "start_time": "2025-03-18T18:44:36.165Z"
   },
   {
    "duration": 14,
    "start_time": "2025-03-18T18:44:46.263Z"
   },
   {
    "duration": 15,
    "start_time": "2025-03-18T18:45:03.285Z"
   },
   {
    "duration": 454,
    "start_time": "2025-03-18T18:45:18.692Z"
   },
   {
    "duration": 71,
    "start_time": "2025-03-18T18:49:10.988Z"
   },
   {
    "duration": 3,
    "start_time": "2025-03-20T15:16:57.271Z"
   },
   {
    "duration": 1342,
    "start_time": "2025-03-20T15:16:57.275Z"
   },
   {
    "duration": 0,
    "start_time": "2025-03-20T15:16:58.619Z"
   },
   {
    "duration": 0,
    "start_time": "2025-03-20T15:16:58.620Z"
   },
   {
    "duration": 0,
    "start_time": "2025-03-20T15:16:58.629Z"
   },
   {
    "duration": 0,
    "start_time": "2025-03-20T15:16:58.630Z"
   },
   {
    "duration": 0,
    "start_time": "2025-03-20T15:16:58.631Z"
   },
   {
    "duration": 0,
    "start_time": "2025-03-20T15:16:58.632Z"
   },
   {
    "duration": 0,
    "start_time": "2025-03-20T15:16:58.633Z"
   },
   {
    "duration": 0,
    "start_time": "2025-03-20T15:16:58.634Z"
   },
   {
    "duration": 8246,
    "start_time": "2025-03-20T15:17:17.000Z"
   },
   {
    "duration": 1086,
    "start_time": "2025-03-20T15:17:25.248Z"
   },
   {
    "duration": 1948,
    "start_time": "2025-03-20T15:17:26.335Z"
   },
   {
    "duration": 12,
    "start_time": "2025-03-20T15:17:28.285Z"
   },
   {
    "duration": 16,
    "start_time": "2025-03-20T15:17:28.298Z"
   },
   {
    "duration": 22,
    "start_time": "2025-03-20T15:17:28.316Z"
   },
   {
    "duration": 18,
    "start_time": "2025-03-20T15:17:28.339Z"
   },
   {
    "duration": 103,
    "start_time": "2025-03-20T15:17:28.358Z"
   },
   {
    "duration": 327,
    "start_time": "2025-03-20T15:17:28.463Z"
   },
   {
    "duration": 237,
    "start_time": "2025-03-20T15:17:28.793Z"
   },
   {
    "duration": 7,
    "start_time": "2025-03-20T15:17:29.031Z"
   },
   {
    "duration": 26,
    "start_time": "2025-03-20T15:17:29.039Z"
   },
   {
    "duration": 31,
    "start_time": "2025-03-20T15:17:29.067Z"
   },
   {
    "duration": 9,
    "start_time": "2025-03-20T15:17:29.099Z"
   },
   {
    "duration": 42,
    "start_time": "2025-03-20T15:17:29.130Z"
   },
   {
    "duration": 45,
    "start_time": "2025-03-20T15:17:29.173Z"
   },
   {
    "duration": 14,
    "start_time": "2025-03-20T15:17:29.220Z"
   },
   {
    "duration": 31,
    "start_time": "2025-03-20T15:17:29.235Z"
   },
   {
    "duration": 48,
    "start_time": "2025-03-20T15:17:29.267Z"
   },
   {
    "duration": 207,
    "start_time": "2025-03-20T15:17:29.317Z"
   },
   {
    "duration": 105,
    "start_time": "2025-03-20T15:17:29.530Z"
   },
   {
    "duration": 44,
    "start_time": "2025-03-20T15:17:29.637Z"
   },
   {
    "duration": 103,
    "start_time": "2025-03-20T15:17:29.683Z"
   },
   {
    "duration": 4,
    "start_time": "2025-03-20T15:17:29.788Z"
   },
   {
    "duration": 189,
    "start_time": "2025-03-20T15:17:29.794Z"
   },
   {
    "duration": 17,
    "start_time": "2025-03-20T15:17:29.984Z"
   },
   {
    "duration": 43,
    "start_time": "2025-03-20T15:17:30.003Z"
   },
   {
    "duration": 65,
    "start_time": "2025-03-20T15:17:30.050Z"
   },
   {
    "duration": 144,
    "start_time": "2025-03-20T15:17:30.129Z"
   },
   {
    "duration": 83,
    "start_time": "2025-03-20T15:17:30.275Z"
   },
   {
    "duration": 41,
    "start_time": "2025-03-20T15:17:30.360Z"
   },
   {
    "duration": 94,
    "start_time": "2025-03-20T15:17:30.402Z"
   },
   {
    "duration": 481,
    "start_time": "2025-03-20T15:17:30.497Z"
   },
   {
    "duration": 0,
    "start_time": "2025-03-20T15:17:30.979Z"
   },
   {
    "duration": 0,
    "start_time": "2025-03-20T15:17:30.981Z"
   },
   {
    "duration": 0,
    "start_time": "2025-03-20T15:17:30.981Z"
   },
   {
    "duration": 0,
    "start_time": "2025-03-20T15:17:30.982Z"
   },
   {
    "duration": 0,
    "start_time": "2025-03-20T15:17:30.983Z"
   },
   {
    "duration": 0,
    "start_time": "2025-03-20T15:17:30.984Z"
   },
   {
    "duration": 0,
    "start_time": "2025-03-20T15:17:30.985Z"
   },
   {
    "duration": 0,
    "start_time": "2025-03-20T15:17:30.986Z"
   },
   {
    "duration": 0,
    "start_time": "2025-03-20T15:17:30.987Z"
   },
   {
    "duration": 0,
    "start_time": "2025-03-20T15:17:30.988Z"
   },
   {
    "duration": 0,
    "start_time": "2025-03-20T15:17:30.989Z"
   },
   {
    "duration": 0,
    "start_time": "2025-03-20T15:17:30.990Z"
   },
   {
    "duration": 0,
    "start_time": "2025-03-20T15:17:30.991Z"
   },
   {
    "duration": 0,
    "start_time": "2025-03-20T15:17:30.991Z"
   },
   {
    "duration": 20,
    "start_time": "2025-03-20T15:18:47.878Z"
   },
   {
    "duration": 13,
    "start_time": "2025-03-20T15:20:06.935Z"
   },
   {
    "duration": 9,
    "start_time": "2025-03-20T15:21:10.536Z"
   },
   {
    "duration": 96,
    "start_time": "2025-03-20T15:23:38.830Z"
   },
   {
    "duration": 82,
    "start_time": "2025-03-20T15:23:51.303Z"
   },
   {
    "duration": 5,
    "start_time": "2025-03-20T15:24:02.583Z"
   },
   {
    "duration": 5,
    "start_time": "2025-03-20T15:25:45.650Z"
   },
   {
    "duration": 91,
    "start_time": "2025-03-20T15:25:46.274Z"
   },
   {
    "duration": 93,
    "start_time": "2025-03-20T15:25:50.600Z"
   },
   {
    "duration": 46,
    "start_time": "2025-03-20T15:25:50.976Z"
   },
   {
    "duration": 156,
    "start_time": "2025-03-20T15:25:51.296Z"
   },
   {
    "duration": 20,
    "start_time": "2025-03-20T15:25:51.776Z"
   },
   {
    "duration": 7,
    "start_time": "2025-03-20T15:25:52.096Z"
   },
   {
    "duration": 7,
    "start_time": "2025-03-20T15:25:52.415Z"
   },
   {
    "duration": 8,
    "start_time": "2025-03-20T15:25:52.744Z"
   },
   {
    "duration": 5,
    "start_time": "2025-03-20T15:25:52.905Z"
   },
   {
    "duration": 8,
    "start_time": "2025-03-20T15:25:53.065Z"
   },
   {
    "duration": 8,
    "start_time": "2025-03-20T15:25:53.729Z"
   },
   {
    "duration": 14,
    "start_time": "2025-03-20T15:25:54.072Z"
   },
   {
    "duration": 6,
    "start_time": "2025-03-20T15:25:54.258Z"
   },
   {
    "duration": 28,
    "start_time": "2025-03-20T15:25:55.216Z"
   },
   {
    "duration": 9,
    "start_time": "2025-03-20T15:25:55.600Z"
   },
   {
    "duration": 146,
    "start_time": "2025-03-20T15:25:56.541Z"
   }
  ],
  "kernelspec": {
   "display_name": "Python 3",
   "language": "python",
   "name": "python3"
  },
  "language_info": {
   "codemirror_mode": {
    "name": "ipython",
    "version": 3
   },
   "file_extension": ".py",
   "mimetype": "text/x-python",
   "name": "python",
   "nbconvert_exporter": "python",
   "pygments_lexer": "ipython3",
   "version": "3.11.3"
  },
  "toc": {
   "base_numbering": 1,
   "nav_menu": {},
   "number_sections": true,
   "sideBar": true,
   "skip_h1_title": true,
   "title_cell": "Table of Contents",
   "title_sidebar": "Contents",
   "toc_cell": false,
   "toc_position": {},
   "toc_section_display": true,
   "toc_window_display": true
  }
 },
 "nbformat": 4,
 "nbformat_minor": 2
}
