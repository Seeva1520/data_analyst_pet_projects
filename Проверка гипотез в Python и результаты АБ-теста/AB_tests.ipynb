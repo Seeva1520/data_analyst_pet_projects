{
 "cells": [
  {
   "cell_type": "markdown",
   "id": "_E41Wr5fqnFT",
   "metadata": {
    "id": "_E41Wr5fqnFT"
   },
   "source": [
    "# Часть 1. Анализ активности пользователей книжного приложения в Москве и Санкт-Петербурге"
   ]
  },
  {
   "cell_type": "markdown",
   "id": "e06910dd",
   "metadata": {
    "id": "e06910dd"
   },
   "source": [
    "- Автор: Клементьев В.Д.\n",
    "- Дата: 22.05.2025"
   ]
  },
  {
   "cell_type": "markdown",
   "id": "4149134c",
   "metadata": {
    "id": "4149134c"
   },
   "source": [
    "## Цели и задачи проекта\n",
    "\n",
    "Целью проекта является проверка гипотезы A/B-тестом. Основные задачи включают подготовку данных к анализу, начиная с очистки от дубликатов, проверки распределения пользователей между тестовой и контрольной группами, а также корректного разделения трафика. Заключительный этап предполагает статистическую оценку результатов."
   ]
  },
  {
   "cell_type": "markdown",
   "id": "728986ea",
   "metadata": {
    "id": "728986ea"
   },
   "source": [
    "## Описание данных\n",
    "\n",
    "`user_id` — идентификатор пользователя;  \n",
    "`group` — группа пользователя;  \n",
    "`ab_test` — название теста;  \n",
    "`device` — устройство, с которого происходила регистрация."
   ]
  },
  {
   "cell_type": "markdown",
   "id": "4fecaf95",
   "metadata": {
    "id": "4fecaf95"
   },
   "source": [
    "## Содержимое проекта\n",
    "\n",
    "1. Загрузка данных и знакомство с ними\n",
    "2. Проверка гипотезы в Python"
   ]
  },
  {
   "cell_type": "markdown",
   "id": "ed57e4ea",
   "metadata": {},
   "source": [
    "## 1. Загрузка данных и знакомство с ними\n",
    "Начнём с загрузки библиотек и датасета. Будем использовать pandas и библиотеки для проведения статистических тестов. Данные датасета сохраним в переменную `books_data`."
   ]
  },
  {
   "cell_type": "code",
   "execution_count": 1,
   "id": "05faf34b",
   "metadata": {
    "id": "05faf34b"
   },
   "outputs": [],
   "source": [
    "# Импортируем библиотеки\n",
    "import pandas as pd\n",
    "from scipy.stats import ttest_ind\n",
    "from statsmodels.stats.proportion import proportions_ztest"
   ]
  },
  {
   "cell_type": "code",
   "execution_count": 2,
   "id": "ce87c1db",
   "metadata": {
    "id": "ce87c1db"
   },
   "outputs": [],
   "source": [
    "# Выгружаем данные\n",
    "books_data = pd.read_csv('yandex_knigi_data.csv')"
   ]
  },
  {
   "cell_type": "markdown",
   "id": "b4c69d80",
   "metadata": {
    "id": "f68a7419"
   },
   "source": [
    "Познакомимся с данными датасетов — выведем первые строки методом `head()` и информацию методом `info()`:"
   ]
  },
  {
   "cell_type": "code",
   "execution_count": 3,
   "id": "5d48a667",
   "metadata": {},
   "outputs": [
    {
     "data": {
      "text/html": [
       "<div>\n",
       "<style scoped>\n",
       "    .dataframe tbody tr th:only-of-type {\n",
       "        vertical-align: middle;\n",
       "    }\n",
       "\n",
       "    .dataframe tbody tr th {\n",
       "        vertical-align: top;\n",
       "    }\n",
       "\n",
       "    .dataframe thead th {\n",
       "        text-align: right;\n",
       "    }\n",
       "</style>\n",
       "<table border=\"1\" class=\"dataframe\">\n",
       "  <thead>\n",
       "    <tr style=\"text-align: right;\">\n",
       "      <th></th>\n",
       "      <th>Unnamed: 0</th>\n",
       "      <th>city</th>\n",
       "      <th>puid</th>\n",
       "      <th>hours</th>\n",
       "    </tr>\n",
       "  </thead>\n",
       "  <tbody>\n",
       "    <tr>\n",
       "      <th>0</th>\n",
       "      <td>0</td>\n",
       "      <td>Москва</td>\n",
       "      <td>9668</td>\n",
       "      <td>26.167776</td>\n",
       "    </tr>\n",
       "    <tr>\n",
       "      <th>1</th>\n",
       "      <td>1</td>\n",
       "      <td>Москва</td>\n",
       "      <td>16598</td>\n",
       "      <td>82.111217</td>\n",
       "    </tr>\n",
       "    <tr>\n",
       "      <th>2</th>\n",
       "      <td>2</td>\n",
       "      <td>Москва</td>\n",
       "      <td>80401</td>\n",
       "      <td>4.656906</td>\n",
       "    </tr>\n",
       "    <tr>\n",
       "      <th>3</th>\n",
       "      <td>3</td>\n",
       "      <td>Москва</td>\n",
       "      <td>140205</td>\n",
       "      <td>1.840556</td>\n",
       "    </tr>\n",
       "    <tr>\n",
       "      <th>4</th>\n",
       "      <td>4</td>\n",
       "      <td>Москва</td>\n",
       "      <td>248755</td>\n",
       "      <td>151.326434</td>\n",
       "    </tr>\n",
       "  </tbody>\n",
       "</table>\n",
       "</div>"
      ],
      "text/plain": [
       "   Unnamed: 0    city    puid       hours\n",
       "0           0  Москва    9668   26.167776\n",
       "1           1  Москва   16598   82.111217\n",
       "2           2  Москва   80401    4.656906\n",
       "3           3  Москва  140205    1.840556\n",
       "4           4  Москва  248755  151.326434"
      ]
     },
     "execution_count": 3,
     "metadata": {},
     "output_type": "execute_result"
    }
   ],
   "source": [
    "# Выводим первые строки датафрейма\n",
    "books_data.head()"
   ]
  },
  {
   "cell_type": "code",
   "execution_count": 4,
   "id": "8655d5de",
   "metadata": {},
   "outputs": [
    {
     "name": "stdout",
     "output_type": "stream",
     "text": [
      "<class 'pandas.core.frame.DataFrame'>\n",
      "RangeIndex: 8784 entries, 0 to 8783\n",
      "Data columns (total 4 columns):\n",
      " #   Column      Non-Null Count  Dtype  \n",
      "---  ------      --------------  -----  \n",
      " 0   Unnamed: 0  8784 non-null   int64  \n",
      " 1   city        8784 non-null   object \n",
      " 2   puid        8784 non-null   int64  \n",
      " 3   hours       8784 non-null   float64\n",
      "dtypes: float64(1), int64(2), object(1)\n",
      "memory usage: 274.6+ KB\n"
     ]
    }
   ],
   "source": [
    "# Выводим информацию о датафрейме\n",
    "books_data.info()"
   ]
  },
  {
   "cell_type": "markdown",
   "id": "fcaed284",
   "metadata": {},
   "source": [
    "В датафрейме нет пропусков, все показатели имеют корректный тип данных. Но столбец `Unnamed: 0` не несет полезной информации, удалим его."
   ]
  },
  {
   "cell_type": "code",
   "execution_count": 5,
   "id": "d3fd0959",
   "metadata": {},
   "outputs": [],
   "source": [
    "# Очищаем датафрейм от ненужных данных\n",
    "books_data.drop(columns=['Unnamed: 0'], inplace=True)"
   ]
  },
  {
   "cell_type": "markdown",
   "id": "b6a1496e",
   "metadata": {},
   "source": [
    "Теперь проверим данные на наличие явных и неявных дубликатов. Начнём с полных дубликатов:"
   ]
  },
  {
   "cell_type": "code",
   "execution_count": 6,
   "id": "f6619aa9",
   "metadata": {},
   "outputs": [
    {
     "name": "stdout",
     "output_type": "stream",
     "text": [
      "0\n"
     ]
    }
   ],
   "source": [
    "# Проверяем полные дубликаты в датафрейме books_data\n",
    "print(books_data.duplicated().sum())"
   ]
  },
  {
   "cell_type": "markdown",
   "id": "c74840ef",
   "metadata": {},
   "source": [
    "В датафреймах нет полных дубликатов строк. Проверим неявные дубликаты — значения по `puid` пользователей должны быть уникальными, то есть каждая строка в данных — уникальный пользователь:"
   ]
  },
  {
   "cell_type": "code",
   "execution_count": 7,
   "id": "f4777ecd",
   "metadata": {},
   "outputs": [
    {
     "name": "stdout",
     "output_type": "stream",
     "text": [
      "244\n"
     ]
    }
   ],
   "source": [
    "# Проверяем неявные дубликаты в датафрейме books_data\n",
    "print(books_data.duplicated(subset='puid').sum())"
   ]
  },
  {
   "cell_type": "markdown",
   "id": "3620b950",
   "metadata": {},
   "source": [
    "В данных присутствует 244 дубликата по полю `puid`, что нарушает условие уникальности пользователей. Удалим их:"
   ]
  },
  {
   "cell_type": "code",
   "execution_count": 8,
   "id": "962430d6",
   "metadata": {},
   "outputs": [],
   "source": [
    "# Удаляем дубликаты в поле puid\n",
    "books_data.drop_duplicates(subset=['puid'], inplace=True)"
   ]
  },
  {
   "cell_type": "markdown",
   "id": "327e850a",
   "metadata": {},
   "source": [
    "Разделим исходные данные по городам и посмотрим, пересекаются ли пользователи в двух группах."
   ]
  },
  {
   "cell_type": "code",
   "execution_count": 9,
   "id": "6a57afed",
   "metadata": {},
   "outputs": [
    {
     "name": "stdout",
     "output_type": "stream",
     "text": [
      "Группы независимы\n"
     ]
    }
   ],
   "source": [
    "# Разделение на группы\n",
    "msk = books_data[books_data['city'] == 'Москва']\n",
    "spb = books_data[books_data['city'] == 'Санкт-Петербург']\n",
    "\n",
    "# Создаем множества с пользователями\n",
    "set_msk = set(msk['puid'])\n",
    "set_spb = set(spb['puid'])\n",
    "\n",
    "common_users = set_msk & set_spb\n",
    "\n",
    "# Выводим результат\n",
    "if not common_users:\n",
    "    print('Группы независимы')\n",
    "else:\n",
    "    print('Группы зависимы')"
   ]
  },
  {
   "cell_type": "markdown",
   "id": "d4b60fe0",
   "metadata": {},
   "source": [
    "Группы также должны быть сопоставимы, то есть иметь схожий размер и описательную статистику. Начнем со сравнения размеров."
   ]
  },
  {
   "cell_type": "code",
   "execution_count": 10,
   "id": "71de516b",
   "metadata": {},
   "outputs": [
    {
     "name": "stdout",
     "output_type": "stream",
     "text": [
      "Количество пользователей в группе А: 6234\n",
      "Количество пользователей в группе B: 2306\n",
      "P = 63.0093038177735\n"
     ]
    }
   ],
   "source": [
    "# Считаем уникальных пользователей по группам\n",
    "test_a = msk['puid'].nunique()\n",
    "test_b = spb['puid'].nunique()\n",
    "\n",
    "# Находим процентную разницу в количестве пользователей\n",
    "p = abs(test_a - test_b) / test_a * 100\n",
    "\n",
    "# Выводим результат\n",
    "print(f'Количество пользователей в группе А: {test_a}\\n'\n",
    "      f'Количество пользователей в группе B: {test_b}\\n'\n",
    "      f'P = {p}')"
   ]
  },
  {
   "cell_type": "markdown",
   "id": "ec4cd48e",
   "metadata": {},
   "source": [
    "Выборка test_a имеет значительное преимущество по численности. При такой разнице результаты будут искажены. Используем random sampling с балансировкой, чтобы выровнять группы по размеру."
   ]
  },
  {
   "cell_type": "code",
   "execution_count": 11,
   "id": "0eb5cb3f",
   "metadata": {},
   "outputs": [],
   "source": [
    "# Вычислим долю для баланса \n",
    "sample_fraction = test_b / test_a\n",
    "\n",
    "# Случайный отбор уникальных puid\n",
    "balanced_sample = msk['puid'].sample(frac=sample_fraction, random_state=42)\n",
    "\n",
    "# Фильтруем выборку\n",
    "msk = msk[msk['puid'].isin(balanced_sample)]"
   ]
  },
  {
   "cell_type": "markdown",
   "id": "3d4eac6d",
   "metadata": {},
   "source": [
    "Размеры выровнены, теперь посмотрим, схожа ли описательная статистика."
   ]
  },
  {
   "cell_type": "code",
   "execution_count": 12,
   "id": "d52c6a79",
   "metadata": {},
   "outputs": [
    {
     "data": {
      "text/plain": [
       "count    2306.000000\n",
       "mean       10.373775\n",
       "std        33.038647\n",
       "min         0.000022\n",
       "25%         0.067847\n",
       "50%         0.917756\n",
       "75%         5.683398\n",
       "max       462.609644\n",
       "Name: hours, dtype: float64"
      ]
     },
     "execution_count": 12,
     "metadata": {},
     "output_type": "execute_result"
    }
   ],
   "source": [
    "# Выводим описательную статистику\n",
    "msk['hours'].describe()"
   ]
  },
  {
   "cell_type": "code",
   "execution_count": 13,
   "id": "5dcab093",
   "metadata": {},
   "outputs": [
    {
     "data": {
      "text/plain": [
       "count    2306.000000\n",
       "mean       11.264433\n",
       "std        39.831755\n",
       "min         0.000025\n",
       "25%         0.060173\n",
       "50%         0.875355\n",
       "75%         6.138424\n",
       "max       978.764775\n",
       "Name: hours, dtype: float64"
      ]
     },
     "execution_count": 13,
     "metadata": {},
     "output_type": "execute_result"
    }
   ],
   "source": [
    "# Выводим описательную статистику\n",
    "spb['hours'].describe()"
   ]
  },
  {
   "cell_type": "markdown",
   "id": "8217c97f",
   "metadata": {},
   "source": [
    "- средние и медианы сильно различаются, что говорит о правом асимметричном распределении  \n",
    "- максимальные занчения аномально высоки по сравнению с 3 квартилем  \n",
    "- стандартные отклонения большие\n",
    "\n",
    "Распределения имеют выбросы, поэтому для проверки гипотезы отфильтруем выборки и используем t-тест с поправкой Уэлча."
   ]
  },
  {
   "cell_type": "code",
   "execution_count": 14,
   "id": "6392fae0",
   "metadata": {},
   "outputs": [],
   "source": [
    "# Усекаем данные до 85 квантиля\n",
    "filtered_msk = msk[msk['hours'] <= msk['hours'].quantile(0.85)]\n",
    "filtered_spb = spb[spb['hours'] <= spb['hours'].quantile(0.85)]"
   ]
  },
  {
   "cell_type": "markdown",
   "id": "956e82e2",
   "metadata": {
    "id": "956e82e2"
   },
   "source": [
    "## Проверка гипотезы в Python\n",
    "\n",
    "Гипотеза звучит так: пользователи из Санкт-Петербурга проводят в среднем больше времени за чтением и прослушиванием книг в приложении, чем пользователи из Москвы. Попробуйте статистически это доказать, используя одностороннюю проверку гипотезы с двумя выборками:\n",
    "\n",
    "- Нулевая гипотеза H₀: Средняя активность пользователей в часах в двух группах (Москва и Санкт-Петербург) не различается.\n",
    "\n",
    "- Альтернативная гипотеза H₁: Средняя активность пользователей в Санкт-Петербурге больше, и это различие статистически значимо."
   ]
  },
  {
   "cell_type": "code",
   "execution_count": 15,
   "id": "c7143b5c",
   "metadata": {
    "id": "67956690"
   },
   "outputs": [
    {
     "name": "stdout",
     "output_type": "stream",
     "text": [
      "pvalue = 0.9 > 0.05\n",
      "Нулевая гипотеза находит подтверждение! Распределения метрики в группах A и B равны\n"
     ]
    }
   ],
   "source": [
    "# Устанавливаем уровень значимости\n",
    "alpha = 0.05\n",
    "\n",
    "stat_welch_ttest, p_value_welch_ttest = ttest_ind(\n",
    "    filtered_msk['hours'], \n",
    "    filtered_spb['hours'], \n",
    "    equal_var=False,\n",
    "    alternative='greater')\n",
    "\n",
    "if p_value_welch_ttest > alpha:\n",
    "    print(f'pvalue = {round(p_value_welch_ttest, 2)} > {alpha}')\n",
    "    print('Нулевая гипотеза находит подтверждение! Распределения метрики в группах A и B равны')\n",
    "else:\n",
    "    print(f'pvalue = {round(p_value_welch_ttest, 2)} < {alpha}')\n",
    "    print('Нулевая гипотеза не находит подтверждения! Распределения метрики в группах A и B различаются')"
   ]
  },
  {
   "cell_type": "markdown",
   "id": "f52a3125",
   "metadata": {},
   "source": [
    "Тест не показал статистически значимых различий. Следовательно, средняя активность пользователей в обоих городах одинакова."
   ]
  },
  {
   "cell_type": "markdown",
   "id": "2f86898a",
   "metadata": {},
   "source": [
    "В результате подготовки данных к проведению статистического теста было выяснено, что выборки имеют аномальные значения. По этой причине было решено отфильтровать данные и использовать t-тест с поправкой Уэлча и уровнем значимости 0.05, так как это общепринятый стандарт для цифровых исследований. Результаты теста показали, что оснований для отвержения нулевой гипотезы недостаточно, поэтому средняя активность пользователей не отличается. Из возможных причин отсутствия результата: одинаковые маркетинговые условия или схожие аудитории."
   ]
  },
  {
   "cell_type": "markdown",
   "id": "NqOUIYhbrIfC",
   "metadata": {
    "id": "NqOUIYhbrIfC"
   },
   "source": [
    "# Часть 2. Анализ результатов A/B-тестирования"
   ]
  },
  {
   "cell_type": "markdown",
   "id": "tDwMKFNGsClr",
   "metadata": {
    "id": "tDwMKFNGsClr"
   },
   "source": [
    "BitMotion Kit — интернет-магазин геймифицированных товаров для ЗОЖ, столкнувшийся с проблемой сложного интерфейса. Для решения этой проблемы была разработана новая версия сайта и проведен A/B-тест с целью:\n",
    "\n",
    "- Упростить пользовательский интерфейс\n",
    "\n",
    "- Увеличить конверсию в покупки\n",
    "\n",
    "- Подготовиться к расширению ассортимента"
   ]
  },
  {
   "cell_type": "markdown",
   "id": "kHx-51yES8bd",
   "metadata": {
    "id": "kHx-51yES8bd"
   },
   "source": [
    "## Цель исследования.\n",
    "Цель исследования — оценить корректность проведения теста и проанализировать его результаты."
   ]
  },
  {
   "cell_type": "markdown",
   "id": "ccbf09ea",
   "metadata": {},
   "source": [
    "## Описание данных\n",
    "\n",
    "Таблица `participants`:  \n",
    "`user_id` — идентификатор пользователя  \n",
    "`group` — группа пользователя  \n",
    "`ab_test` — название теста  \n",
    "`device` — устройство, с которого происходила регистрация  \n",
    "\n",
    "Таблица `events`:  \n",
    "`user_id` — идентификатор пользователя  \n",
    "`event_dt` — дата и время события  \n",
    "`event_name` — тип события  \n",
    "`details` — дополнительные данные о событии"
   ]
  },
  {
   "cell_type": "markdown",
   "id": "8d0cc296",
   "metadata": {},
   "source": [
    "## Содержимое проекта\n",
    "\n",
    "1. Загрузка данных и оценка их целостности\n",
    "2. Оценка корректности проведения теста\n",
    "3. Оценка результатов A/B-тестирования"
   ]
  },
  {
   "cell_type": "markdown",
   "id": "_CZryx2OsH-s",
   "metadata": {
    "id": "_CZryx2OsH-s"
   },
   "source": [
    "## 1. Загрузка данных и оценка их целостности.\n",
    "Познакомимся с данными датасетов — выведем первые строки методом `head()` и информацию методом `info()`:"
   ]
  },
  {
   "cell_type": "code",
   "execution_count": 16,
   "id": "DjFcJbeGsTIg",
   "metadata": {
    "id": "DjFcJbeGsTIg"
   },
   "outputs": [],
   "source": [
    "# Выгружаем данные\n",
    "participants = pd.read_csv('https://code.s3.yandex.net/datasets/ab_test_participants.csv')\n",
    "events = pd.read_csv('https://code.s3.yandex.net/datasets/ab_test_events.zip',\n",
    "                     parse_dates=['event_dt'], low_memory=False)"
   ]
  },
  {
   "cell_type": "code",
   "execution_count": 17,
   "id": "1a7615fa",
   "metadata": {},
   "outputs": [
    {
     "data": {
      "text/html": [
       "<div>\n",
       "<style scoped>\n",
       "    .dataframe tbody tr th:only-of-type {\n",
       "        vertical-align: middle;\n",
       "    }\n",
       "\n",
       "    .dataframe tbody tr th {\n",
       "        vertical-align: top;\n",
       "    }\n",
       "\n",
       "    .dataframe thead th {\n",
       "        text-align: right;\n",
       "    }\n",
       "</style>\n",
       "<table border=\"1\" class=\"dataframe\">\n",
       "  <thead>\n",
       "    <tr style=\"text-align: right;\">\n",
       "      <th></th>\n",
       "      <th>user_id</th>\n",
       "      <th>group</th>\n",
       "      <th>ab_test</th>\n",
       "      <th>device</th>\n",
       "    </tr>\n",
       "  </thead>\n",
       "  <tbody>\n",
       "    <tr>\n",
       "      <th>0</th>\n",
       "      <td>0002CE61FF2C4011</td>\n",
       "      <td>B</td>\n",
       "      <td>interface_eu_test</td>\n",
       "      <td>Mac</td>\n",
       "    </tr>\n",
       "    <tr>\n",
       "      <th>1</th>\n",
       "      <td>001064FEAAB631A1</td>\n",
       "      <td>B</td>\n",
       "      <td>recommender_system_test</td>\n",
       "      <td>Android</td>\n",
       "    </tr>\n",
       "    <tr>\n",
       "      <th>2</th>\n",
       "      <td>001064FEAAB631A1</td>\n",
       "      <td>A</td>\n",
       "      <td>interface_eu_test</td>\n",
       "      <td>Android</td>\n",
       "    </tr>\n",
       "    <tr>\n",
       "      <th>3</th>\n",
       "      <td>0010A1C096941592</td>\n",
       "      <td>A</td>\n",
       "      <td>recommender_system_test</td>\n",
       "      <td>Android</td>\n",
       "    </tr>\n",
       "    <tr>\n",
       "      <th>4</th>\n",
       "      <td>001E72F50D1C48FA</td>\n",
       "      <td>A</td>\n",
       "      <td>interface_eu_test</td>\n",
       "      <td>Mac</td>\n",
       "    </tr>\n",
       "  </tbody>\n",
       "</table>\n",
       "</div>"
      ],
      "text/plain": [
       "            user_id group                  ab_test   device\n",
       "0  0002CE61FF2C4011     B        interface_eu_test      Mac\n",
       "1  001064FEAAB631A1     B  recommender_system_test  Android\n",
       "2  001064FEAAB631A1     A        interface_eu_test  Android\n",
       "3  0010A1C096941592     A  recommender_system_test  Android\n",
       "4  001E72F50D1C48FA     A        interface_eu_test      Mac"
      ]
     },
     "metadata": {},
     "output_type": "display_data"
    },
    {
     "data": {
      "text/html": [
       "<div>\n",
       "<style scoped>\n",
       "    .dataframe tbody tr th:only-of-type {\n",
       "        vertical-align: middle;\n",
       "    }\n",
       "\n",
       "    .dataframe tbody tr th {\n",
       "        vertical-align: top;\n",
       "    }\n",
       "\n",
       "    .dataframe thead th {\n",
       "        text-align: right;\n",
       "    }\n",
       "</style>\n",
       "<table border=\"1\" class=\"dataframe\">\n",
       "  <thead>\n",
       "    <tr style=\"text-align: right;\">\n",
       "      <th></th>\n",
       "      <th>user_id</th>\n",
       "      <th>event_dt</th>\n",
       "      <th>event_name</th>\n",
       "      <th>details</th>\n",
       "    </tr>\n",
       "  </thead>\n",
       "  <tbody>\n",
       "    <tr>\n",
       "      <th>0</th>\n",
       "      <td>GLOBAL</td>\n",
       "      <td>2020-12-01 00:00:00</td>\n",
       "      <td>End of Black Friday Ads Campaign</td>\n",
       "      <td>ZONE_CODE15</td>\n",
       "    </tr>\n",
       "    <tr>\n",
       "      <th>1</th>\n",
       "      <td>CCBE9E7E99F94A08</td>\n",
       "      <td>2020-12-01 00:00:11</td>\n",
       "      <td>registration</td>\n",
       "      <td>0.0</td>\n",
       "    </tr>\n",
       "    <tr>\n",
       "      <th>2</th>\n",
       "      <td>GLOBAL</td>\n",
       "      <td>2020-12-01 00:00:25</td>\n",
       "      <td>product_page</td>\n",
       "      <td>NaN</td>\n",
       "    </tr>\n",
       "    <tr>\n",
       "      <th>3</th>\n",
       "      <td>CCBE9E7E99F94A08</td>\n",
       "      <td>2020-12-01 00:00:33</td>\n",
       "      <td>login</td>\n",
       "      <td>NaN</td>\n",
       "    </tr>\n",
       "    <tr>\n",
       "      <th>4</th>\n",
       "      <td>CCBE9E7E99F94A08</td>\n",
       "      <td>2020-12-01 00:00:52</td>\n",
       "      <td>product_page</td>\n",
       "      <td>NaN</td>\n",
       "    </tr>\n",
       "  </tbody>\n",
       "</table>\n",
       "</div>"
      ],
      "text/plain": [
       "            user_id            event_dt                        event_name  \\\n",
       "0            GLOBAL 2020-12-01 00:00:00  End of Black Friday Ads Campaign   \n",
       "1  CCBE9E7E99F94A08 2020-12-01 00:00:11                      registration   \n",
       "2            GLOBAL 2020-12-01 00:00:25                      product_page   \n",
       "3  CCBE9E7E99F94A08 2020-12-01 00:00:33                             login   \n",
       "4  CCBE9E7E99F94A08 2020-12-01 00:00:52                      product_page   \n",
       "\n",
       "       details  \n",
       "0  ZONE_CODE15  \n",
       "1          0.0  \n",
       "2          NaN  \n",
       "3          NaN  \n",
       "4          NaN  "
      ]
     },
     "metadata": {},
     "output_type": "display_data"
    }
   ],
   "source": [
    "# Выводим первые строки датафреймов\n",
    "display(participants.head(), events.head())"
   ]
  },
  {
   "cell_type": "code",
   "execution_count": 18,
   "id": "df9e2ccb",
   "metadata": {},
   "outputs": [
    {
     "name": "stdout",
     "output_type": "stream",
     "text": [
      "<class 'pandas.core.frame.DataFrame'>\n",
      "RangeIndex: 14525 entries, 0 to 14524\n",
      "Data columns (total 4 columns):\n",
      " #   Column   Non-Null Count  Dtype \n",
      "---  ------   --------------  ----- \n",
      " 0   user_id  14525 non-null  object\n",
      " 1   group    14525 non-null  object\n",
      " 2   ab_test  14525 non-null  object\n",
      " 3   device   14525 non-null  object\n",
      "dtypes: object(4)\n",
      "memory usage: 454.0+ KB\n"
     ]
    }
   ],
   "source": [
    "# Выводим информацию о датафреймах \n",
    "participants.info()"
   ]
  },
  {
   "cell_type": "code",
   "execution_count": 19,
   "id": "ffe967a0",
   "metadata": {},
   "outputs": [
    {
     "name": "stdout",
     "output_type": "stream",
     "text": [
      "<class 'pandas.core.frame.DataFrame'>\n",
      "RangeIndex: 787286 entries, 0 to 787285\n",
      "Data columns (total 4 columns):\n",
      " #   Column      Non-Null Count   Dtype         \n",
      "---  ------      --------------   -----         \n",
      " 0   user_id     787286 non-null  object        \n",
      " 1   event_dt    787286 non-null  datetime64[ns]\n",
      " 2   event_name  787286 non-null  object        \n",
      " 3   details     249022 non-null  object        \n",
      "dtypes: datetime64[ns](1), object(3)\n",
      "memory usage: 24.0+ MB\n"
     ]
    }
   ],
   "source": [
    "events.info()"
   ]
  },
  {
   "cell_type": "markdown",
   "id": "439dbcfc",
   "metadata": {},
   "source": [
    "Датафрейм `participants` хранит информацию об участниках тестов, в нем отсутвуют null-значения, все столбцы имеют корректный тип данных. `events` содержит данные о событиях, связанных с активностью пользователей. В нем пристуствуют пропущенные значения (`details`) и события, не связанные с конкретным пользователем (GLOBAL в `user_id`). Отфильтруем строки с GLOBAL и выделим их в отдельную группу."
   ]
  },
  {
   "cell_type": "code",
   "execution_count": 20,
   "id": "cf1840aa",
   "metadata": {},
   "outputs": [],
   "source": [
    "# Выделяем GLOBAL в отдельную группу\n",
    "global_events = events[events['user_id'] == 'GLOBAL']\n",
    "\n",
    "# Фильтруем events\n",
    "events = events[events['user_id'] != 'GLOBAL']"
   ]
  },
  {
   "cell_type": "markdown",
   "id": "CnzA-efasUrk",
   "metadata": {
    "id": "CnzA-efasUrk"
   },
   "source": [
    "## 2. Оценка корректности проведения теста:\n",
    "\n",
    "Выделим пользователей, участвующих в тесте, и проверим:\n",
    "\n",
    "- равномерность распределения пользователей по группам теста,\n",
    "\n",
    "- отсутствие пересечений с конкурирующим тестом (нет пользователей, участвующих одновременно в двух тестовых группах)."
   ]
  },
  {
   "cell_type": "code",
   "execution_count": 21,
   "id": "aNa3zHrKslEN",
   "metadata": {
    "id": "aNa3zHrKslEN"
   },
   "outputs": [],
   "source": [
    "# Выделяем пользователей, участвующих в тесте\n",
    "interface_participants = participants[participants['ab_test'] == 'interface_eu_test']"
   ]
  },
  {
   "cell_type": "markdown",
   "id": "31bd0f3d",
   "metadata": {},
   "source": [
    "Теперь сравним распределния пользователей по A и B группам. "
   ]
  },
  {
   "cell_type": "code",
   "execution_count": 22,
   "id": "84081758",
   "metadata": {},
   "outputs": [
    {
     "name": "stdout",
     "output_type": "stream",
     "text": [
      "Распределение по группам в %:\n",
      "group\n",
      "B    50.387097\n",
      "A    49.612903\n",
      "Name: proportion, dtype: float64\n"
     ]
    }
   ],
   "source": [
    "# Вычисляем доли по группам\n",
    "group_shares = interface_participants['group'].value_counts(normalize=True) * 100\n",
    "\n",
    "# Выводим на экран\n",
    "print(f'Распределение по группам в %:\\n{group_shares}')"
   ]
  },
  {
   "cell_type": "markdown",
   "id": "cac602fb",
   "metadata": {},
   "source": [
    "Разница незначительная, пользователи распределены равномерно. Теперь посмотрим, не пересекаются ли другие тесты с `interface_eu_test`."
   ]
  },
  {
   "cell_type": "code",
   "execution_count": 23,
   "id": "82346b70",
   "metadata": {},
   "outputs": [
    {
     "name": "stdout",
     "output_type": "stream",
     "text": [
      "Есть пересечения с конкурирующими тестами : 887\n"
     ]
    }
   ],
   "source": [
    "# Создаем множества с пользователями\n",
    "set_a = set(interface_participants['user_id'])\n",
    "set_b = set(participants[\n",
    "    participants['ab_test'] != 'interface_eu_test'\n",
    "]['user_id'])\n",
    "\n",
    "common_users = set_a & set_b\n",
    "\n",
    "# Выводим результат\n",
    "if not common_users:\n",
    "    print('Нет пересечений с конкурирующими тестами')\n",
    "else:\n",
    "    print(f'Есть пересечения с конкурирующими тестами : {len(common_users)}')"
   ]
  },
  {
   "cell_type": "markdown",
   "id": "30ef9ecc",
   "metadata": {},
   "source": [
    "887 общих пользователей. Отфильтруем `interface_participants` от пересечений с другими тестами. "
   ]
  },
  {
   "cell_type": "code",
   "execution_count": 24,
   "id": "b3a67fbe",
   "metadata": {},
   "outputs": [],
   "source": [
    "# Фильтруем датафрейм от пересечений\n",
    "interface_participants = interface_participants[\n",
    "    ~interface_participants['user_id'].isin(common_users)\n",
    "]"
   ]
  },
  {
   "cell_type": "markdown",
   "id": "GjulgSrlsqUU",
   "metadata": {
    "id": "GjulgSrlsqUU"
   },
   "source": [
    "Проанализируем данные о пользовательской активности, оставим только события, связанные с участвующими в изучаемом тесте пользователями"
   ]
  },
  {
   "cell_type": "code",
   "execution_count": 25,
   "id": "8bd5b3e1",
   "metadata": {},
   "outputs": [],
   "source": [
    "# Объединяем события с участниками теста\n",
    "interface_events = pd.merge(\n",
    "    events,\n",
    "    interface_participants,\n",
    "    on='user_id',\n",
    "    how='inner'\n",
    ")"
   ]
  },
  {
   "cell_type": "markdown",
   "id": "fBZ4DC2xswZJ",
   "metadata": {
    "id": "fBZ4DC2xswZJ"
   },
   "source": [
    "Определим горизонт анализа: рассчитаем время (лайфтайм) совершения события пользователем после регистрации и оставим только те события, которые были выполнены в течение первых семи дней с момента регистрации"
   ]
  },
  {
   "cell_type": "code",
   "execution_count": 26,
   "id": "sES4-dKts0Yb",
   "metadata": {
    "id": "sES4-dKts0Yb"
   },
   "outputs": [],
   "source": [
    "# Фильтруем события регистрации\n",
    "registrations = interface_events[interface_events['event_name'] == 'registration']\n",
    "\n",
    "# Для каждого user_id берем дату регистрации\n",
    "registration_dates = (registrations.groupby('user_id')\n",
    "                      .agg(registration_dt=('event_dt', 'min'))\n",
    "                      .reset_index())\n",
    "\n",
    "# Объединяем все события с датами регистрации\n",
    "interface_events = pd.merge(\n",
    "    interface_events,\n",
    "    registration_dates,\n",
    "    on='user_id',\n",
    "    how='inner'\n",
    ")\n",
    "\n",
    "# Рассчитываем лайфтайм в днях\n",
    "interface_events['lifetime_days'] = (\n",
    "    (interface_events['event_dt'] - interface_events['registration_dt'])\n",
    "    .dt.days\n",
    ")\n",
    "\n",
    "# Фильтруем по первым 7 дням\n",
    "first_week_events = interface_events[\n",
    "    (interface_events['lifetime_days'] >= 0) & \n",
    "    (interface_events['lifetime_days'] <= 6)\n",
    "]"
   ]
  },
  {
   "cell_type": "markdown",
   "id": "7cf1df48",
   "metadata": {},
   "source": [
    "Оценим достаточность выборки для получения статистически значимых результатов A/B-теста. Заданные параметры:\n",
    "\n",
    "- базовый показатель конверсии — 30%,\n",
    "\n",
    "- мощность теста — 80%,\n",
    "\n",
    "- достоверность теста — 95%."
   ]
  },
  {
   "cell_type": "markdown",
   "id": "fc5166ff",
   "metadata": {},
   "source": [
    "Поскольку тестируемая метрика долевая, воспользуемся калькулятором Эвана-Миллера."
   ]
  },
  {
   "cell_type": "markdown",
   "id": "3968074a",
   "metadata": {
    "id": "7ph853Xks4sy"
   },
   "source": [
    "<img src=\"data:image/png;base64,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\" alt=\"\" width=\"600\">"
   ]
  },
  {
   "cell_type": "markdown",
   "id": "8105290b",
   "metadata": {},
   "source": [
    "Размер выборки на группу составляет 3692"
   ]
  },
  {
   "cell_type": "markdown",
   "id": "56a44bb5",
   "metadata": {},
   "source": [
    "Рассчитаем для каждой группы количество посетителей, сделавших покупку, и общее количество посетителей."
   ]
  },
  {
   "cell_type": "code",
   "execution_count": 28,
   "id": "36cb7cbb",
   "metadata": {},
   "outputs": [
    {
     "name": "stdout",
     "output_type": "stream",
     "text": [
      "       total_users  purchasers  conversion_rate\n",
      "group                                          \n",
      "A             4952        1377             28.0\n",
      "B             5011        1480             30.0\n"
     ]
    }
   ],
   "source": [
    "# Для каждого пользователя определяем, была ли покупка\n",
    "user_stats = (\n",
    "    first_week_events\n",
    "    .groupby(['group', 'user_id'])\n",
    "    .agg(is_purchase=('event_name', lambda x: (x == 'purchase').any()))\n",
    "    .reset_index()\n",
    ")\n",
    "\n",
    "# Считаем пользователей по категориям\n",
    "conversion_stats = (\n",
    "    user_stats\n",
    "    .groupby('group')\n",
    "    .agg(\n",
    "        total_users=('user_id', 'count'),\n",
    "        purchasers=('is_purchase', 'sum')\n",
    "    )\n",
    ")\n",
    "\n",
    "# Считаем конверсию\n",
    "conversion_stats['conversion_rate'] = (\n",
    "    round((conversion_stats['purchasers'] / conversion_stats['total_users']) * 100) \n",
    ")\n",
    "\n",
    "# Выводим таблицу\n",
    "print(conversion_stats)"
   ]
  },
  {
   "cell_type": "markdown",
   "id": "55ef228a",
   "metadata": {
    "id": "hHTHPkJYs8mE"
   },
   "source": [
    "После изменения интерфейса конверсия в покупателя увеличилась, но меньше чем на 3 %. Однако говорить о значимых изменениях можно только после проведения статистического теста. "
   ]
  },
  {
   "cell_type": "markdown",
   "id": "IKZ1Oo3Ws919",
   "metadata": {
    "id": "IKZ1Oo3Ws919"
   },
   "source": [
    "## 3. Оценка результатов A/B-тестирования:"
   ]
  },
  {
   "cell_type": "markdown",
   "id": "dcUdBSmvtC-E",
   "metadata": {
    "id": "dcUdBSmvtC-E"
   },
   "source": [
    "Так как тестируемая метрика долевая, воспользуемся Z-тестом пропорций. Проверим, выполняется ли предпосылка Z-теста пропорций о достаточном размере выборок и сформулируем гипотезы:\n",
    "- Нулевая гипотеза H<sub>0</sub>: Доля покупателей в группе A и B не различается.\n",
    "\n",
    "- Альтернативная гипотеза H<sub>1</sub>: Доля покупателей в группе A меньше, чем в группе B, и это различие статистически значимо.\n"
   ]
  },
  {
   "cell_type": "code",
   "execution_count": 29,
   "id": "l_KOziBQtL3t",
   "metadata": {
    "id": "l_KOziBQtL3t"
   },
   "outputs": [
    {
     "name": "stdout",
     "output_type": "stream",
     "text": [
      "n_a=4952, n_b=5011\n",
      "m_a=1377, m_b=1480\n",
      "p_a=0.27806946688206785, p_b=0.29535022949511075\n",
      "Предпосылка о достаточном количестве данных выполняется!\n"
     ]
    }
   ],
   "source": [
    "n_a, n_b = conversion_stats.loc['A', 'total_users'], conversion_stats.loc['B', 'total_users'] # размеры выборок\n",
    "\n",
    "m_a = conversion_stats.loc['A', 'purchasers'] # количество успехов в группе A\n",
    "m_b = conversion_stats.loc['B', 'purchasers'] # количество успехов в группе B\n",
    "\n",
    "p_a, p_b = m_a/n_a, m_b/n_b # рассчитываем доли успехов для каждой группы: A и B\n",
    "\n",
    "print(f'n_a={n_a}, n_b={n_b}')\n",
    "\n",
    "print(f'm_a={m_a}, m_b={m_b}')\n",
    "\n",
    "print(f'p_a={p_a}, p_b={p_b}')\n",
    "\n",
    "if (p_a*n_a > 10)and((1-p_a)*n_a > 10)and(p_b*n_b > 10)and((1-p_b)*n_b > 10):\n",
    "    print('Предпосылка о достаточном количестве данных выполняется!')\n",
    "else:\n",
    "    print('Предпосылка о достаточном количестве данных НЕ выполняется!')"
   ]
  },
  {
   "cell_type": "code",
   "execution_count": 30,
   "id": "178db966",
   "metadata": {},
   "outputs": [
    {
     "name": "stdout",
     "output_type": "stream",
     "text": [
      "pvalue=0.028262547212292124 < 0.05\n",
      "Нулевая гипотеза не находит подтверждения!\n"
     ]
    }
   ],
   "source": [
    "# Устанавливаем уровень значимости\n",
    "alpha = 0.05\n",
    "\n",
    "stat_ztest, p_value_ztest = proportions_ztest(\n",
    "    [m_a, m_b],\n",
    "    [n_a, n_b],\n",
    "    alternative='smaller' # так как H_1: p_a < p_b\n",
    ")\n",
    "\n",
    "if p_value_ztest > alpha:\n",
    "    print(f'pvalue={p_value_ztest} > {alpha}')\n",
    "    print('Нулевая гипотеза находит подтверждение!')\n",
    "else:\n",
    "    print(f'pvalue={p_value_ztest} < {alpha}')\n",
    "    print('Нулевая гипотеза не находит подтверждения!')"
   ]
  },
  {
   "cell_type": "markdown",
   "id": "54bcbee4",
   "metadata": {},
   "source": [
    "Нулевая гипотеза отвергнута, а это значит, что изменение интерфейса действительно увеличило конверсию в покупку."
   ]
  },
  {
   "cell_type": "markdown",
   "id": "361d39d9",
   "metadata": {},
   "source": [
    "На основании проведённого A/B-теста наблюдается статистически значимое увеличение конверсии с 28% до 30%. Рекомендуется внедрить изменение интерфейса для всех пользователей."
   ]
  }
 ],
 "metadata": {
  "ExecuteTimeLog": [
   {
    "duration": 932,
    "start_time": "2025-05-20T08:26:09.528Z"
   },
   {
    "duration": 51,
    "start_time": "2025-05-20T08:29:59.645Z"
   },
   {
    "duration": 74,
    "start_time": "2025-05-20T08:37:02.513Z"
   },
   {
    "duration": 26,
    "start_time": "2025-05-20T08:37:52.489Z"
   },
   {
    "duration": 8,
    "start_time": "2025-05-20T08:38:56.109Z"
   },
   {
    "duration": 13,
    "start_time": "2025-05-20T08:40:02.148Z"
   },
   {
    "duration": 4,
    "start_time": "2025-05-20T08:50:14.658Z"
   },
   {
    "duration": 109,
    "start_time": "2025-05-20T08:50:25.181Z"
   },
   {
    "duration": 15,
    "start_time": "2025-05-20T08:50:59.996Z"
   },
   {
    "duration": 994,
    "start_time": "2025-05-20T08:51:30.357Z"
   },
   {
    "duration": 39,
    "start_time": "2025-05-20T08:51:31.353Z"
   },
   {
    "duration": 56,
    "start_time": "2025-05-20T08:51:31.394Z"
   },
   {
    "duration": 14,
    "start_time": "2025-05-20T08:51:31.453Z"
   },
   {
    "duration": 7,
    "start_time": "2025-05-20T08:51:31.469Z"
   },
   {
    "duration": 1923,
    "start_time": "2025-05-20T08:51:31.478Z"
   },
   {
    "duration": 13,
    "start_time": "2025-05-20T08:51:48.387Z"
   },
   {
    "duration": 8,
    "start_time": "2025-05-20T08:55:16.985Z"
   },
   {
    "duration": 7,
    "start_time": "2025-05-20T08:55:47.330Z"
   },
   {
    "duration": 6,
    "start_time": "2025-05-20T08:58:40.174Z"
   },
   {
    "duration": 8,
    "start_time": "2025-05-20T09:01:47.996Z"
   },
   {
    "duration": 12,
    "start_time": "2025-05-20T09:02:03.050Z"
   },
   {
    "duration": 15,
    "start_time": "2025-05-20T09:02:26.821Z"
   },
   {
    "duration": 9,
    "start_time": "2025-05-20T09:08:39.280Z"
   },
   {
    "duration": 9,
    "start_time": "2025-05-20T09:09:03.464Z"
   },
   {
    "duration": 6,
    "start_time": "2025-05-20T09:09:39.023Z"
   },
   {
    "duration": 5,
    "start_time": "2025-05-20T09:51:10.591Z"
   },
   {
    "duration": 590,
    "start_time": "2025-05-20T10:02:21.366Z"
   },
   {
    "duration": 113,
    "start_time": "2025-05-20T10:03:04.676Z"
   },
   {
    "duration": 380,
    "start_time": "2025-05-20T10:03:13.974Z"
   },
   {
    "duration": 3,
    "start_time": "2025-05-20T10:04:06.734Z"
   },
   {
    "duration": 360,
    "start_time": "2025-05-20T10:04:11.854Z"
   },
   {
    "duration": 350,
    "start_time": "2025-05-20T10:04:25.974Z"
   },
   {
    "duration": 477,
    "start_time": "2025-05-20T10:05:33.685Z"
   },
   {
    "duration": 12,
    "start_time": "2025-05-20T10:21:43.967Z"
   },
   {
    "duration": 143,
    "start_time": "2025-05-20T10:21:53.661Z"
   },
   {
    "duration": 17,
    "start_time": "2025-05-20T10:26:40.108Z"
   },
   {
    "duration": 8,
    "start_time": "2025-05-20T10:32:26.809Z"
   },
   {
    "duration": 5,
    "start_time": "2025-05-20T10:50:57.210Z"
   },
   {
    "duration": 4,
    "start_time": "2025-05-20T10:51:35.557Z"
   },
   {
    "duration": 38,
    "start_time": "2025-05-20T10:57:33.882Z"
   },
   {
    "duration": 22,
    "start_time": "2025-05-20T10:57:44.853Z"
   },
   {
    "duration": 14,
    "start_time": "2025-05-20T10:58:04.370Z"
   },
   {
    "duration": 15,
    "start_time": "2025-05-20T10:59:15.361Z"
   },
   {
    "duration": 15,
    "start_time": "2025-05-20T10:59:39.680Z"
   },
   {
    "duration": 14,
    "start_time": "2025-05-20T10:59:55.185Z"
   },
   {
    "duration": 6,
    "start_time": "2025-05-20T11:02:11.478Z"
   },
   {
    "duration": 10,
    "start_time": "2025-05-20T11:05:29.821Z"
   },
   {
    "duration": 11,
    "start_time": "2025-05-20T11:05:58.507Z"
   },
   {
    "duration": 12,
    "start_time": "2025-05-20T11:06:27.388Z"
   },
   {
    "duration": 1322,
    "start_time": "2025-05-20T11:06:39.459Z"
   },
   {
    "duration": 37,
    "start_time": "2025-05-20T11:06:40.783Z"
   },
   {
    "duration": 15,
    "start_time": "2025-05-20T11:06:40.822Z"
   },
   {
    "duration": 15,
    "start_time": "2025-05-20T11:06:40.840Z"
   },
   {
    "duration": 4,
    "start_time": "2025-05-20T11:06:40.861Z"
   },
   {
    "duration": 10,
    "start_time": "2025-05-20T11:06:40.867Z"
   },
   {
    "duration": 7,
    "start_time": "2025-05-20T11:06:40.880Z"
   },
   {
    "duration": 9,
    "start_time": "2025-05-20T11:06:40.889Z"
   },
   {
    "duration": 16,
    "start_time": "2025-05-20T11:06:40.900Z"
   },
   {
    "duration": 1994,
    "start_time": "2025-05-20T11:06:40.919Z"
   },
   {
    "duration": 10,
    "start_time": "2025-05-20T11:07:47.289Z"
   },
   {
    "duration": 7,
    "start_time": "2025-05-20T12:36:04.161Z"
   },
   {
    "duration": 6,
    "start_time": "2025-05-20T12:36:17.477Z"
   },
   {
    "duration": 113,
    "start_time": "2025-05-20T12:58:12.906Z"
   },
   {
    "duration": 6,
    "start_time": "2025-05-20T13:00:38.313Z"
   },
   {
    "duration": 6,
    "start_time": "2025-05-20T13:01:28.638Z"
   },
   {
    "duration": 6,
    "start_time": "2025-05-20T13:01:57.911Z"
   },
   {
    "duration": 1317,
    "start_time": "2025-05-20T13:02:20.373Z"
   },
   {
    "duration": 27,
    "start_time": "2025-05-20T13:02:21.692Z"
   },
   {
    "duration": 14,
    "start_time": "2025-05-20T13:02:21.720Z"
   },
   {
    "duration": 24,
    "start_time": "2025-05-20T13:02:21.736Z"
   },
   {
    "duration": 4,
    "start_time": "2025-05-20T13:02:21.763Z"
   },
   {
    "duration": 18,
    "start_time": "2025-05-20T13:02:21.769Z"
   },
   {
    "duration": 33,
    "start_time": "2025-05-20T13:02:21.789Z"
   },
   {
    "duration": 5,
    "start_time": "2025-05-20T13:02:21.824Z"
   },
   {
    "duration": 120,
    "start_time": "2025-05-20T13:02:21.831Z"
   },
   {
    "duration": 0,
    "start_time": "2025-05-20T13:02:21.952Z"
   },
   {
    "duration": 0,
    "start_time": "2025-05-20T13:02:21.954Z"
   },
   {
    "duration": 0,
    "start_time": "2025-05-20T13:02:21.954Z"
   },
   {
    "duration": 1336,
    "start_time": "2025-05-20T13:02:53.159Z"
   },
   {
    "duration": 26,
    "start_time": "2025-05-20T13:02:54.497Z"
   },
   {
    "duration": 14,
    "start_time": "2025-05-20T13:02:54.525Z"
   },
   {
    "duration": 23,
    "start_time": "2025-05-20T13:02:54.541Z"
   },
   {
    "duration": 16,
    "start_time": "2025-05-20T13:02:54.566Z"
   },
   {
    "duration": 18,
    "start_time": "2025-05-20T13:02:54.584Z"
   },
   {
    "duration": 8,
    "start_time": "2025-05-20T13:02:54.604Z"
   },
   {
    "duration": 28,
    "start_time": "2025-05-20T13:02:54.614Z"
   },
   {
    "duration": 150,
    "start_time": "2025-05-20T13:02:54.645Z"
   },
   {
    "duration": 0,
    "start_time": "2025-05-20T13:02:54.797Z"
   },
   {
    "duration": 0,
    "start_time": "2025-05-20T13:02:54.798Z"
   },
   {
    "duration": 0,
    "start_time": "2025-05-20T13:02:54.799Z"
   },
   {
    "duration": 11,
    "start_time": "2025-05-20T13:03:48.139Z"
   },
   {
    "duration": 6,
    "start_time": "2025-05-20T13:03:53.221Z"
   },
   {
    "duration": 7,
    "start_time": "2025-05-20T13:03:57.076Z"
   },
   {
    "duration": 1403,
    "start_time": "2025-05-20T13:04:23.253Z"
   },
   {
    "duration": 27,
    "start_time": "2025-05-20T13:04:24.660Z"
   },
   {
    "duration": 14,
    "start_time": "2025-05-20T13:04:24.689Z"
   },
   {
    "duration": 14,
    "start_time": "2025-05-20T13:04:24.705Z"
   },
   {
    "duration": 5,
    "start_time": "2025-05-20T13:04:24.722Z"
   },
   {
    "duration": 35,
    "start_time": "2025-05-20T13:04:24.728Z"
   },
   {
    "duration": 11,
    "start_time": "2025-05-20T13:04:24.766Z"
   },
   {
    "duration": 30,
    "start_time": "2025-05-20T13:04:24.779Z"
   },
   {
    "duration": 15,
    "start_time": "2025-05-20T13:04:24.811Z"
   },
   {
    "duration": 5,
    "start_time": "2025-05-20T13:04:24.830Z"
   },
   {
    "duration": 30,
    "start_time": "2025-05-20T13:04:24.837Z"
   },
   {
    "duration": 1841,
    "start_time": "2025-05-20T13:04:24.869Z"
   },
   {
    "duration": 73,
    "start_time": "2025-05-20T13:07:14.933Z"
   },
   {
    "duration": 127,
    "start_time": "2025-05-20T13:08:24.681Z"
   },
   {
    "duration": 17,
    "start_time": "2025-05-20T13:09:17.003Z"
   },
   {
    "duration": 24,
    "start_time": "2025-05-20T13:09:46.584Z"
   },
   {
    "duration": 25,
    "start_time": "2025-05-20T13:09:59.557Z"
   },
   {
    "duration": 49,
    "start_time": "2025-05-21T11:26:03.572Z"
   },
   {
    "duration": 1392,
    "start_time": "2025-05-21T11:26:13.562Z"
   },
   {
    "duration": 25,
    "start_time": "2025-05-21T11:26:14.957Z"
   },
   {
    "duration": 12,
    "start_time": "2025-05-21T11:26:14.984Z"
   },
   {
    "duration": 16,
    "start_time": "2025-05-21T11:26:14.998Z"
   },
   {
    "duration": 45,
    "start_time": "2025-05-21T11:26:15.016Z"
   },
   {
    "duration": 68,
    "start_time": "2025-05-21T11:26:15.063Z"
   },
   {
    "duration": 40,
    "start_time": "2025-05-21T11:26:15.133Z"
   },
   {
    "duration": 32,
    "start_time": "2025-05-21T11:26:15.175Z"
   },
   {
    "duration": 28,
    "start_time": "2025-05-21T11:26:15.208Z"
   },
   {
    "duration": 21,
    "start_time": "2025-05-21T11:26:15.239Z"
   },
   {
    "duration": 36,
    "start_time": "2025-05-21T11:26:15.262Z"
   },
   {
    "duration": 54,
    "start_time": "2025-05-21T11:26:15.300Z"
   },
   {
    "duration": 37,
    "start_time": "2025-05-21T11:26:15.356Z"
   },
   {
    "duration": 1738,
    "start_time": "2025-05-21T11:26:15.395Z"
   },
   {
    "duration": 4,
    "start_time": "2025-05-21T11:40:33.926Z"
   },
   {
    "duration": 12,
    "start_time": "2025-05-21T11:45:24.188Z"
   },
   {
    "duration": 9,
    "start_time": "2025-05-21T11:46:26.478Z"
   },
   {
    "duration": 10,
    "start_time": "2025-05-21T11:52:26.693Z"
   },
   {
    "duration": 1755,
    "start_time": "2025-05-21T12:30:38.743Z"
   },
   {
    "duration": 22,
    "start_time": "2025-05-21T12:33:41.071Z"
   },
   {
    "duration": 1299,
    "start_time": "2025-05-21T12:34:06.759Z"
   },
   {
    "duration": 18,
    "start_time": "2025-05-21T12:34:21.050Z"
   },
   {
    "duration": 15,
    "start_time": "2025-05-21T12:34:30.161Z"
   },
   {
    "duration": 16,
    "start_time": "2025-05-21T12:37:31.214Z"
   },
   {
    "duration": 150,
    "start_time": "2025-05-21T12:37:50.307Z"
   },
   {
    "duration": 142,
    "start_time": "2025-05-21T12:38:02.996Z"
   },
   {
    "duration": 18,
    "start_time": "2025-05-21T12:38:27.634Z"
   },
   {
    "duration": 125,
    "start_time": "2025-05-21T12:38:50.438Z"
   },
   {
    "duration": 126,
    "start_time": "2025-05-21T12:39:17.104Z"
   },
   {
    "duration": 130,
    "start_time": "2025-05-21T12:39:31.933Z"
   },
   {
    "duration": 125,
    "start_time": "2025-05-21T12:39:37.910Z"
   },
   {
    "duration": 126,
    "start_time": "2025-05-21T12:40:34.963Z"
   },
   {
    "duration": 126,
    "start_time": "2025-05-21T12:41:07.610Z"
   },
   {
    "duration": 12,
    "start_time": "2025-05-21T12:41:28.341Z"
   },
   {
    "duration": 116,
    "start_time": "2025-05-21T12:41:47.987Z"
   },
   {
    "duration": 73,
    "start_time": "2025-05-21T12:44:48.511Z"
   },
   {
    "duration": 9,
    "start_time": "2025-05-21T12:45:33.956Z"
   },
   {
    "duration": 52,
    "start_time": "2025-05-21T17:17:57.926Z"
   },
   {
    "duration": 1497,
    "start_time": "2025-05-21T17:18:07.035Z"
   },
   {
    "duration": 37,
    "start_time": "2025-05-21T17:18:08.534Z"
   },
   {
    "duration": 12,
    "start_time": "2025-05-21T17:18:08.573Z"
   },
   {
    "duration": 26,
    "start_time": "2025-05-21T17:18:08.587Z"
   },
   {
    "duration": 4,
    "start_time": "2025-05-21T17:18:08.615Z"
   },
   {
    "duration": 12,
    "start_time": "2025-05-21T17:18:08.621Z"
   },
   {
    "duration": 6,
    "start_time": "2025-05-21T17:18:08.635Z"
   },
   {
    "duration": 5,
    "start_time": "2025-05-21T17:18:08.642Z"
   },
   {
    "duration": 10,
    "start_time": "2025-05-21T17:18:08.648Z"
   },
   {
    "duration": 25,
    "start_time": "2025-05-21T17:18:08.660Z"
   },
   {
    "duration": 21,
    "start_time": "2025-05-21T17:18:08.687Z"
   },
   {
    "duration": 37,
    "start_time": "2025-05-21T17:18:08.709Z"
   },
   {
    "duration": 12,
    "start_time": "2025-05-21T17:18:08.747Z"
   },
   {
    "duration": 15,
    "start_time": "2025-05-21T17:18:08.762Z"
   },
   {
    "duration": 1667,
    "start_time": "2025-05-21T17:18:08.778Z"
   },
   {
    "duration": 14,
    "start_time": "2025-05-21T17:18:10.447Z"
   },
   {
    "duration": 32,
    "start_time": "2025-05-21T17:18:10.463Z"
   },
   {
    "duration": 125,
    "start_time": "2025-05-21T17:18:10.497Z"
   },
   {
    "duration": 69,
    "start_time": "2025-05-21T17:18:10.624Z"
   },
   {
    "duration": 73,
    "start_time": "2025-05-21T17:18:20.767Z"
   },
   {
    "duration": 171,
    "start_time": "2025-05-21T17:47:41.808Z"
   },
   {
    "duration": 12,
    "start_time": "2025-05-21T17:47:50.680Z"
   },
   {
    "duration": 10,
    "start_time": "2025-05-21T17:47:57.018Z"
   },
   {
    "duration": 8,
    "start_time": "2025-05-21T17:48:00.511Z"
   },
   {
    "duration": 4,
    "start_time": "2025-05-21T18:08:19.597Z"
   },
   {
    "duration": 8,
    "start_time": "2025-05-21T18:08:37.333Z"
   },
   {
    "duration": 6,
    "start_time": "2025-05-21T18:10:07.187Z"
   },
   {
    "duration": 10,
    "start_time": "2025-05-21T18:10:37.291Z"
   },
   {
    "duration": 13,
    "start_time": "2025-05-21T18:10:52.513Z"
   },
   {
    "duration": 5,
    "start_time": "2025-05-21T18:11:17.351Z"
   },
   {
    "duration": 8,
    "start_time": "2025-05-21T18:33:46.276Z"
   },
   {
    "duration": 66,
    "start_time": "2025-05-21T18:35:48.724Z"
   },
   {
    "duration": 8,
    "start_time": "2025-05-21T18:38:47.284Z"
   },
   {
    "duration": 4,
    "start_time": "2025-05-21T18:43:23.354Z"
   },
   {
    "duration": 9,
    "start_time": "2025-05-21T18:43:41.315Z"
   },
   {
    "duration": 7,
    "start_time": "2025-05-21T18:44:26.618Z"
   },
   {
    "duration": 8,
    "start_time": "2025-05-21T18:44:35.152Z"
   },
   {
    "duration": 10,
    "start_time": "2025-05-21T18:44:58.456Z"
   },
   {
    "duration": 18,
    "start_time": "2025-05-21T18:46:26.955Z"
   },
   {
    "duration": 8,
    "start_time": "2025-05-21T18:46:42.697Z"
   },
   {
    "duration": 9,
    "start_time": "2025-05-21T18:47:01.488Z"
   },
   {
    "duration": 10,
    "start_time": "2025-05-21T18:47:41.606Z"
   },
   {
    "duration": 9,
    "start_time": "2025-05-21T18:47:47.498Z"
   },
   {
    "duration": 9,
    "start_time": "2025-05-21T18:48:55.553Z"
   },
   {
    "duration": 5,
    "start_time": "2025-05-21T18:57:39.631Z"
   },
   {
    "duration": 7,
    "start_time": "2025-05-21T18:59:36.069Z"
   },
   {
    "duration": 1241,
    "start_time": "2025-05-21T19:00:58.500Z"
   },
   {
    "duration": 28,
    "start_time": "2025-05-21T19:00:59.743Z"
   },
   {
    "duration": 14,
    "start_time": "2025-05-21T19:00:59.772Z"
   },
   {
    "duration": 21,
    "start_time": "2025-05-21T19:00:59.790Z"
   },
   {
    "duration": 3,
    "start_time": "2025-05-21T19:00:59.813Z"
   },
   {
    "duration": 32,
    "start_time": "2025-05-21T19:00:59.818Z"
   },
   {
    "duration": 6,
    "start_time": "2025-05-21T19:00:59.852Z"
   },
   {
    "duration": 6,
    "start_time": "2025-05-21T19:00:59.859Z"
   },
   {
    "duration": 8,
    "start_time": "2025-05-21T19:00:59.867Z"
   },
   {
    "duration": 33,
    "start_time": "2025-05-21T19:00:59.878Z"
   },
   {
    "duration": 36,
    "start_time": "2025-05-21T19:00:59.913Z"
   },
   {
    "duration": 11,
    "start_time": "2025-05-21T19:00:59.951Z"
   },
   {
    "duration": 13,
    "start_time": "2025-05-21T19:00:59.963Z"
   },
   {
    "duration": 10,
    "start_time": "2025-05-21T19:00:59.977Z"
   },
   {
    "duration": 1825,
    "start_time": "2025-05-21T19:00:59.989Z"
   },
   {
    "duration": 15,
    "start_time": "2025-05-21T19:01:01.816Z"
   },
   {
    "duration": 44,
    "start_time": "2025-05-21T19:01:01.833Z"
   },
   {
    "duration": 208,
    "start_time": "2025-05-21T19:01:01.879Z"
   },
   {
    "duration": 80,
    "start_time": "2025-05-21T19:01:02.088Z"
   },
   {
    "duration": 232,
    "start_time": "2025-05-21T19:01:02.169Z"
   },
   {
    "duration": 5,
    "start_time": "2025-05-21T19:01:02.403Z"
   },
   {
    "duration": 81,
    "start_time": "2025-05-21T19:01:02.410Z"
   },
   {
    "duration": 46,
    "start_time": "2025-05-21T19:01:02.493Z"
   },
   {
    "duration": 87,
    "start_time": "2025-05-21T19:01:02.540Z"
   },
   {
    "duration": 9,
    "start_time": "2025-05-21T19:01:55.143Z"
   },
   {
    "duration": 1226,
    "start_time": "2025-05-21T19:02:34.308Z"
   },
   {
    "duration": 26,
    "start_time": "2025-05-21T19:02:35.537Z"
   },
   {
    "duration": 28,
    "start_time": "2025-05-21T19:02:35.565Z"
   },
   {
    "duration": 29,
    "start_time": "2025-05-21T19:02:35.596Z"
   },
   {
    "duration": 26,
    "start_time": "2025-05-21T19:02:35.627Z"
   },
   {
    "duration": 51,
    "start_time": "2025-05-21T19:02:35.656Z"
   },
   {
    "duration": 14,
    "start_time": "2025-05-21T19:02:35.709Z"
   },
   {
    "duration": 29,
    "start_time": "2025-05-21T19:02:35.724Z"
   },
   {
    "duration": 40,
    "start_time": "2025-05-21T19:02:35.754Z"
   },
   {
    "duration": 7,
    "start_time": "2025-05-21T19:02:35.797Z"
   },
   {
    "duration": 32,
    "start_time": "2025-05-21T19:02:35.806Z"
   },
   {
    "duration": 47,
    "start_time": "2025-05-21T19:02:35.840Z"
   },
   {
    "duration": 94,
    "start_time": "2025-05-21T19:02:35.889Z"
   },
   {
    "duration": 30,
    "start_time": "2025-05-21T19:02:35.985Z"
   },
   {
    "duration": 1696,
    "start_time": "2025-05-21T19:02:36.017Z"
   },
   {
    "duration": 14,
    "start_time": "2025-05-21T19:02:37.715Z"
   },
   {
    "duration": 41,
    "start_time": "2025-05-21T19:02:37.730Z"
   },
   {
    "duration": 143,
    "start_time": "2025-05-21T19:02:37.773Z"
   },
   {
    "duration": 73,
    "start_time": "2025-05-21T19:02:37.918Z"
   },
   {
    "duration": 182,
    "start_time": "2025-05-21T19:02:37.993Z"
   },
   {
    "duration": 5,
    "start_time": "2025-05-21T19:02:38.177Z"
   },
   {
    "duration": 53,
    "start_time": "2025-05-21T19:02:38.183Z"
   },
   {
    "duration": 55,
    "start_time": "2025-05-21T19:02:38.237Z"
   },
   {
    "duration": 14,
    "start_time": "2025-05-21T19:02:38.294Z"
   },
   {
    "duration": 39,
    "start_time": "2025-05-21T19:19:16.226Z"
   },
   {
    "duration": 165,
    "start_time": "2025-05-21T19:36:47.945Z"
   },
   {
    "duration": 1028,
    "start_time": "2025-05-21T19:37:14.395Z"
   },
   {
    "duration": 1043,
    "start_time": "2025-05-21T19:37:28.542Z"
   },
   {
    "duration": 963,
    "start_time": "2025-05-21T19:37:36.696Z"
   },
   {
    "duration": 1118,
    "start_time": "2025-05-21T19:37:44.418Z"
   },
   {
    "duration": 1465,
    "start_time": "2025-05-21T21:21:23.797Z"
   },
   {
    "duration": 28,
    "start_time": "2025-05-21T21:21:25.264Z"
   },
   {
    "duration": 11,
    "start_time": "2025-05-21T21:21:25.294Z"
   },
   {
    "duration": 10,
    "start_time": "2025-05-21T21:21:25.307Z"
   },
   {
    "duration": 4,
    "start_time": "2025-05-21T21:21:25.319Z"
   },
   {
    "duration": 9,
    "start_time": "2025-05-21T21:21:25.325Z"
   },
   {
    "duration": 4,
    "start_time": "2025-05-21T21:21:25.336Z"
   },
   {
    "duration": 41,
    "start_time": "2025-05-21T21:21:25.342Z"
   },
   {
    "duration": 11,
    "start_time": "2025-05-21T21:21:25.385Z"
   },
   {
    "duration": 6,
    "start_time": "2025-05-21T21:21:25.398Z"
   },
   {
    "duration": 5,
    "start_time": "2025-05-21T21:21:25.405Z"
   },
   {
    "duration": 16,
    "start_time": "2025-05-21T21:21:25.411Z"
   },
   {
    "duration": 7,
    "start_time": "2025-05-21T21:21:25.428Z"
   },
   {
    "duration": 9,
    "start_time": "2025-05-21T21:21:25.437Z"
   },
   {
    "duration": 1992,
    "start_time": "2025-05-21T21:21:25.482Z"
   },
   {
    "duration": 19,
    "start_time": "2025-05-21T21:21:27.477Z"
   },
   {
    "duration": 13,
    "start_time": "2025-05-21T21:21:27.497Z"
   },
   {
    "duration": 134,
    "start_time": "2025-05-21T21:21:27.511Z"
   },
   {
    "duration": 78,
    "start_time": "2025-05-21T21:21:27.647Z"
   },
   {
    "duration": 176,
    "start_time": "2025-05-21T21:21:27.726Z"
   },
   {
    "duration": 5,
    "start_time": "2025-05-21T21:21:27.904Z"
   },
   {
    "duration": 10,
    "start_time": "2025-05-21T21:21:27.911Z"
   },
   {
    "duration": 17,
    "start_time": "2025-05-21T21:21:27.923Z"
   },
   {
    "duration": 7,
    "start_time": "2025-05-21T21:21:27.942Z"
   },
   {
    "duration": 55,
    "start_time": "2025-05-21T21:21:27.951Z"
   },
   {
    "duration": 1127,
    "start_time": "2025-05-21T21:21:28.008Z"
   },
   {
    "duration": 2611,
    "start_time": "2025-05-21T21:21:50.857Z"
   },
   {
    "duration": 3,
    "start_time": "2025-05-21T21:21:58.011Z"
   },
   {
    "duration": 24,
    "start_time": "2025-05-21T21:21:58.015Z"
   },
   {
    "duration": 8,
    "start_time": "2025-05-21T21:21:58.041Z"
   },
   {
    "duration": 13,
    "start_time": "2025-05-21T21:21:58.050Z"
   },
   {
    "duration": 4,
    "start_time": "2025-05-21T21:21:58.065Z"
   },
   {
    "duration": 12,
    "start_time": "2025-05-21T21:21:58.079Z"
   },
   {
    "duration": 5,
    "start_time": "2025-05-21T21:21:58.092Z"
   },
   {
    "duration": 6,
    "start_time": "2025-05-21T21:21:58.098Z"
   },
   {
    "duration": 10,
    "start_time": "2025-05-21T21:21:58.105Z"
   },
   {
    "duration": 5,
    "start_time": "2025-05-21T21:21:58.117Z"
   },
   {
    "duration": 6,
    "start_time": "2025-05-21T21:21:58.125Z"
   },
   {
    "duration": 51,
    "start_time": "2025-05-21T21:21:58.133Z"
   },
   {
    "duration": 7,
    "start_time": "2025-05-21T21:21:58.186Z"
   },
   {
    "duration": 10,
    "start_time": "2025-05-21T21:21:58.195Z"
   },
   {
    "duration": 1538,
    "start_time": "2025-05-21T21:21:58.207Z"
   },
   {
    "duration": 14,
    "start_time": "2025-05-21T21:21:59.747Z"
   },
   {
    "duration": 19,
    "start_time": "2025-05-21T21:21:59.774Z"
   },
   {
    "duration": 131,
    "start_time": "2025-05-21T21:21:59.795Z"
   },
   {
    "duration": 82,
    "start_time": "2025-05-21T21:21:59.928Z"
   },
   {
    "duration": 148,
    "start_time": "2025-05-21T21:22:00.012Z"
   },
   {
    "duration": 19,
    "start_time": "2025-05-21T21:22:00.161Z"
   },
   {
    "duration": 18,
    "start_time": "2025-05-21T21:22:00.184Z"
   },
   {
    "duration": 10,
    "start_time": "2025-05-21T21:22:00.203Z"
   },
   {
    "duration": 36,
    "start_time": "2025-05-21T21:22:00.215Z"
   },
   {
    "duration": 57,
    "start_time": "2025-05-21T21:22:00.253Z"
   },
   {
    "duration": 816,
    "start_time": "2025-05-21T21:22:00.312Z"
   },
   {
    "duration": 1307,
    "start_time": "2025-05-21T21:22:07.752Z"
   },
   {
    "duration": 34,
    "start_time": "2025-05-21T21:22:09.061Z"
   },
   {
    "duration": 12,
    "start_time": "2025-05-21T21:22:09.096Z"
   },
   {
    "duration": 12,
    "start_time": "2025-05-21T21:22:09.109Z"
   },
   {
    "duration": 8,
    "start_time": "2025-05-21T21:22:09.123Z"
   },
   {
    "duration": 8,
    "start_time": "2025-05-21T21:22:09.132Z"
   },
   {
    "duration": 5,
    "start_time": "2025-05-21T21:22:09.141Z"
   },
   {
    "duration": 30,
    "start_time": "2025-05-21T21:22:09.148Z"
   },
   {
    "duration": 10,
    "start_time": "2025-05-21T21:22:09.183Z"
   },
   {
    "duration": 5,
    "start_time": "2025-05-21T21:22:09.196Z"
   },
   {
    "duration": 6,
    "start_time": "2025-05-21T21:22:09.202Z"
   },
   {
    "duration": 10,
    "start_time": "2025-05-21T21:22:09.209Z"
   },
   {
    "duration": 8,
    "start_time": "2025-05-21T21:22:09.220Z"
   },
   {
    "duration": 54,
    "start_time": "2025-05-21T21:22:09.229Z"
   },
   {
    "duration": 1828,
    "start_time": "2025-05-21T21:22:09.285Z"
   },
   {
    "duration": 13,
    "start_time": "2025-05-21T21:22:11.115Z"
   },
   {
    "duration": 14,
    "start_time": "2025-05-21T21:22:11.130Z"
   },
   {
    "duration": 140,
    "start_time": "2025-05-21T21:22:11.146Z"
   },
   {
    "duration": 70,
    "start_time": "2025-05-21T21:22:11.288Z"
   },
   {
    "duration": 161,
    "start_time": "2025-05-21T21:22:11.384Z"
   },
   {
    "duration": 6,
    "start_time": "2025-05-21T21:22:11.546Z"
   },
   {
    "duration": 25,
    "start_time": "2025-05-21T21:22:11.553Z"
   },
   {
    "duration": 9,
    "start_time": "2025-05-21T21:22:11.583Z"
   },
   {
    "duration": 6,
    "start_time": "2025-05-21T21:22:11.593Z"
   },
   {
    "duration": 33,
    "start_time": "2025-05-21T21:22:11.601Z"
   },
   {
    "duration": 800,
    "start_time": "2025-05-21T21:22:11.636Z"
   },
   {
    "duration": 1155,
    "start_time": "2025-05-21T22:27:44.395Z"
   },
   {
    "duration": 34,
    "start_time": "2025-05-21T22:27:45.552Z"
   },
   {
    "duration": 12,
    "start_time": "2025-05-21T22:27:45.587Z"
   },
   {
    "duration": 11,
    "start_time": "2025-05-21T22:27:45.601Z"
   },
   {
    "duration": 4,
    "start_time": "2025-05-21T22:27:45.613Z"
   },
   {
    "duration": 8,
    "start_time": "2025-05-21T22:27:45.618Z"
   },
   {
    "duration": 19,
    "start_time": "2025-05-21T22:27:45.627Z"
   },
   {
    "duration": 12,
    "start_time": "2025-05-21T22:27:45.648Z"
   },
   {
    "duration": 16,
    "start_time": "2025-05-21T22:27:45.661Z"
   },
   {
    "duration": 5,
    "start_time": "2025-05-21T22:27:45.679Z"
   },
   {
    "duration": 5,
    "start_time": "2025-05-21T22:27:45.685Z"
   },
   {
    "duration": 20,
    "start_time": "2025-05-21T22:27:45.691Z"
   },
   {
    "duration": 8,
    "start_time": "2025-05-21T22:27:45.713Z"
   },
   {
    "duration": 9,
    "start_time": "2025-05-21T22:27:45.722Z"
   },
   {
    "duration": 1587,
    "start_time": "2025-05-21T22:27:45.732Z"
   },
   {
    "duration": 14,
    "start_time": "2025-05-21T22:27:47.321Z"
   },
   {
    "duration": 12,
    "start_time": "2025-05-21T22:27:47.337Z"
   },
   {
    "duration": 133,
    "start_time": "2025-05-21T22:27:47.350Z"
   },
   {
    "duration": 69,
    "start_time": "2025-05-21T22:27:47.485Z"
   },
   {
    "duration": 176,
    "start_time": "2025-05-21T22:27:47.556Z"
   },
   {
    "duration": 5,
    "start_time": "2025-05-21T22:27:47.733Z"
   },
   {
    "duration": 7,
    "start_time": "2025-05-21T22:27:47.740Z"
   },
   {
    "duration": 25,
    "start_time": "2025-05-21T22:27:47.749Z"
   },
   {
    "duration": 5,
    "start_time": "2025-05-21T22:27:47.775Z"
   },
   {
    "duration": 169,
    "start_time": "2025-05-21T22:27:47.782Z"
   },
   {
    "duration": 88,
    "start_time": "2025-05-21T22:27:47.953Z"
   },
   {
    "duration": 181,
    "start_time": "2025-05-21T22:31:56.506Z"
   },
   {
    "duration": 101,
    "start_time": "2025-05-21T22:39:53.575Z"
   },
   {
    "duration": 1660,
    "start_time": "2025-05-21T22:40:21.619Z"
   },
   {
    "duration": 1128,
    "start_time": "2025-05-21T22:40:35.616Z"
   },
   {
    "duration": 35,
    "start_time": "2025-05-21T22:40:36.746Z"
   },
   {
    "duration": 13,
    "start_time": "2025-05-21T22:40:36.783Z"
   },
   {
    "duration": 12,
    "start_time": "2025-05-21T22:40:36.798Z"
   },
   {
    "duration": 17,
    "start_time": "2025-05-21T22:40:36.812Z"
   },
   {
    "duration": 13,
    "start_time": "2025-05-21T22:40:36.830Z"
   },
   {
    "duration": 12,
    "start_time": "2025-05-21T22:40:36.845Z"
   },
   {
    "duration": 14,
    "start_time": "2025-05-21T22:40:36.859Z"
   },
   {
    "duration": 8,
    "start_time": "2025-05-21T22:40:36.875Z"
   },
   {
    "duration": 5,
    "start_time": "2025-05-21T22:40:36.886Z"
   },
   {
    "duration": 5,
    "start_time": "2025-05-21T22:40:36.892Z"
   },
   {
    "duration": 10,
    "start_time": "2025-05-21T22:40:36.899Z"
   },
   {
    "duration": 8,
    "start_time": "2025-05-21T22:40:36.910Z"
   },
   {
    "duration": 51,
    "start_time": "2025-05-21T22:40:36.920Z"
   },
   {
    "duration": 1598,
    "start_time": "2025-05-21T22:40:36.973Z"
   },
   {
    "duration": 19,
    "start_time": "2025-05-21T22:40:38.573Z"
   },
   {
    "duration": 13,
    "start_time": "2025-05-21T22:40:38.594Z"
   },
   {
    "duration": 151,
    "start_time": "2025-05-21T22:40:38.609Z"
   },
   {
    "duration": 152,
    "start_time": "2025-05-21T22:40:38.762Z"
   },
   {
    "duration": 5,
    "start_time": "2025-05-21T22:40:38.916Z"
   },
   {
    "duration": 23,
    "start_time": "2025-05-21T22:40:38.922Z"
   },
   {
    "duration": 15,
    "start_time": "2025-05-21T22:40:38.946Z"
   },
   {
    "duration": 19,
    "start_time": "2025-05-21T22:40:38.963Z"
   },
   {
    "duration": 160,
    "start_time": "2025-05-21T22:40:38.983Z"
   },
   {
    "duration": 93,
    "start_time": "2025-05-21T22:40:39.145Z"
   },
   {
    "duration": 109,
    "start_time": "2025-05-21T22:40:39.240Z"
   },
   {
    "duration": 157,
    "start_time": "2025-05-21T22:45:03.615Z"
   },
   {
    "duration": 101,
    "start_time": "2025-05-21T22:45:11.807Z"
   },
   {
    "duration": 37,
    "start_time": "2025-05-21T22:45:23.830Z"
   },
   {
    "duration": 33,
    "start_time": "2025-05-21T22:46:10.667Z"
   },
   {
    "duration": 36,
    "start_time": "2025-05-21T22:46:34.443Z"
   },
   {
    "duration": 938,
    "start_time": "2025-05-22T08:00:37.479Z"
   },
   {
    "duration": 90,
    "start_time": "2025-05-22T08:28:02.665Z"
   },
   {
    "duration": 891,
    "start_time": "2025-05-22T08:28:16.012Z"
   },
   {
    "duration": 25,
    "start_time": "2025-05-22T08:28:16.905Z"
   },
   {
    "duration": 14,
    "start_time": "2025-05-22T08:28:16.931Z"
   },
   {
    "duration": 11,
    "start_time": "2025-05-22T08:28:16.947Z"
   },
   {
    "duration": 5,
    "start_time": "2025-05-22T08:28:16.959Z"
   },
   {
    "duration": 11,
    "start_time": "2025-05-22T08:28:16.965Z"
   },
   {
    "duration": 13,
    "start_time": "2025-05-22T08:28:16.978Z"
   },
   {
    "duration": 5,
    "start_time": "2025-05-22T08:28:16.992Z"
   },
   {
    "duration": 37,
    "start_time": "2025-05-22T08:28:16.999Z"
   },
   {
    "duration": 6,
    "start_time": "2025-05-22T08:28:17.039Z"
   },
   {
    "duration": 9,
    "start_time": "2025-05-22T08:28:17.046Z"
   },
   {
    "duration": 10,
    "start_time": "2025-05-22T08:28:17.056Z"
   },
   {
    "duration": 18,
    "start_time": "2025-05-22T08:28:17.068Z"
   },
   {
    "duration": 9,
    "start_time": "2025-05-22T08:28:17.088Z"
   },
   {
    "duration": 1607,
    "start_time": "2025-05-22T08:28:17.098Z"
   },
   {
    "duration": 14,
    "start_time": "2025-05-22T08:28:18.706Z"
   },
   {
    "duration": 30,
    "start_time": "2025-05-22T08:28:18.722Z"
   },
   {
    "duration": 183,
    "start_time": "2025-05-22T08:28:18.753Z"
   },
   {
    "duration": 185,
    "start_time": "2025-05-22T08:28:18.938Z"
   },
   {
    "duration": 11,
    "start_time": "2025-05-22T08:28:19.125Z"
   },
   {
    "duration": 27,
    "start_time": "2025-05-22T08:28:19.138Z"
   },
   {
    "duration": 39,
    "start_time": "2025-05-22T08:28:19.166Z"
   },
   {
    "duration": 12,
    "start_time": "2025-05-22T08:28:19.207Z"
   },
   {
    "duration": 161,
    "start_time": "2025-05-22T08:28:19.221Z"
   },
   {
    "duration": 111,
    "start_time": "2025-05-22T08:28:19.384Z"
   },
   {
    "duration": 1388,
    "start_time": "2025-05-22T08:28:19.497Z"
   },
   {
    "duration": 0,
    "start_time": "2025-05-22T08:28:20.887Z"
   },
   {
    "duration": 43,
    "start_time": "2025-05-22T08:29:03.571Z"
   },
   {
    "duration": 33,
    "start_time": "2025-05-22T08:31:03.083Z"
   },
   {
    "duration": 35,
    "start_time": "2025-05-22T08:31:13.627Z"
   },
   {
    "duration": 6,
    "start_time": "2025-05-22T08:34:59.133Z"
   },
   {
    "duration": 35,
    "start_time": "2025-05-22T08:35:30.259Z"
   },
   {
    "duration": 5,
    "start_time": "2025-05-22T08:38:40.573Z"
   },
   {
    "duration": 1411,
    "start_time": "2025-05-22T09:08:52.109Z"
   },
   {
    "duration": 864,
    "start_time": "2025-05-22T09:09:07.752Z"
   },
   {
    "duration": 26,
    "start_time": "2025-05-22T09:09:08.618Z"
   },
   {
    "duration": 16,
    "start_time": "2025-05-22T09:09:08.645Z"
   },
   {
    "duration": 61,
    "start_time": "2025-05-22T09:09:08.663Z"
   },
   {
    "duration": 24,
    "start_time": "2025-05-22T09:09:08.725Z"
   },
   {
    "duration": 52,
    "start_time": "2025-05-22T09:09:08.751Z"
   },
   {
    "duration": 17,
    "start_time": "2025-05-22T09:09:08.805Z"
   },
   {
    "duration": 5,
    "start_time": "2025-05-22T09:09:08.824Z"
   },
   {
    "duration": 10,
    "start_time": "2025-05-22T09:09:08.831Z"
   },
   {
    "duration": 8,
    "start_time": "2025-05-22T09:09:08.845Z"
   },
   {
    "duration": 19,
    "start_time": "2025-05-22T09:09:08.855Z"
   },
   {
    "duration": 80,
    "start_time": "2025-05-22T09:09:08.876Z"
   },
   {
    "duration": 17,
    "start_time": "2025-05-22T09:09:08.958Z"
   },
   {
    "duration": 9,
    "start_time": "2025-05-22T09:09:08.976Z"
   },
   {
    "duration": 1716,
    "start_time": "2025-05-22T09:09:08.987Z"
   },
   {
    "duration": 14,
    "start_time": "2025-05-22T09:09:10.705Z"
   },
   {
    "duration": 14,
    "start_time": "2025-05-22T09:09:10.737Z"
   },
   {
    "duration": 124,
    "start_time": "2025-05-22T09:09:10.753Z"
   },
   {
    "duration": 178,
    "start_time": "2025-05-22T09:09:10.879Z"
   },
   {
    "duration": 7,
    "start_time": "2025-05-22T09:09:11.058Z"
   },
   {
    "duration": 17,
    "start_time": "2025-05-22T09:09:11.066Z"
   },
   {
    "duration": 13,
    "start_time": "2025-05-22T09:09:11.085Z"
   },
   {
    "duration": 39,
    "start_time": "2025-05-22T09:09:11.100Z"
   },
   {
    "duration": 172,
    "start_time": "2025-05-22T09:09:11.140Z"
   },
   {
    "duration": 110,
    "start_time": "2025-05-22T09:09:11.314Z"
   },
   {
    "duration": 46,
    "start_time": "2025-05-22T09:09:11.425Z"
   },
   {
    "duration": 6,
    "start_time": "2025-05-22T09:09:11.472Z"
   },
   {
    "duration": 21,
    "start_time": "2025-05-22T09:09:11.481Z"
   },
   {
    "duration": 889,
    "start_time": "2025-05-22T10:11:08.037Z"
   },
   {
    "duration": 37,
    "start_time": "2025-05-22T10:11:08.928Z"
   },
   {
    "duration": 17,
    "start_time": "2025-05-22T10:11:08.967Z"
   },
   {
    "duration": 13,
    "start_time": "2025-05-22T10:11:08.986Z"
   },
   {
    "duration": 6,
    "start_time": "2025-05-22T10:11:09.001Z"
   },
   {
    "duration": 30,
    "start_time": "2025-05-22T10:11:09.008Z"
   },
   {
    "duration": 6,
    "start_time": "2025-05-22T10:11:09.039Z"
   },
   {
    "duration": 34,
    "start_time": "2025-05-22T10:11:09.046Z"
   },
   {
    "duration": 53,
    "start_time": "2025-05-22T10:11:09.082Z"
   },
   {
    "duration": 33,
    "start_time": "2025-05-22T10:11:09.137Z"
   },
   {
    "duration": 20,
    "start_time": "2025-05-22T10:11:09.172Z"
   },
   {
    "duration": 106,
    "start_time": "2025-05-22T10:11:09.194Z"
   },
   {
    "duration": 20,
    "start_time": "2025-05-22T10:11:09.301Z"
   },
   {
    "duration": 13,
    "start_time": "2025-05-22T10:11:09.323Z"
   },
   {
    "duration": 1605,
    "start_time": "2025-05-22T10:11:09.338Z"
   },
   {
    "duration": 15,
    "start_time": "2025-05-22T10:11:10.945Z"
   },
   {
    "duration": 30,
    "start_time": "2025-05-22T10:11:10.961Z"
   },
   {
    "duration": 141,
    "start_time": "2025-05-22T10:11:10.993Z"
   },
   {
    "duration": 164,
    "start_time": "2025-05-22T10:11:11.136Z"
   },
   {
    "duration": 5,
    "start_time": "2025-05-22T10:11:11.305Z"
   },
   {
    "duration": 17,
    "start_time": "2025-05-22T10:11:11.312Z"
   },
   {
    "duration": 10,
    "start_time": "2025-05-22T10:11:11.330Z"
   },
   {
    "duration": 8,
    "start_time": "2025-05-22T10:11:11.342Z"
   },
   {
    "duration": 180,
    "start_time": "2025-05-22T10:11:11.351Z"
   },
   {
    "duration": 100,
    "start_time": "2025-05-22T10:11:11.533Z"
   },
   {
    "duration": 111,
    "start_time": "2025-05-22T10:11:11.635Z"
   },
   {
    "duration": 36,
    "start_time": "2025-05-22T10:11:11.748Z"
   },
   {
    "duration": 6,
    "start_time": "2025-05-22T10:11:11.787Z"
   },
   {
    "duration": 7,
    "start_time": "2025-05-22T10:11:11.795Z"
   },
   {
    "duration": 63,
    "start_time": "2025-05-24T11:02:45.893Z"
   },
   {
    "duration": 876,
    "start_time": "2025-05-24T11:02:52.495Z"
   },
   {
    "duration": 25,
    "start_time": "2025-05-24T11:02:53.373Z"
   },
   {
    "duration": 15,
    "start_time": "2025-05-24T11:02:53.400Z"
   },
   {
    "duration": 12,
    "start_time": "2025-05-24T11:02:53.416Z"
   },
   {
    "duration": 6,
    "start_time": "2025-05-24T11:02:53.431Z"
   },
   {
    "duration": 7,
    "start_time": "2025-05-24T11:02:53.439Z"
   },
   {
    "duration": 26,
    "start_time": "2025-05-24T11:02:53.447Z"
   },
   {
    "duration": 5,
    "start_time": "2025-05-24T11:02:53.475Z"
   },
   {
    "duration": 10,
    "start_time": "2025-05-24T11:02:53.482Z"
   },
   {
    "duration": 7,
    "start_time": "2025-05-24T11:02:53.493Z"
   },
   {
    "duration": 5,
    "start_time": "2025-05-24T11:02:53.502Z"
   },
   {
    "duration": 8,
    "start_time": "2025-05-24T11:02:53.509Z"
   },
   {
    "duration": 8,
    "start_time": "2025-05-24T11:02:53.519Z"
   },
   {
    "duration": 10,
    "start_time": "2025-05-24T11:02:53.573Z"
   },
   {
    "duration": 2358,
    "start_time": "2025-05-24T11:02:53.585Z"
   },
   {
    "duration": 26,
    "start_time": "2025-05-24T11:02:55.945Z"
   },
   {
    "duration": 21,
    "start_time": "2025-05-24T11:02:55.973Z"
   },
   {
    "duration": 130,
    "start_time": "2025-05-24T11:02:55.996Z"
   },
   {
    "duration": 187,
    "start_time": "2025-05-24T11:02:56.128Z"
   },
   {
    "duration": 5,
    "start_time": "2025-05-24T11:02:56.317Z"
   },
   {
    "duration": 10,
    "start_time": "2025-05-24T11:02:56.323Z"
   },
   {
    "duration": 8,
    "start_time": "2025-05-24T11:02:56.335Z"
   },
   {
    "duration": 26,
    "start_time": "2025-05-24T11:02:56.345Z"
   },
   {
    "duration": 164,
    "start_time": "2025-05-24T11:02:56.372Z"
   },
   {
    "duration": 100,
    "start_time": "2025-05-24T11:02:56.538Z"
   },
   {
    "duration": 5,
    "start_time": "2025-05-24T11:02:56.640Z"
   },
   {
    "duration": 49,
    "start_time": "2025-05-24T11:02:56.647Z"
   },
   {
    "duration": 6,
    "start_time": "2025-05-24T11:02:56.697Z"
   },
   {
    "duration": 7,
    "start_time": "2025-05-24T11:02:56.704Z"
   },
   {
    "duration": 1644,
    "start_time": "2025-05-24T11:05:45.222Z"
   },
   {
    "duration": 870,
    "start_time": "2025-05-24T11:06:03.979Z"
   },
   {
    "duration": 25,
    "start_time": "2025-05-24T11:06:04.851Z"
   },
   {
    "duration": 16,
    "start_time": "2025-05-24T11:06:04.877Z"
   },
   {
    "duration": 12,
    "start_time": "2025-05-24T11:06:04.895Z"
   },
   {
    "duration": 49,
    "start_time": "2025-05-24T11:06:04.908Z"
   },
   {
    "duration": 23,
    "start_time": "2025-05-24T11:06:04.959Z"
   },
   {
    "duration": 5,
    "start_time": "2025-05-24T11:06:04.984Z"
   },
   {
    "duration": 5,
    "start_time": "2025-05-24T11:06:04.991Z"
   },
   {
    "duration": 10,
    "start_time": "2025-05-24T11:06:04.997Z"
   },
   {
    "duration": 5,
    "start_time": "2025-05-24T11:06:05.009Z"
   },
   {
    "duration": 14,
    "start_time": "2025-05-24T11:06:05.016Z"
   },
   {
    "duration": 19,
    "start_time": "2025-05-24T11:06:05.031Z"
   },
   {
    "duration": 26,
    "start_time": "2025-05-24T11:06:05.052Z"
   },
   {
    "duration": 48,
    "start_time": "2025-05-24T11:06:05.079Z"
   },
   {
    "duration": 1511,
    "start_time": "2025-05-24T11:06:05.128Z"
   },
   {
    "duration": 15,
    "start_time": "2025-05-24T11:06:06.640Z"
   },
   {
    "duration": 28,
    "start_time": "2025-05-24T11:06:06.656Z"
   },
   {
    "duration": 127,
    "start_time": "2025-05-24T11:06:06.686Z"
   },
   {
    "duration": 162,
    "start_time": "2025-05-24T11:06:06.814Z"
   },
   {
    "duration": 5,
    "start_time": "2025-05-24T11:06:06.978Z"
   },
   {
    "duration": 9,
    "start_time": "2025-05-24T11:06:06.984Z"
   },
   {
    "duration": 9,
    "start_time": "2025-05-24T11:06:06.994Z"
   },
   {
    "duration": 18,
    "start_time": "2025-05-24T11:06:07.004Z"
   },
   {
    "duration": 172,
    "start_time": "2025-05-24T11:06:07.024Z"
   },
   {
    "duration": 97,
    "start_time": "2025-05-24T11:06:07.198Z"
   },
   {
    "duration": 6,
    "start_time": "2025-05-24T11:06:07.297Z"
   },
   {
    "duration": 36,
    "start_time": "2025-05-24T11:06:07.305Z"
   },
   {
    "duration": 29,
    "start_time": "2025-05-24T11:06:07.345Z"
   },
   {
    "duration": 6,
    "start_time": "2025-05-24T11:06:07.376Z"
   },
   {
    "duration": 1936,
    "start_time": "2025-05-24T11:06:26.035Z"
   },
   {
    "duration": 873,
    "start_time": "2025-05-24T11:06:34.073Z"
   },
   {
    "duration": 24,
    "start_time": "2025-05-24T11:06:34.948Z"
   },
   {
    "duration": 16,
    "start_time": "2025-05-24T11:06:34.973Z"
   },
   {
    "duration": 11,
    "start_time": "2025-05-24T11:06:34.990Z"
   },
   {
    "duration": 5,
    "start_time": "2025-05-24T11:06:35.003Z"
   },
   {
    "duration": 9,
    "start_time": "2025-05-24T11:06:35.010Z"
   },
   {
    "duration": 5,
    "start_time": "2025-05-24T11:06:35.021Z"
   },
   {
    "duration": 46,
    "start_time": "2025-05-24T11:06:35.027Z"
   },
   {
    "duration": 9,
    "start_time": "2025-05-24T11:06:35.074Z"
   },
   {
    "duration": 39,
    "start_time": "2025-05-24T11:06:35.085Z"
   },
   {
    "duration": 11,
    "start_time": "2025-05-24T11:06:35.126Z"
   },
   {
    "duration": 10,
    "start_time": "2025-05-24T11:06:35.139Z"
   },
   {
    "duration": 17,
    "start_time": "2025-05-24T11:06:35.151Z"
   },
   {
    "duration": 9,
    "start_time": "2025-05-24T11:06:35.171Z"
   },
   {
    "duration": 1485,
    "start_time": "2025-05-24T11:06:35.181Z"
   },
   {
    "duration": 14,
    "start_time": "2025-05-24T11:06:36.671Z"
   },
   {
    "duration": 20,
    "start_time": "2025-05-24T11:06:36.687Z"
   },
   {
    "duration": 131,
    "start_time": "2025-05-24T11:06:36.709Z"
   },
   {
    "duration": 162,
    "start_time": "2025-05-24T11:06:36.842Z"
   },
   {
    "duration": 5,
    "start_time": "2025-05-24T11:06:37.006Z"
   },
   {
    "duration": 24,
    "start_time": "2025-05-24T11:06:37.012Z"
   },
   {
    "duration": 21,
    "start_time": "2025-05-24T11:06:37.037Z"
   },
   {
    "duration": 14,
    "start_time": "2025-05-24T11:06:37.060Z"
   },
   {
    "duration": 168,
    "start_time": "2025-05-24T11:06:37.076Z"
   },
   {
    "duration": 100,
    "start_time": "2025-05-24T11:06:37.245Z"
   },
   {
    "duration": 6,
    "start_time": "2025-05-24T11:06:37.347Z"
   },
   {
    "duration": 46,
    "start_time": "2025-05-24T11:06:37.355Z"
   },
   {
    "duration": 7,
    "start_time": "2025-05-24T11:06:37.403Z"
   },
   {
    "duration": 25,
    "start_time": "2025-05-24T11:06:37.411Z"
   },
   {
    "duration": 6,
    "start_time": "2025-05-24T11:16:05.011Z"
   },
   {
    "duration": 17,
    "start_time": "2025-05-24T11:16:19.209Z"
   },
   {
    "duration": 17,
    "start_time": "2025-05-24T11:16:47.202Z"
   },
   {
    "duration": 17,
    "start_time": "2025-05-24T11:16:57.779Z"
   },
   {
    "duration": 18,
    "start_time": "2025-05-24T11:17:03.881Z"
   },
   {
    "duration": 20,
    "start_time": "2025-05-24T11:17:14.119Z"
   },
   {
    "duration": 17,
    "start_time": "2025-05-24T11:17:28.115Z"
   },
   {
    "duration": 18,
    "start_time": "2025-05-24T11:17:45.881Z"
   },
   {
    "duration": 17,
    "start_time": "2025-05-24T11:17:54.192Z"
   },
   {
    "duration": 16,
    "start_time": "2025-05-24T11:43:51.589Z"
   },
   {
    "duration": 101,
    "start_time": "2025-05-24T11:44:25.606Z"
   },
   {
    "duration": 23,
    "start_time": "2025-05-24T11:44:41.782Z"
   },
   {
    "duration": 24,
    "start_time": "2025-05-24T11:44:57.371Z"
   },
   {
    "duration": 23,
    "start_time": "2025-05-24T11:45:13.837Z"
   },
   {
    "duration": 23,
    "start_time": "2025-05-24T11:45:29.123Z"
   },
   {
    "duration": 7,
    "start_time": "2025-05-24T11:49:41.086Z"
   },
   {
    "duration": 24,
    "start_time": "2025-05-24T11:53:54.226Z"
   },
   {
    "duration": 8,
    "start_time": "2025-05-24T11:59:56.238Z"
   },
   {
    "duration": 186,
    "start_time": "2025-05-24T12:03:46.768Z"
   },
   {
    "duration": 100,
    "start_time": "2025-05-24T12:04:02.350Z"
   },
   {
    "duration": 3,
    "start_time": "2025-05-24T12:04:24.069Z"
   },
   {
    "duration": 5,
    "start_time": "2025-05-24T12:04:32.043Z"
   },
   {
    "duration": 6,
    "start_time": "2025-05-24T12:04:57.181Z"
   },
   {
    "duration": 5400,
    "start_time": "2025-05-24T13:08:36.095Z"
   },
   {
    "duration": 1160,
    "start_time": "2025-05-24T13:08:49.412Z"
   },
   {
    "duration": 1155,
    "start_time": "2025-05-24T13:09:00.733Z"
   },
   {
    "duration": 1154,
    "start_time": "2025-05-24T13:12:37.863Z"
   },
   {
    "duration": 1182,
    "start_time": "2025-05-24T13:13:34.440Z"
   },
   {
    "duration": 1169,
    "start_time": "2025-05-24T13:14:03.537Z"
   },
   {
    "duration": 1194,
    "start_time": "2025-05-24T13:14:48.368Z"
   },
   {
    "duration": 895,
    "start_time": "2025-05-24T13:27:16.356Z"
   },
   {
    "duration": 35,
    "start_time": "2025-05-24T13:27:17.254Z"
   },
   {
    "duration": 15,
    "start_time": "2025-05-24T13:27:17.291Z"
   },
   {
    "duration": 14,
    "start_time": "2025-05-24T13:27:17.308Z"
   },
   {
    "duration": 10,
    "start_time": "2025-05-24T13:27:17.324Z"
   },
   {
    "duration": 9,
    "start_time": "2025-05-24T13:27:17.335Z"
   },
   {
    "duration": 27,
    "start_time": "2025-05-24T13:27:17.345Z"
   },
   {
    "duration": 6,
    "start_time": "2025-05-24T13:27:17.374Z"
   },
   {
    "duration": 12,
    "start_time": "2025-05-24T13:27:17.382Z"
   },
   {
    "duration": 6,
    "start_time": "2025-05-24T13:27:17.396Z"
   },
   {
    "duration": 7,
    "start_time": "2025-05-24T13:27:17.405Z"
   },
   {
    "duration": 19,
    "start_time": "2025-05-24T13:27:17.414Z"
   },
   {
    "duration": 37,
    "start_time": "2025-05-24T13:27:17.435Z"
   },
   {
    "duration": 9,
    "start_time": "2025-05-24T13:27:17.476Z"
   },
   {
    "duration": 117,
    "start_time": "2025-05-24T13:27:17.487Z"
   },
   {
    "duration": 0,
    "start_time": "2025-05-24T13:27:17.606Z"
   },
   {
    "duration": 0,
    "start_time": "2025-05-24T13:27:17.607Z"
   },
   {
    "duration": 0,
    "start_time": "2025-05-24T13:27:17.608Z"
   },
   {
    "duration": 0,
    "start_time": "2025-05-24T13:27:17.609Z"
   },
   {
    "duration": 0,
    "start_time": "2025-05-24T13:27:17.610Z"
   },
   {
    "duration": 0,
    "start_time": "2025-05-24T13:27:17.611Z"
   },
   {
    "duration": 0,
    "start_time": "2025-05-24T13:27:17.613Z"
   },
   {
    "duration": 0,
    "start_time": "2025-05-24T13:27:17.614Z"
   },
   {
    "duration": 0,
    "start_time": "2025-05-24T13:27:17.615Z"
   },
   {
    "duration": 0,
    "start_time": "2025-05-24T13:27:17.616Z"
   },
   {
    "duration": 0,
    "start_time": "2025-05-24T13:27:17.617Z"
   },
   {
    "duration": 0,
    "start_time": "2025-05-24T13:27:17.618Z"
   },
   {
    "duration": 0,
    "start_time": "2025-05-24T13:27:17.619Z"
   },
   {
    "duration": 0,
    "start_time": "2025-05-24T13:27:17.620Z"
   },
   {
    "duration": 0,
    "start_time": "2025-05-24T13:27:17.622Z"
   },
   {
    "duration": 914,
    "start_time": "2025-05-24T13:27:53.232Z"
   },
   {
    "duration": 36,
    "start_time": "2025-05-24T13:27:54.148Z"
   },
   {
    "duration": 15,
    "start_time": "2025-05-24T13:27:54.186Z"
   },
   {
    "duration": 13,
    "start_time": "2025-05-24T13:27:54.203Z"
   },
   {
    "duration": 4,
    "start_time": "2025-05-24T13:27:54.218Z"
   },
   {
    "duration": 9,
    "start_time": "2025-05-24T13:27:54.223Z"
   },
   {
    "duration": 5,
    "start_time": "2025-05-24T13:27:54.233Z"
   },
   {
    "duration": 34,
    "start_time": "2025-05-24T13:27:54.240Z"
   },
   {
    "duration": 10,
    "start_time": "2025-05-24T13:27:54.275Z"
   },
   {
    "duration": 15,
    "start_time": "2025-05-24T13:27:54.287Z"
   },
   {
    "duration": 5,
    "start_time": "2025-05-24T13:27:54.303Z"
   },
   {
    "duration": 10,
    "start_time": "2025-05-24T13:27:54.310Z"
   },
   {
    "duration": 8,
    "start_time": "2025-05-24T13:27:54.321Z"
   },
   {
    "duration": 39,
    "start_time": "2025-05-24T13:27:54.332Z"
   },
   {
    "duration": 103,
    "start_time": "2025-05-24T13:27:54.373Z"
   },
   {
    "duration": 0,
    "start_time": "2025-05-24T13:27:54.477Z"
   },
   {
    "duration": 0,
    "start_time": "2025-05-24T13:27:54.478Z"
   },
   {
    "duration": 0,
    "start_time": "2025-05-24T13:27:54.480Z"
   },
   {
    "duration": 0,
    "start_time": "2025-05-24T13:27:54.481Z"
   },
   {
    "duration": 0,
    "start_time": "2025-05-24T13:27:54.482Z"
   },
   {
    "duration": 0,
    "start_time": "2025-05-24T13:27:54.483Z"
   },
   {
    "duration": 0,
    "start_time": "2025-05-24T13:27:54.485Z"
   },
   {
    "duration": 0,
    "start_time": "2025-05-24T13:27:54.486Z"
   },
   {
    "duration": 0,
    "start_time": "2025-05-24T13:27:54.487Z"
   },
   {
    "duration": 0,
    "start_time": "2025-05-24T13:27:54.488Z"
   },
   {
    "duration": 0,
    "start_time": "2025-05-24T13:27:54.489Z"
   },
   {
    "duration": 0,
    "start_time": "2025-05-24T13:27:54.490Z"
   },
   {
    "duration": 0,
    "start_time": "2025-05-24T13:27:54.491Z"
   },
   {
    "duration": 0,
    "start_time": "2025-05-24T13:27:54.492Z"
   },
   {
    "duration": 0,
    "start_time": "2025-05-24T13:27:54.494Z"
   },
   {
    "duration": 6,
    "start_time": "2025-05-24T13:29:13.738Z"
   },
   {
    "duration": 854,
    "start_time": "2025-05-24T13:30:03.800Z"
   },
   {
    "duration": 38,
    "start_time": "2025-05-24T13:30:04.657Z"
   },
   {
    "duration": 16,
    "start_time": "2025-05-24T13:30:04.699Z"
   },
   {
    "duration": 40,
    "start_time": "2025-05-24T13:30:04.719Z"
   },
   {
    "duration": 29,
    "start_time": "2025-05-24T13:30:04.763Z"
   },
   {
    "duration": 10,
    "start_time": "2025-05-24T13:30:04.796Z"
   },
   {
    "duration": 5,
    "start_time": "2025-05-24T13:30:04.810Z"
   },
   {
    "duration": 16,
    "start_time": "2025-05-24T13:30:04.818Z"
   },
   {
    "duration": 30,
    "start_time": "2025-05-24T13:30:04.838Z"
   },
   {
    "duration": 20,
    "start_time": "2025-05-24T13:30:04.872Z"
   },
   {
    "duration": 21,
    "start_time": "2025-05-24T13:30:04.895Z"
   },
   {
    "duration": 11,
    "start_time": "2025-05-24T13:30:04.920Z"
   },
   {
    "duration": 19,
    "start_time": "2025-05-24T13:30:04.934Z"
   },
   {
    "duration": 15,
    "start_time": "2025-05-24T13:30:04.957Z"
   },
   {
    "duration": 7,
    "start_time": "2025-05-24T13:30:04.976Z"
   },
   {
    "duration": 1966,
    "start_time": "2025-05-24T13:30:04.984Z"
   },
   {
    "duration": 24,
    "start_time": "2025-05-24T13:30:06.952Z"
   },
   {
    "duration": 13,
    "start_time": "2025-05-24T13:30:06.979Z"
   },
   {
    "duration": 137,
    "start_time": "2025-05-24T13:30:06.993Z"
   },
   {
    "duration": 175,
    "start_time": "2025-05-24T13:30:07.133Z"
   },
   {
    "duration": 6,
    "start_time": "2025-05-24T13:30:07.310Z"
   },
   {
    "duration": 21,
    "start_time": "2025-05-24T13:30:07.318Z"
   },
   {
    "duration": 19,
    "start_time": "2025-05-24T13:30:07.341Z"
   },
   {
    "duration": 19,
    "start_time": "2025-05-24T13:30:07.362Z"
   },
   {
    "duration": 169,
    "start_time": "2025-05-24T13:30:07.383Z"
   },
   {
    "duration": 104,
    "start_time": "2025-05-24T13:30:07.554Z"
   },
   {
    "duration": 15,
    "start_time": "2025-05-24T13:30:07.660Z"
   },
   {
    "duration": 1267,
    "start_time": "2025-05-24T13:30:07.677Z"
   },
   {
    "duration": 6,
    "start_time": "2025-05-24T13:30:08.946Z"
   },
   {
    "duration": 32,
    "start_time": "2025-05-24T13:30:08.954Z"
   },
   {
    "duration": 1202,
    "start_time": "2025-05-24T13:32:09.054Z"
   },
   {
    "duration": 1163,
    "start_time": "2025-05-24T13:32:34.775Z"
   },
   {
    "duration": 0,
    "start_time": "2025-05-24T13:47:01.096Z"
   },
   {
    "duration": 602,
    "start_time": "2025-05-24T13:47:12.796Z"
   },
   {
    "duration": 6,
    "start_time": "2025-05-24T13:49:02.044Z"
   }
  ],
  "colab": {
   "provenance": [],
   "toc_visible": true
  },
  "kernelspec": {
   "display_name": "Python 3",
   "language": "python",
   "name": "python3"
  },
  "language_info": {
   "codemirror_mode": {
    "name": "ipython",
    "version": 3
   },
   "file_extension": ".py",
   "mimetype": "text/x-python",
   "name": "python",
   "nbconvert_exporter": "python",
   "pygments_lexer": "ipython3",
   "version": "3.11.3"
  },
  "toc": {
   "base_numbering": 1,
   "nav_menu": {},
   "number_sections": true,
   "sideBar": true,
   "skip_h1_title": true,
   "title_cell": "Table of Contents",
   "title_sidebar": "Contents",
   "toc_cell": false,
   "toc_position": {},
   "toc_section_display": true,
   "toc_window_display": false
  }
 },
 "nbformat": 4,
 "nbformat_minor": 5
}
